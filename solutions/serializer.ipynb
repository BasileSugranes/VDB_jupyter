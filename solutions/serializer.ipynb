{
 "cells": [
  {
   "cell_type": "markdown",
   "metadata": {},
   "source": [
    "# SERIALIZER QUICK GO THROUGH\n",
    "\n",
    "##### IFB Virtual Machine Configuration\n",
    "\n",
    "* `rootDir` points to Jupyter Home Directory\n",
    "* `projectDir` points to the Git project, holds the *tsv* file\n",
    "* `libDir` points to Git project python library with files names `go.py  stat_utils.py  uniprot.py`\n",
    "* `dataDir` points to shared data folder with uniprot and GO files"
   ]
  },
  {
   "cell_type": "code",
   "execution_count": 1,
   "metadata": {},
   "outputs": [],
   "source": [
    "import sys\n",
    "\n",
    "rootDir = \"/Users/guillaumelaunay/work/communications/lectures/UCBL/M2_bioinfo/VDB/TP/VDB_jupyter\"\n",
    "libDir = rootDir + \"/lib\"\n",
    "dataDir= \"/Users/guillaumelaunay/work/communications/lectures/UCBL/M2_bioinfo/VDB/TP/data\" \n",
    "projectDir=rootDir\n",
    "\n",
    "sys.path.append(libDir)"
   ]
  },
  {
   "cell_type": "code",
   "execution_count": 2,
   "metadata": {},
   "outputs": [],
   "source": [
    "%load_ext autoreload\n",
    "%autoreload 2"
   ]
  },
  {
   "cell_type": "code",
   "execution_count": 3,
   "metadata": {},
   "outputs": [],
   "source": [
    "import pandas, uniprot, go\n",
    "import numpy as np\n",
    "from stat_utils import computeORA\n"
   ]
  },
  {
   "cell_type": "code",
   "execution_count": 5,
   "metadata": {},
   "outputs": [],
   "source": [
    "import pandas\n",
    "df=pandas.read_csv(projectDir + \"/TCL_wt1.tsv\", delimiter =\"\\t\")\n",
    "dfClean = df[ (df['Log2 Corrected Abundance Ratio'] != '#VALEUR!') & (df['LOG10 Adj.P-val'] != '#VALEUR!')]\n",
    "dfClean = dfClean.copy()\n",
    "dfClean.loc[:,'Log2 Corrected Abundance Ratio'] = dfClean.loc[:,'Log2 Corrected Abundance Ratio'].astype(float)"
   ]
  },
  {
   "cell_type": "code",
   "execution_count": 6,
   "metadata": {},
   "outputs": [
    {
     "name": "stdout",
     "output_type": "stream",
     "text": [
      "Loading ontology\n",
      "Loaded\n",
      "Extracting biological process ontology\n",
      "Applying true path collapsing\n",
      "2194 GO terms, 3482 leaves, 1474 proteins\n"
     ]
    },
    {
     "data": {
      "text/plain": [
       "(2194, 3482, 1474)"
      ]
     },
     "execution_count": 6,
     "metadata": {},
     "output_type": "execute_result"
    }
   ],
   "source": [
    "uniprotCollection = uniprot.UniprotCollection(dataDir +\"/dataset\")\n",
    "K12 = uniprot.UniprotCollection(dataDir + \"/K12_proteome/\")\n",
    "xpProtList = dfClean['Accession'].tolist()\n",
    "print(\"Loading ontology\")\n",
    "go.setOntology(dataDir + \"/go.owl\")\n",
    "goTreeObj = go.createGoTree(ns=\"biological process\", proteinList=xpProtList, uniprotCollection=uniprotCollection)\n",
    "goTreeObj.dimensions"
   ]
  },
  {
   "cell_type": "code",
   "execution_count": 7,
   "metadata": {},
   "outputs": [
    {
     "name": "stdout",
     "output_type": "stream",
     "text": [
      "Extracting biological process ontology\n",
      "Applying true path collapsing\n",
      "2194 GO terms, 3482 leaves, 1474 proteins\n",
      "Extracting biological process ontology\n",
      "Applying true path collapsing\n",
      "2728 GO terms, 6650 leaves, 3128 proteins\n"
     ]
    }
   ],
   "source": [
    "goTreeObjExp = go.createGoTree(ns=\"biological process\", proteinList=xpProtList, uniprotCollection=uniprotCollection)\n",
    "goTreeObjRef = go.createGoTree(ns=\"biological process\", proteinList=K12.list, uniprotCollection=K12)"
   ]
  },
  {
   "cell_type": "code",
   "execution_count": 8,
   "metadata": {},
   "outputs": [
    {
     "name": "stdout",
     "output_type": "stream",
     "text": [
      "Evaluated 298 / 2194 Pathways, based on 44 proteins\n"
     ]
    }
   ],
   "source": [
    "saList = dfClean[ dfClean['Log2 Corrected Abundance Ratio'] > 0.0 ]['Accession'].tolist()\n",
    "oraScores = computeORA(goTreeObjExp, saList, goTreeObjRef)\n"
   ]
  },
  {
   "cell_type": "code",
   "execution_count": 9,
   "metadata": {},
   "outputs": [
    {
     "data": {
      "text/plain": [
       "{'ID': 'GO:0003333', 'name': 'amino acid transmembrane transport', 'eTag': ['P23173'], 'leafCount': 0, 'features': {'Fisher': 0.3619566723145079, 'Hpg': 0.36593352068646445}, 'oNode': obo.GO_0003333, 'isDAGelem': True, 'children': ['proline import across plasma membrane', 'amino acid import across plasma membrane', 'L-alpha-amino acid transmembrane transport', 'L-arginine transmembrane transport', 'amino acid export across plasma membrane', 'cysteine transmembrane transport', 'regulation of amino acid transmembrane transport']}"
      ]
     },
     "execution_count": 9,
     "metadata": {},
     "output_type": "execute_result"
    }
   ],
   "source": [
    "goTreeObjExp.getByName('amino acid transmembrane transport')"
   ]
  },
  {
   "cell_type": "code",
   "execution_count": 12,
   "metadata": {},
   "outputs": [],
   "source": [
    "import pickle\n",
    "pickableTree = goTreeObjExp.makePickable()\n",
    "with open(\"testGoTree.pkl\", 'wb') as fp:\n",
    "    pickle.dump(pickableTree, fp, protocol=pickle.HIGHEST_PROTOCOL)"
   ]
  },
  {
   "cell_type": "code",
   "execution_count": 35,
   "metadata": {},
   "outputs": [
    {
     "data": {
      "text/plain": [
       "(2194, 3482, 1474)"
      ]
     },
     "execution_count": 35,
     "metadata": {},
     "output_type": "execute_result"
    }
   ],
   "source": [
    "goTreeObjClone.dimensions"
   ]
  },
  {
   "cell_type": "code",
   "execution_count": 13,
   "metadata": {},
   "outputs": [
    {
     "data": {
      "text/plain": [
       "<go.AnnotationTree at 0x11d14fdd8>"
      ]
     },
     "execution_count": 13,
     "metadata": {},
     "output_type": "execute_result"
    }
   ],
   "source": [
    "pickableTree"
   ]
  }
 ],
 "metadata": {
  "kernelspec": {
   "display_name": "Python 3",
   "language": "python",
   "name": "python3"
  },
  "language_info": {
   "codemirror_mode": {
    "name": "ipython",
    "version": 3
   },
   "file_extension": ".py",
   "mimetype": "text/x-python",
   "name": "python",
   "nbconvert_exporter": "python",
   "pygments_lexer": "ipython3",
   "version": "3.7.3"
  }
 },
 "nbformat": 4,
 "nbformat_minor": 2
}
