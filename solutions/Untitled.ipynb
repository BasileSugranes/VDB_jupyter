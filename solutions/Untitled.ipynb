{
 "cells": [
  {
   "cell_type": "code",
   "execution_count": 3,
   "metadata": {},
   "outputs": [],
   "source": [
    "class Dummy():\n",
    "    def __init__(self):\n",
    "        self.data = [\n",
    "            [\"X\", 12, 3],\n",
    "            [\"Y\", 4, 19]\n",
    "        ]\n",
    "    def _repr_html_(self):\n",
    "        return '<h1> A glorious vizualisation</h1><ul><li>AA</li><li>BB</li></ul>'"
   ]
  },
  {
   "cell_type": "code",
   "execution_count": 4,
   "metadata": {},
   "outputs": [
    {
     "data": {
      "text/html": [
       "<h1> A glorious vizualisation</h1><ul><li>AA</li><li>BB</li></ul>"
      ],
      "text/plain": [
       "<__main__.Dummy at 0x7f18642c1be0>"
      ]
     },
     "execution_count": 4,
     "metadata": {},
     "output_type": "execute_result"
    }
   ],
   "source": [
    "Dummy()"
   ]
  }
 ],
 "metadata": {
  "kernelspec": {
   "display_name": "Python 3",
   "language": "python",
   "name": "python3"
  },
  "language_info": {
   "codemirror_mode": {
    "name": "ipython",
    "version": 3
   },
   "file_extension": ".py",
   "mimetype": "text/x-python",
   "name": "python",
   "nbconvert_exporter": "python",
   "pygments_lexer": "ipython3",
   "version": "3.7.3"
  }
 },
 "nbformat": 4,
 "nbformat_minor": 2
}
