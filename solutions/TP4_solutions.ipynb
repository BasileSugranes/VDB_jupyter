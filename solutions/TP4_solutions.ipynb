{
 "cells": [
  {
   "cell_type": "markdown",
   "metadata": {},
   "source": [
    "# Création d'un scatter plot (plus) interactif\n",
    "\n",
    "## IPYWIDGET\n",
    "\n",
    "Nous allons maitenant explorer la librarie [ipywidget](https://ipywidgets.readthedocs.io/en/latest/index.html).\n",
    "Elle permet la construction d'un interface utilisateur dans les cellules du notebook. Elle peut prendre en charge:\n",
    "* [La création d'éléments](https://ipywidgets.readthedocs.io/en/latest/examples/Widget%20List.html)(les *widgets*) comme un bouton ou un slider\n",
    "* [L'organisation des éléments](https://ipywidgets.readthedocs.io/en/latest/examples/Layout%20Templates.html) dans la cellule d'affichage de Jupyter\n",
    "* L'expression de lien entres éléments et figure matplotlib pour permettre d'interagire avec ces images.\n",
    "\n",
    "L'objectif est de fournir ici une introduction à ce module. Une description plus complète devra être consultée [ici](https://ipywidgets.readthedocs.io/en/latest/)."
   ]
  },
  {
   "cell_type": "code",
   "execution_count": 1,
   "metadata": {},
   "outputs": [],
   "source": [
    "%matplotlib widget"
   ]
  },
  {
   "cell_type": "markdown",
   "metadata": {},
   "source": [
    "### Quelques exemples de widgets\n",
    "Jupyter fournit un grand nombre de [widgets](https://ipywidgets.readthedocs.io/en/stable/examples/Widget%20List.html) pour permettre la selection et l'affichage de valeurs ou selection de variables. "
   ]
  },
  {
   "cell_type": "markdown",
   "metadata": {},
   "source": [
    "#### widget simple"
   ]
  },
  {
   "cell_type": "code",
   "execution_count": 5,
   "metadata": {},
   "outputs": [
    {
     "data": {
      "application/vnd.jupyter.widget-view+json": {
       "model_id": "",
       "version_major": 2,
       "version_minor": 0
      },
      "text/plain": [
       "IntSlider(value=0)"
      ]
     },
     "metadata": {},
     "output_type": "display_data"
    }
   ],
   "source": [
    "#import ipywidgets as widgets\n",
    "import ipywidgets \n",
    "from IPython.display import display\n",
    "w = ipywidgets.IntSlider()\n",
    "display(w)"
   ]
  },
  {
   "cell_type": "markdown",
   "metadata": {},
   "source": [
    "#### widgets combinés"
   ]
  },
  {
   "cell_type": "code",
   "execution_count": 6,
   "metadata": {},
   "outputs": [
    {
     "data": {
      "application/vnd.jupyter.widget-view+json": {
       "model_id": "",
       "version_major": 2,
       "version_minor": 0
      },
      "text/plain": [
       "FloatText(value=0.0)"
      ]
     },
     "metadata": {},
     "output_type": "display_data"
    },
    {
     "data": {
      "application/vnd.jupyter.widget-view+json": {
       "model_id": "",
       "version_major": 2,
       "version_minor": 0
      },
      "text/plain": [
       "FloatSlider(value=0.0)"
      ]
     },
     "metadata": {},
     "output_type": "display_data"
    }
   ],
   "source": [
    "a = ipywidgets.FloatText()\n",
    "b = ipywidgets.FloatSlider()\n",
    "display(a,b)\n",
    "\n",
    "mylink = ipywidgets.jslink((a, 'value'), (b, 'value'))"
   ]
  },
  {
   "cell_type": "markdown",
   "metadata": {},
   "source": [
    "#### Inférence du widget avec interact\n",
    "On peut se passer d'un construteur et demander à Jupyter d'inférer le widget adapté à une variable. Pour ce faire, on passera cette variable en paramètre de la fonction **interact**, dans ce cas un nombre *w* flottant. Dans le corps de la fonction *update*, on va spécifier les actions à effectuer lorsque l'état du widget change, ici modifier une figure."
   ]
  },
  {
   "cell_type": "code",
   "execution_count": 7,
   "metadata": {},
   "outputs": [
    {
     "data": {
      "application/vnd.jupyter.widget-view+json": {
       "model_id": "",
       "version_major": 2,
       "version_minor": 0
      },
      "text/plain": [
       "Canvas(toolbar=Toolbar(toolitems=[('Home', 'Reset original view', 'home', 'home'), ('Back', 'Back to previous …"
      ]
     },
     "metadata": {},
     "output_type": "display_data"
    },
    {
     "data": {
      "application/vnd.jupyter.widget-view+json": {
       "model_id": "",
       "version_major": 2,
       "version_minor": 0
      },
      "text/plain": [
       "interactive(children=(FloatSlider(value=1.0, description='w', max=3.0, min=-1.0), Output()), _dom_classes=('wi…"
      ]
     },
     "metadata": {},
     "output_type": "display_data"
    }
   ],
   "source": [
    "from ipywidgets import interact\n",
    "import numpy as np\n",
    "import matplotlib.pyplot as plt\n",
    "\n",
    "x = np.linspace(0, 2 * np.pi)\n",
    "fig = plt.figure()\n",
    "# Set to True to display figure toolbar\n",
    "fig.canvas.toolbar_visible=False\n",
    "ax = fig.add_subplot(1, 1, 1)\n",
    "line, = ax.plot(x, np.sin(x))\n",
    "\n",
    "def update(w = 1.0):\n",
    "    line.set_ydata(np.sin(w * x))\n",
    "    fig.canvas.draw_idle()\n",
    "\n",
    "interact(update);"
   ]
  },
  {
   "cell_type": "markdown",
   "metadata": {},
   "source": [
    "Jupyter construit le widget adapté au paramètre de la fonction interact. Ici une liste."
   ]
  },
  {
   "cell_type": "code",
   "execution_count": 8,
   "metadata": {},
   "outputs": [
    {
     "data": {
      "application/vnd.jupyter.widget-view+json": {
       "model_id": "",
       "version_major": 2,
       "version_minor": 0
      },
      "text/plain": [
       "Canvas(toolbar=Toolbar(toolitems=[('Home', 'Reset original view', 'home', 'home'), ('Back', 'Back to previous …"
      ]
     },
     "metadata": {},
     "output_type": "display_data"
    },
    {
     "data": {
      "application/vnd.jupyter.widget-view+json": {
       "model_id": "",
       "version_major": 2,
       "version_minor": 0
      },
      "text/plain": [
       "interactive(children=(Dropdown(description='w', options=(1, 3, 6), value=1), Output()), _dom_classes=('widget-…"
      ]
     },
     "metadata": {},
     "output_type": "display_data"
    }
   ],
   "source": [
    "x = np.linspace(0, 2 * np.pi)\n",
    "fig = plt.figure()\n",
    "fig.canvas.toolbar_visible=False\n",
    "ax = fig.add_subplot(1, 1, 1)\n",
    "line, = ax.plot(x, np.sin(x))\n",
    "\n",
    "def update(w=[1,3,6]):\n",
    "    line.set_ydata(np.sin(w * x))\n",
    "    fig.canvas.draw_idle()\n",
    "\n",
    "interact(update);"
   ]
  },
  {
   "cell_type": "markdown",
   "metadata": {},
   "source": [
    "**Interact** peut aussi prendre en argument un **widget construit explicitement**. Ainsi, l'exemple suivant se comportera de manière identique au précédent."
   ]
  },
  {
   "cell_type": "code",
   "execution_count": 9,
   "metadata": {},
   "outputs": [
    {
     "data": {
      "application/vnd.jupyter.widget-view+json": {
       "model_id": "",
       "version_major": 2,
       "version_minor": 0
      },
      "text/plain": [
       "Canvas(toolbar=Toolbar(toolitems=[('Home', 'Reset original view', 'home', 'home'), ('Back', 'Back to previous …"
      ]
     },
     "metadata": {},
     "output_type": "display_data"
    },
    {
     "data": {
      "application/vnd.jupyter.widget-view+json": {
       "model_id": "",
       "version_major": 2,
       "version_minor": 0
      },
      "text/plain": [
       "interactive(children=(Dropdown(description='Number:', options=(1, 3, 6), value=1), Output()), _dom_classes=('w…"
      ]
     },
     "metadata": {},
     "output_type": "display_data"
    },
    {
     "data": {
      "text/plain": [
       "<function __main__.update(w=Dropdown(description='Number:', options=(1, 3, 6), value=1))>"
      ]
     },
     "execution_count": 9,
     "metadata": {},
     "output_type": "execute_result"
    }
   ],
   "source": [
    "wDrop = ipywidgets.Dropdown(\n",
    "    options=[1,3,6],\n",
    "    value=1,\n",
    "    description='Number:',\n",
    "    disabled=False,\n",
    ")\n",
    "\n",
    "x = np.linspace(0, 2 * np.pi)\n",
    "fig = plt.figure()\n",
    "fig.canvas.toolbar_visible=False\n",
    "ax = fig.add_subplot(1, 1, 1)\n",
    "line, = ax.plot(x, np.sin(x))\n",
    "\n",
    "def update(w=wDrop):\n",
    "    line.set_ydata(np.sin(w * x))\n",
    "    fig.canvas.draw_idle()\n",
    "\n",
    "interact(update)"
   ]
  },
  {
   "cell_type": "markdown",
   "metadata": {},
   "source": [
    "## Contrôle des widgets\n",
    "\n",
    "Le modèle de widgets de Jupyter permet de controler précisement leurs apparence et leurs dispositions.\n",
    "\n",
    "L'apparence d'un widget est controlée par son attribut **style**.\n",
    "```python\n",
    "b1 = Button(description='Custom color')\n",
    "b1.style.button_color = 'lightgreen'\n",
    "b1\n",
    "```\n",
    "\n",
    "![caption](../figs/wstyle.png)\n",
    "Ces attributs ne sont pas des termes CSS mais leurs émulations python. Pour connaitre la liste des attributs de style d'un widget on procédera ainsi:\n",
    "```python\n",
    "b1.style.keys\n",
    "\n",
    "['_model_module',\n",
    " '_model_module_version',\n",
    " '_model_name',\n",
    " '_view_count',\n",
    " '_view_module',\n",
    " '_view_module_version',\n",
    " '_view_name',\n",
    " 'button_color',\n",
    " 'font_weight']\n",
    "```\n",
    "\n",
    "A noter que les attributs style peuvent être définis de façon equivalente à la construction.\n",
    "```python\n",
    "b1 = Button(description='Custom color',style=ButtonStyle(button_color='lightgreen'))\n",
    "b1\n",
    "```\n",
    "![caption](../figs/wstyle.png)\n",
    "\n",
    "## Disposition spatiale des widgets\n",
    "\n",
    "Le positionnement individuel des widgets est contrôlé par le paramètre **layout**. Exemple de  création d'un bouton de hauteur et largeur 80px.\n",
    "```python\n",
    " b=Button(description='my awesome button',\n",
    "           layout=Layout(width='50%', height='80px'))\n",
    "```\n",
    "L'ensemble des valeurs de positionnement est accessible de manière analogue aux valeurs de **style**.\n",
    "```python\n",
    "b1.layout.keys\n",
    "[ ...\n",
    " 'align_content',\n",
    " 'align_items',\n",
    " 'align_self',\n",
    " 'border',\n",
    " 'bottom',\n",
    " 'display',\n",
    " ...\n",
    " 'overflow_x',\n",
    " 'overflow_y',\n",
    " 'padding',\n",
    " 'right',\n",
    " 'top',\n",
    " 'visibility',\n",
    " 'width']\n",
    "```\n",
    "\n",
    "L'organisation de plusieurs widgets peut être [contrôlée à bas niveau](https://ipywidgets.readthedocs.io/en/stable/examples/Widget%20Styling.html#The-Flexbox-layout) par les classes `Hbox` et `Vbox`. Cependant, pour les besoins de ce TP, nous leurs préférerons les trois méthodes suivantes, de plus \"haut niveau\".\n",
    "\n",
    "#### GridBox\n",
    "Cette méthode est une implémentation python de [l'affichage en grille de CSS](https://css-tricks.com/snippets/css/complete-guide-grid/). Elle est illustrée dans l'exemple ci-dessous\n",
    "```python\n",
    "from ipywidgets import Button, GridBox, Layout, ButtonStyle\n",
    "header  = Button(description='Header',\n",
    "                 layout=Layout(width='auto', grid_area='header'),\n",
    "                 style=ButtonStyle(button_color='lightblue'))\n",
    "main    = Button(description='Main',\n",
    "                 layout=Layout(width='auto', grid_area='main'),\n",
    "                 style=ButtonStyle(button_color='moccasin'))\n",
    "sidebar = Button(description='Sidebar',\n",
    "                 layout=Layout(width='auto', grid_area='sidebar'),\n",
    "                 style=ButtonStyle(button_color='salmon'))\n",
    "footer  = Button(description='Footer',\n",
    "                 layout=Layout(width='auto', grid_area='footer'),\n",
    "                 style=ButtonStyle(button_color='olive'))\n",
    "\n",
    "GridBox(children=[header, main, sidebar, footer],\n",
    "        layout=Layout(\n",
    "            width='50%',\n",
    "            grid_template_rows='auto auto auto',\n",
    "            grid_template_columns='25% 25% 25% 25%',\n",
    "            grid_template_areas='''\n",
    "            \"header header header header\"\n",
    "            \"main main . sidebar \"\n",
    "            \"footer footer footer footer\"\n",
    "            ''')\n",
    "       )\n",
    "```\n",
    "![caption](../figs/gridbox.png)\n",
    "\n",
    "#### AppLayout\n",
    "D'utilsation plus simple, [cette méthode](https://ipywidgets.readthedocs.io/en/stable/examples/Layout%20Templates.html) propose  une disposition en header, footer, panneau central et barres latérales.\n",
    "\n",
    "```python\n",
    "from ipywidgets import AppLayout, Button, Layout\n",
    "def create_expanded_button(description, button_style):\n",
    "    return Button(description=description, button_style=button_style, layout=Layout(height='auto', width='auto'))\n",
    "\n",
    "header_button = create_expanded_button('Header', 'success')\n",
    "left_button = create_expanded_button('Left', 'info')\n",
    "center_button = create_expanded_button('Center', 'warning')\n",
    "right_button = create_expanded_button('Right', 'info')\n",
    "footer_button = create_expanded_button('Footer', 'success')\n",
    "\n",
    "AppLayout(header=header_button,\n",
    "          left_sidebar=left_button,\n",
    "          center=center_button,\n",
    "          right_sidebar=right_button,\n",
    "          footer=footer_button)\n",
    "```\n",
    "![caption](../figs/applayout.png)\n",
    "\n",
    "#### Grid Layout\n",
    "Cette [méthode](https://ipywidgets.readthedocs.io/en/stable/examples/Layout%20Templates.html#Grid-layout) permet une grande flexibilité des dispositions dans une grille N par M.\n",
    "\n",
    "```python\n",
    "from ipywidgets import AppLayout, Button, Layout\n",
    "def create_expanded_button(description, button_style):\n",
    "    return Button(description=description, button_style=button_style, layout=Layout(height='auto', width='auto'))\n",
    "\n",
    "grid = GridspecLayout(4, 3, height='300px')\n",
    "grid[:, 0] = create_expanded_button('Do', 'info')\n",
    "grid[:3, 1:] = create_expanded_button('You', 'success')\n",
    "grid[3, 1] = create_expanded_button('Like', 'warning')\n",
    "grid[3, 2] = create_expanded_button('Widgets', 'danger')\n",
    "grid\n",
    "```\n",
    "![caption](../figs/gridlayout.png)"
   ]
  },
  {
   "cell_type": "markdown",
   "metadata": {},
   "source": [
    "### Disposition de figure et widget\n",
    "Afin de combiner controles (les widgets) et vues (les figures) nous allons emballer les figures dans un conteneur *Output* qui permettra à nos figures d'exposer une API de widgets.\n",
    "Nous disposerons ensuite ces conteneurs de figures comme de simples widgets !\n",
    "\n",
    "##### Le conteneur Ouput\n",
    "\n",
    "Ce widget capture l'affichage d'une cellule Jupyter.\n",
    "On créé d'abord un widget de type Output,remarquez l'utilisation du paramètre layout "
   ]
  },
  {
   "cell_type": "code",
   "execution_count": 2,
   "metadata": {},
   "outputs": [],
   "source": [
    "import ipywidgets\n",
    "import numpy as np\n",
    "import matplotlib.pyplot as plt"
   ]
  },
  {
   "cell_type": "code",
   "execution_count": 4,
   "metadata": {},
   "outputs": [
    {
     "data": {
      "application/vnd.jupyter.widget-view+json": {
       "model_id": "91b1e413b8194706a772eb185385aa17",
       "version_major": 2,
       "version_minor": 0
      },
      "text/plain": [
       "Output(layout=Layout(border='1px solid black'))"
      ]
     },
     "metadata": {},
     "output_type": "display_data"
    }
   ],
   "source": [
    "out = ipywidgets.Output(layout={'border': '1px solid black'})\n",
    "out"
   ]
  },
  {
   "cell_type": "markdown",
   "metadata": {},
   "source": [
    "Après la création du widget *Output* celui-ci est utilisé comme \"*context manager*\" dans lequel tout affichage sera capturé. Evaluez la cellule suivante et observé le résultat.\n",
    "Attention les contenus s'accumule dans un widget Ouput. On effacera son contenu avec la méthode `clear_output()`."
   ]
  },
  {
   "cell_type": "code",
   "execution_count": 5,
   "metadata": {},
   "outputs": [],
   "source": [
    "with out:\n",
    "    for i in range(10):\n",
    "        print(i, 'Hello world!')"
   ]
  },
  {
   "cell_type": "markdown",
   "metadata": {},
   "source": [
    "Puisque tout affichage jupyter peut être capturé dans un ouptut on peut bien sur y mettre nos figures. Evaluez les cellules suivantes et observez le résultat."
   ]
  },
  {
   "cell_type": "code",
   "execution_count": 6,
   "metadata": {},
   "outputs": [
    {
     "data": {
      "application/vnd.jupyter.widget-view+json": {
       "model_id": "4aef62516c16443cbf3ba481477dc5a8",
       "version_major": 2,
       "version_minor": 0
      },
      "text/plain": [
       "Output(layout=Layout(border='1px solid green'))"
      ]
     },
     "metadata": {},
     "output_type": "display_data"
    }
   ],
   "source": [
    "out2 = ipywidgets.Output(layout={'border': '1px solid green'})\n",
    "out2"
   ]
  },
  {
   "cell_type": "code",
   "execution_count": 11,
   "metadata": {},
   "outputs": [],
   "source": [
    "import numpy as np\n",
    "out2.clear_output()\n",
    "x, y, = np.random.rand(2, 25)\n",
    "with out2:\n",
    "    fig = plt.figure()\n",
    "    fig.canvas.toolbar_visible=False\n",
    "    ax1 = fig.add_subplot(111)\n",
    "    col = ax1.scatter(x, y)"
   ]
  },
  {
   "cell_type": "markdown",
   "metadata": {},
   "source": [
    "### Une première application intégrant un scatter plot\n",
    "On peut donc désormais \n",
    "1. Créer des widgets de contrôle\n",
    "2. Creer des figures et les capturer dans des widgets outputs\n",
    "3. Définir les interactions contrôle-figures\n",
    "4. Disposer ces éléments dans le layout de notre choix.\n",
    "\n",
    "Un exemple ci dessous avec deux boutons et le scatter plot ci-dessus."
   ]
  },
  {
   "cell_type": "markdown",
   "metadata": {},
   "source": [
    "#### 1. Créer des widgets de contrôle"
   ]
  },
  {
   "cell_type": "code",
   "execution_count": null,
   "metadata": {},
   "outputs": [],
   "source": [
    "from ipywidgets import Button, ButtonStyle, Layout\n",
    "bLeft = Button(description=\"<<\", style=ButtonStyle(button_color='red'), layout=Layout(height='auto', width='auto'))\n",
    "bRight =  Button(description=\">>\", style=ButtonStyle(button_color='green'), layout=Layout(height='auto', width='auto'))"
   ]
  },
  {
   "cell_type": "markdown",
   "metadata": {},
   "source": [
    "#### 2. Creer des figures et les capturer dans des widgets outputs"
   ]
  },
  {
   "cell_type": "code",
   "execution_count": 16,
   "metadata": {},
   "outputs": [
    {
     "data": {
      "application/vnd.jupyter.widget-view+json": {
       "model_id": "1d076608c9d84804aff3ed9b2f5fa671",
       "version_major": 2,
       "version_minor": 0
      },
      "text/plain": [
       "Output(layout=Layout(border='1px solid cyan'))"
      ]
     },
     "metadata": {},
     "output_type": "display_data"
    }
   ],
   "source": [
    "from ipywidgets import Output\n",
    "outCenter = Output(layout={'border': '1px solid cyan'})\n",
    "outCenter"
   ]
  },
  {
   "cell_type": "code",
   "execution_count": 17,
   "metadata": {},
   "outputs": [],
   "source": [
    "import numpy as np\n",
    "x, y, = np.random.rand(2, 25)\n",
    "\n",
    "with outCenter:\n",
    "    fig = plt.figure()\n",
    "    fig.canvas.toolbar_visible=False\n",
    "    ax1 = fig.add_subplot(111)\n",
    "    col = ax1.scatter(x, y)"
   ]
  },
  {
   "cell_type": "markdown",
   "metadata": {},
   "source": [
    "#### 3. Définir les interactions contrôle-figures"
   ]
  },
  {
   "cell_type": "code",
   "execution_count": 18,
   "metadata": {},
   "outputs": [],
   "source": [
    "def updateLeft(bLeft):\n",
    "    col.set_color( [ 'tab:red' for  _ in x ] )\n",
    "\n",
    "def updateRight(bLeft):\n",
    "    col.set_color( [ 'tab:green' for  _ in x ] )\n",
    "\n",
    "bLeft.on_click(updateLeft)\n",
    "bRight.on_click(updateRight)"
   ]
  },
  {
   "cell_type": "markdown",
   "metadata": {},
   "source": [
    "#### 4. Disposer ces éléments dans le layout de notre choix."
   ]
  },
  {
   "cell_type": "code",
   "execution_count": 19,
   "metadata": {},
   "outputs": [
    {
     "data": {
      "application/vnd.jupyter.widget-view+json": {
       "model_id": "566dc20c50d749f496500034a613c597",
       "version_major": 2,
       "version_minor": 0
      },
      "text/plain": [
       "AppLayout(children=(Button(description='<<', layout=Layout(grid_area='left-sidebar', height='auto', width='aut…"
      ]
     },
     "metadata": {},
     "output_type": "display_data"
    }
   ],
   "source": [
    "app=AppLayout(header    = None,\n",
    "          left_sidebar  = bLeft,\n",
    "          center        = outCenter,\n",
    "          right_sidebar = bRight,\n",
    "          footer        = None)\n",
    "\n",
    "app"
   ]
  },
  {
   "cell_type": "markdown",
   "metadata": {},
   "source": [
    "## Construisons un Volcano plot interactif\n",
    "\n",
    "Nous pouvons desormais construire un volcano plot interactif avec les spécifications suivantes:\n",
    "* un widget contiendrait la liste des pathway\n",
    "    * une interaction avec la liste mettra en évidence les protéines de ce pathway\n",
    "    * une interaction avec plusieurs éléments de la liste mettra en évidence les protéines de ces pathways\n",
    "* un slider permettant de modifier l'échelle en abscisse\n",
    "* un switch permettrait d'augmenter la taille des protéines impliquées dans des pathways à faible p-value\n",
    "\n",
    "A vous de jouer en proposant une interface combinant certains ou la totalité des widgets ou encore d'en proposer d'autres.\n",
    "\n",
    "Si vous en ressentez le besoin vous pouvez suivre les étapes suivantes. Sinon, vous êtes libre de procéder comme bon vous semble avec l'aide de l'encadrant."
   ]
  },
  {
   "cell_type": "markdown",
   "metadata": {},
   "source": [
    "## 1° Avant de commencer"
   ]
  },
  {
   "cell_type": "code",
   "execution_count": 31,
   "metadata": {},
   "outputs": [],
   "source": [
    "import sys\n",
    "\n",
    "rootDir = \"//ifb/data/mydatalocal\"\n",
    "projectDir = rootDir + \"/VDBscratch\"\n",
    "libDir = projectDir + \"/lib\"\n",
    "dataDir= \"/ifb/data/public/teachdata/m2binf_ucbl/data\" \n",
    "\n",
    "sys.path.append(libDir)"
   ]
  },
  {
   "cell_type": "markdown",
   "metadata": {},
   "source": [
    "##### Lecture des abondance et p-value des protéines\n",
    "\n",
    "on obtiendra:\n",
    "* `saList` : la liste des protéines sur-exprimées\n",
    "* `allList` : la liste de toutes les protéines mesurées\n",
    "* `p-value` : la liste des p-value des protéines\n",
    "* `abundance` : l'abondance des des protéines\n",
    "\n",
    "Les informations relatives à une protéine sont accessibles au même indice dans les listes `allList`, `p-value` et `abundance`."
   ]
  },
  {
   "cell_type": "code",
   "execution_count": 32,
   "metadata": {},
   "outputs": [],
   "source": [
    "import pandas\n",
    "df=pandas.read_csv(projectDir + \"/TCL_wt1.tsv\", delimiter =\"\\t\")\n",
    "\n",
    "dfClean = df[ (df['Log2 Corrected Abundance Ratio'] != '#VALEUR!') & (df['LOG10 Adj.P-val'] != '#VALEUR!')]\n",
    "dfClean = dfClean.copy()\n",
    "dfClean.loc[:,'Log2 Corrected Abundance Ratio'] = dfClean.loc[:,'Log2 Corrected Abundance Ratio'].astype(float)\n",
    "dfClean.loc[:,'LOG10 Adj.P-val'] = dfClean.loc[:,'LOG10 Adj.P-val'].astype(float)\n",
    "\n",
    "\n",
    "saList = dfClean[ dfClean['Log2 Corrected Abundance Ratio'] > 0.0 ]['Accession'].tolist()\n",
    "allList = dfClean[ : ]['Accession'].tolist()\n",
    "pvalue = dfClean[ : ]['LOG10 Adj.P-val'].tolist()\n",
    "abundance = dfClean[ : ]['Log2 Corrected Abundance Ratio'].tolist()"
   ]
  },
  {
   "cell_type": "markdown",
   "metadata": {},
   "source": [
    "##### Lecture des résultats de l'analyse d'enrichissement en pathway du TP2\n",
    "Inspecter le dictionnaire pour vous refamilliariser avec sa structure."
   ]
  },
  {
   "cell_type": "code",
   "execution_count": 21,
   "metadata": {},
   "outputs": [],
   "source": [
    "import json\n",
    "pathData = {}\n",
    "with open('/ifb/data/mydatalocal/VDB_jupyter/solutions/TP_ORA.json', 'r') as fp:\n",
    "    pathData = json.load(fp)"
   ]
  },
  {
   "cell_type": "markdown",
   "metadata": {},
   "source": [
    "### Elements du scatter plot\n",
    "\n",
    "#### Visualisation des abondances et Pathway pour chaque protéine\n",
    "Nous allons représenter la relation entre l'abondance des protéines (**Log2 Corrected Abundance Ratio**)  et la précision de la mesure (**LOG10 Adj.P-val**). \n",
    "###### Creation du scatter plot\n",
    "[matplotlib.axes.Axes.scatter()](https://matplotlib.org/3.1.1/api/_as_gen/matplotlib.axes.Axes.scatter.html) permet d'intialiser le graphique.\n",
    "###### Modification continue du scatter plot\n",
    "Mais cette fonction retourne aussi un objet [PathCollection](https://matplotlib.org/3.1.1/api/collections_api.html) qui permet de modifier à posteriori le rendu des points du scatter plot."
   ]
  },
  {
   "cell_type": "markdown",
   "metadata": {},
   "source": [
    "### 2° Création de widgets\n",
    "Afficher deux widgets construits à partir de la liste de pathway analysés:\n",
    "* [`SelectMultiple`](https://ipywidgets.readthedocs.io/en/latest/examples/Widget%20List.html#SelectMultiple)\n",
    "* [`Dropdown`](https://ipywidgets.readthedocs.io/en/latest/examples/Widget%20List.html#Dropdown)\n",
    "\n",
    "Afficher un ou plusieurs widgets controlant la plage de valeurs d'abondance à représenter sur le volcano plot\n",
    "* [`Numeric-widgets`](https://ipywidgets.readthedocs.io/en/latest/examples/Widget%20List.html#Numeric-widgets)"
   ]
  },
  {
   "cell_type": "code",
   "execution_count": 23,
   "metadata": {},
   "outputs": [
    {
     "data": {
      "application/vnd.jupyter.widget-view+json": {
       "model_id": "752440f0475c4472b76b81ed508b782f",
       "version_major": 2,
       "version_minor": 0
      },
      "text/plain": [
       "SelectMultiple(description='GO pathways', options=('ion transmembrane transport', 'L-glutamate transmembrane t…"
      ]
     },
     "metadata": {},
     "output_type": "display_data"
    }
   ],
   "source": [
    "ipywidgets.SelectMultiple(\n",
    "    options=list(pathData.keys()),\n",
    "    description='GO pathways',\n",
    "    disabled=False\n",
    ")"
   ]
  },
  {
   "cell_type": "code",
   "execution_count": 25,
   "metadata": {},
   "outputs": [
    {
     "data": {
      "application/vnd.jupyter.widget-view+json": {
       "model_id": "62d317258e8d494face1edf1dc6a85f4",
       "version_major": 2,
       "version_minor": 0
      },
      "text/plain": [
       "Dropdown(description='GO pathways', options=('ion transmembrane transport', 'L-glutamate transmembrane transpo…"
      ]
     },
     "metadata": {},
     "output_type": "display_data"
    }
   ],
   "source": [
    "ipywidgets.Dropdown(\n",
    "    options=list(pathData.keys()),\n",
    "    description='GO pathways',\n",
    "    disabled=False\n",
    ")"
   ]
  },
  {
   "cell_type": "code",
   "execution_count": 39,
   "metadata": {},
   "outputs": [
    {
     "data": {
      "application/vnd.jupyter.widget-view+json": {
       "model_id": "101d164cd577481a955557e7a4c2f3bc",
       "version_major": 2,
       "version_minor": 0
      },
      "text/plain": [
       "FloatRangeSlider(value=(-3.721334942, 0.846424487), continuous_update=False, description='Abundance', max=0.84…"
      ]
     },
     "metadata": {},
     "output_type": "display_data"
    }
   ],
   "source": [
    "_min = min(abundance)\n",
    "_max = max(abundance)\n",
    "ipywidgets.FloatRangeSlider(\n",
    "    value=[_min, _max],\n",
    "    min=_min,\n",
    "    max=_max,\n",
    "    step=0.1,\n",
    "    description='Abundance',\n",
    "    disabled=False,\n",
    "    continuous_update=False,\n",
    "    orientation='horizontal',\n",
    "    readout=True,\n",
    "    readout_format='.1f',\n",
    ")\n"
   ]
  },
  {
   "cell_type": "markdown",
   "metadata": {},
   "source": [
    "### 3° Création du widget Output\n",
    " * Création du conteneur\n",
    " * Création du scatter plot dans le contexte manager du conteneur"
   ]
  },
  {
   "cell_type": "code",
   "execution_count": 40,
   "metadata": {},
   "outputs": [
    {
     "data": {
      "application/vnd.jupyter.widget-view+json": {
       "model_id": "259abe2f190b4bc7a7772a7f0036de7a",
       "version_major": 2,
       "version_minor": 0
      },
      "text/plain": [
       "Output(layout=Layout(border='1px solid cyan'))"
      ]
     },
     "metadata": {},
     "output_type": "display_data"
    }
   ],
   "source": [
    "from ipywidgets import Output\n",
    "outScatter = Output(layout={'border': '1px solid cyan'})\n",
    "outScatter"
   ]
  },
  {
   "cell_type": "code",
   "execution_count": 41,
   "metadata": {},
   "outputs": [],
   "source": [
    "with outScatter:\n",
    "    fig = plt.figure()\n",
    "    ax1 = fig.add_subplot(111)\n",
    "    col = ax1.scatter(abundance, pvalue)"
   ]
  },
  {
   "cell_type": "markdown",
   "metadata": {},
   "source": [
    "### 4° Définition des interactions widgets -- figure\n",
    "A l'aide :\n",
    "* Des objets fonctions matplotlib\n",
    "* Du dictionnaire de l'analyse d'enrichissement en pathway"
   ]
  },
  {
   "cell_type": "code",
   "execution_count": null,
   "metadata": {},
   "outputs": [],
   "source": [
    "def getColorMult(name, pathSelList):\n",
    "    for pathSel in pathSelList:\n",
    "        if name in pathData[pathSel]:\n",
    "            return 'tab:red'\n",
    "    return 'tab:gray'\n",
    "\n",
    "def update(w):\n",
    "    pathSelList = w\n",
    "    # Get selected pathway\n",
    "   # Generate proper point color vector \n",
    "    newColors = [ getColorMult(name, pathSelList) for name in label ]\n",
    "    col.set_color( newColors )\n",
    "   # Generate proper point sizes vector\n",
    "   #  col.set_sizes( )\n",
    "    \n",
    "interact(update, w=wSel)"
   ]
  },
  {
   "cell_type": "code",
   "execution_count": 33,
   "metadata": {},
   "outputs": [
    {
     "data": {
      "application/vnd.jupyter.widget-view+json": {
       "model_id": "",
       "version_major": 2,
       "version_minor": 0
      },
      "text/plain": [
       "Canvas(toolbar=Toolbar(toolitems=[('Home', 'Reset original view', 'home', 'home'), ('Back', 'Back to previous …"
      ]
     },
     "metadata": {},
     "output_type": "display_data"
    },
    {
     "data": {
      "application/vnd.jupyter.widget-view+json": {
       "model_id": "857c80c359074071929ecced829dfc18",
       "version_major": 2,
       "version_minor": 0
      },
      "text/plain": [
       "interactive(children=(Dropdown(description='Pathway:', options=('ion transmembrane transport', 'L-glutamate tr…"
      ]
     },
     "metadata": {},
     "output_type": "display_data"
    },
    {
     "data": {
      "application/vnd.jupyter.widget-view+json": {
       "model_id": "6346586ae95043ff88b3a283e205303d",
       "version_major": 2,
       "version_minor": 0
      },
      "text/plain": [
       "interactive(children=(ToggleButtons(description='Representation', options=('Color', 'Size', 'Both'), tooltips=…"
      ]
     },
     "metadata": {},
     "output_type": "display_data"
    },
    {
     "data": {
      "text/plain": [
       "<function __main__.updateToggle(w)>"
      ]
     },
     "execution_count": 33,
     "metadata": {},
     "output_type": "execute_result"
    }
   ],
   "source": [
    "x,y, labels = (abundance, pvalue, allList)\n",
    "fig = plt.figure()\n",
    "ax1 = fig.add_subplot(111)\n",
    "col = ax1.scatter(abundance, pvalue)\n",
    "\n",
    "\n",
    "dType = None\n",
    "\n",
    "\n",
    "pathways = list(pathData.keys())\n",
    "\n",
    "def getColor(name, pathway_label):\n",
    "    #print(name)\n",
    "    #print(pathway_label)\n",
    "    if name in pathData[pathway_label]:\n",
    "        return 'tab:red'\n",
    "    else:\n",
    "        return 'tab:grey'\n",
    "\n",
    "def getSize(name, pathway_label, min_v = 10, max_v = 100):\n",
    "    if name in pathData[pathway_label]:\n",
    "        return max_v\n",
    "    else:\n",
    "        return min_v\n",
    "\n",
    "wid_button = ipywidgets.ToggleButtons(\n",
    "    options=['Color', 'Size', 'Both'],\n",
    "    description='Representation',\n",
    "    disabled=False,\n",
    "    button_style='', # 'success', 'info', 'warning', 'danger' or ''\n",
    "    tooltips=['Description of slow', 'Description of regular', 'Description of fast'],\n",
    "#     icons=['check'] * 3\n",
    ")\n",
    "\n",
    "wid_dropdown = ipywidgets.Dropdown(\n",
    "    options=pathways,\n",
    "    description='Pathway:',\n",
    "    disabled=False,\n",
    ")\n",
    "\n",
    "def updateDropdown(w):\n",
    "    pathway_label =  w\n",
    "    newcolors = [ getColor(name, pathway_label) for name in labels ]\n",
    "    newsize = [ getSize(name, pathway_label) for name in labels ]\n",
    "    col.set_color(newcolors)\n",
    "    col.set_sizes(newsize)\n",
    "\n",
    "def updateToggle(w):\n",
    "    dType = w\n",
    "    print(dType)\n",
    "    \n",
    "interact(updateDropdown,w=wid_dropdown)\n",
    "interact(updateToggle, w=wid_button)"
   ]
  },
  {
   "cell_type": "code",
   "execution_count": 12,
   "metadata": {},
   "outputs": [
    {
     "data": {
      "application/vnd.jupyter.widget-view+json": {
       "model_id": "",
       "version_major": 2,
       "version_minor": 0
      },
      "text/plain": [
       "Canvas(toolbar=Toolbar(toolitems=[('Home', 'Reset original view', 'home', 'home'), ('Back', 'Back to previous …"
      ]
     },
     "metadata": {},
     "output_type": "display_data"
    }
   ],
   "source": [
    "x,y, labels = (abundance, pvalue, allList)\n",
    "fig = plt.figure()\n",
    "ax1 = fig.add_subplot(111)\n",
    "col = ax1.scatter(x, y)"
   ]
  },
  {
   "cell_type": "code",
   "execution_count": 43,
   "metadata": {},
   "outputs": [
    {
     "data": {
      "application/vnd.jupyter.widget-view+json": {
       "model_id": "dba6471c7bde4c7790295a069a5a9d46",
       "version_major": 2,
       "version_minor": 0
      },
      "text/plain": [
       "AppLayout(children=(Button(button_style='info', description='Left', layout=Layout(grid_area='left-sidebar', he…"
      ]
     },
     "metadata": {},
     "output_type": "display_data"
    }
   ],
   "source": [
    "from ipywidgets import AppLayout, Button, Layout, interact, GridspecLayout\n",
    "\n",
    "def create_expanded_button(description, button_style):\n",
    "    return Button(description=description, button_style=button_style, layout=Layout(height='auto', width='auto'))\n",
    "\n",
    "header_button = create_expanded_button('Header', 'success')\n",
    "left_button = create_expanded_button('Left', 'info')\n",
    "center_button = create_expanded_button('Center', 'warning')\n",
    "right_button = create_expanded_button('Right', 'info')\n",
    "footer_button = create_expanded_button('Footer', 'success')\n",
    "\n",
    "AppLayout(header=None,\n",
    "          left_sidebar=left_button,\n",
    "          center=center_button,\n",
    "          right_sidebar=right_button,\n",
    "          footer=None)"
   ]
  },
  {
   "cell_type": "code",
   "execution_count": 35,
   "metadata": {},
   "outputs": [
    {
     "data": {
      "application/vnd.jupyter.widget-view+json": {
       "model_id": "6d7156eb860a4cbd9e0c19d567e56c8f",
       "version_major": 2,
       "version_minor": 0
      },
      "text/plain": [
       "Button(description='Click me', icon='check', style=ButtonStyle(), tooltip='Click me')"
      ]
     },
     "metadata": {},
     "output_type": "display_data"
    }
   ],
   "source": [
    "wb = ipywidgets.Button(\n",
    "    description='Click me',\n",
    "    disabled=False,\n",
    "    button_style='', # 'success', 'info', 'warning', 'danger' or ''\n",
    "    tooltip='Click me',\n",
    "    icon='check'\n",
    ")\n",
    "\n",
    "wb"
   ]
  },
  {
   "cell_type": "code",
   "execution_count": 72,
   "metadata": {},
   "outputs": [
    {
     "data": {
      "application/vnd.jupyter.widget-view+json": {
       "model_id": "c28421093c094bb39146a19b2cb84a4f",
       "version_major": 2,
       "version_minor": 0
      },
      "text/plain": [
       "GridspecLayout(children=(Output(layout=Layout(grid_area='widget001', height='auto'), outputs=({'output_type': …"
      ]
     },
     "metadata": {},
     "output_type": "display_data"
    }
   ],
   "source": [
    "# Creer une grille de 10x4\n",
    "grid = GridspecLayout(10, 4)\n",
    "# fill it in with widgets\n",
    "grid[1:, 0:3] = out\n",
    "grid[0, 0:2] = left_button\n",
    "grid[0, 2:4] = right_button\n",
    "grid[2:, 3] = wd\n",
    "# set the widget properties\n",
    "grid[1:, 0].layout.height = 'auto'\n",
    "\n",
    "grid"
   ]
  },
  {
   "cell_type": "code",
   "execution_count": 41,
   "metadata": {},
   "outputs": [
    {
     "data": {
      "application/vnd.jupyter.widget-view+json": {
       "model_id": "1fd43ae6d7b04399ae2351d85aa139c5",
       "version_major": 2,
       "version_minor": 0
      },
      "text/plain": [
       "AppLayout(children=(Button(button_style='info', description='Left', layout=Layout(grid_area='left-sidebar', he…"
      ]
     },
     "metadata": {},
     "output_type": "display_data"
    }
   ],
   "source": [
    "wd = ipywidgets.Dropdown(\n",
    "    options=pathways,\n",
    "    description='Pathway:',\n",
    "    disabled=False,\n",
    "    ## expanding it\n",
    "    button_style='info', \n",
    "    layout=Layout(height='auto', width='auto')\n",
    ")\n",
    "wd\n",
    "\n",
    "\n",
    "AppLayout(header=None,\n",
    "          left_sidebar=left_button,\n",
    "          center=wd,\n",
    "          right_sidebar=right_button,\n",
    "          footer=None)"
   ]
  },
  {
   "cell_type": "code",
   "execution_count": 42,
   "metadata": {},
   "outputs": [
    {
     "data": {
      "application/vnd.jupyter.widget-view+json": {
       "model_id": "",
       "version_major": 2,
       "version_minor": 0
      },
      "text/plain": [
       "Canvas(toolbar=Toolbar(toolitems=[('Home', 'Reset original view', 'home', 'home'), ('Back', 'Back to previous …"
      ]
     },
     "metadata": {},
     "output_type": "display_data"
    },
    {
     "data": {
      "application/vnd.jupyter.widget-view+json": {
       "model_id": "1a98347c882946878d31b0d7a402e275",
       "version_major": 2,
       "version_minor": 0
      },
      "text/plain": [
       "interactive(children=(Dropdown(description='Pathway:', layout=Layout(grid_area='center', height='auto', width=…"
      ]
     },
     "metadata": {},
     "output_type": "display_data"
    },
    {
     "data": {
      "text/plain": [
       "<function __main__.lClick(w)>"
      ]
     },
     "execution_count": 42,
     "metadata": {},
     "output_type": "execute_result"
    }
   ],
   "source": [
    "x,y, labels = (abundance, pvalue, allList)\n",
    "fig = plt.figure()\n",
    "ax1 = fig.add_subplot(111)\n",
    "col = ax1.scatter(x, y)\n",
    "\n",
    "def lClick(w):\n",
    "    newcolors = [ \"tab:gray\" for name in labels ]\n",
    "    col.set_color(newcolors)\n",
    "    \n",
    "interact(lClick, w=wd)\n",
    "\n",
    "    "
   ]
  },
  {
   "cell_type": "code",
   "execution_count": 50,
   "metadata": {},
   "outputs": [
    {
     "data": {
      "application/vnd.jupyter.widget-view+json": {
       "model_id": "2432f6ccd9e04faf87321d42217a8533",
       "version_major": 2,
       "version_minor": 0
      },
      "text/plain": [
       "Output()"
      ]
     },
     "metadata": {},
     "output_type": "display_data"
    }
   ],
   "source": [
    "from ipywidgets import Output\n",
    "out = Output()\n",
    "out"
   ]
  },
  {
   "cell_type": "code",
   "execution_count": 51,
   "metadata": {},
   "outputs": [],
   "source": [
    "import matplotlib.pyplot as plt\n",
    "from IPython.display import clear_output\n",
    "import time\n",
    "\n",
    "with out:\n",
    "    x,y, labels = (abundance, pvalue, allList)\n",
    "    fig = plt.figure()\n",
    "    ax1 = fig.add_subplot(111)\n",
    "    col = ax1.scatter(x, y)\n",
    "    #display(fig)#ax.figure)\n"
   ]
  },
  {
   "cell_type": "code",
   "execution_count": 60,
   "metadata": {},
   "outputs": [
    {
     "data": {
      "application/vnd.jupyter.widget-view+json": {
       "model_id": "36b79dc2119b449982f1765d96e9cbac",
       "version_major": 2,
       "version_minor": 0
      },
      "text/plain": [
       "AppLayout(children=(Dropdown(description='Pathway:', index=4, layout=Layout(grid_area='header', height='auto',…"
      ]
     },
     "metadata": {},
     "output_type": "display_data"
    }
   ],
   "source": [
    "def create_expanded_button(description, button_style):\n",
    "    return ipywidgets.Button(description=description, button_style=button_style, layout=Layout(height='auto', width='auto'))\n",
    "\n",
    "left_button = create_expanded_button('Left', 'info')\n",
    "right_button = create_expanded_button('Right', 'success')\n",
    "\n",
    "def lClick(w):\n",
    "    newcolors = [ \"tab:cyan\" for name in labels ]\n",
    "    col.set_color(newcolors)\n",
    "    \n",
    "def rClick(w):\n",
    "    newcolors = [ \"tab:green\" for name in labels ]\n",
    "    col.set_color(newcolors)\n",
    "\n",
    "#interact(lClick, w=left_button)\n",
    "#interact(rClick, w=right_button)\n",
    "left_button.on_click(lClick)\n",
    "right_button.on_click(rClick)\n",
    "\n",
    "\n",
    "AppLayout(header=wd,\n",
    "          left_sidebar=left_button,\n",
    "          center=out,\n",
    "          right_sidebar=right_button,\n",
    "          footer=None)"
   ]
  }
 ],
 "metadata": {
  "kernelspec": {
   "display_name": "Python 3",
   "language": "python",
   "name": "python3"
  },
  "language_info": {
   "codemirror_mode": {
    "name": "ipython",
    "version": 3
   },
   "file_extension": ".py",
   "mimetype": "text/x-python",
   "name": "python",
   "nbconvert_exporter": "python",
   "pygments_lexer": "ipython3",
   "version": "3.7.3"
  }
 },
 "nbformat": 4,
 "nbformat_minor": 2
}
