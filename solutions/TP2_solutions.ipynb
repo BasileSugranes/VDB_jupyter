{
 "cells": [
  {
   "cell_type": "markdown",
   "metadata": {},
   "source": [
    "Rappels\n",
    "\n",
    "[GO ontology](https://www.ebi.ac.uk/QuickGO/)"
   ]
  },
  {
   "cell_type": "markdown",
   "metadata": {},
   "source": [
    "##### IFB Virtual Machine Configuration\n",
    "\n",
    "* `rootDir` points to Jupyter Home Directory\n",
    "* `projectDir` points to the Git project, holds the *tsv* file\n",
    "* `libDir` points to Git project python library with files names `go.py  stat_utils.py  uniprot.py`\n",
    "* `dataDir` points to shared data folder with uniprot and GO files"
   ]
  },
  {
   "cell_type": "code",
   "execution_count": 3,
   "metadata": {},
   "outputs": [],
   "source": [
    "import sys\n",
    "\n",
    "rootDir = \"//ifb/data/mydatalocal\"\n",
    "projectDir = rootDir + \"/VDBscratch\"\n",
    "libDir = projectDir + \"/lib\"\n",
    "dataDir= \"/ifb/data/public/teachdata/m2binf_ucbl/data\" \n",
    "\n",
    "sys.path.append(libDir)"
   ]
  },
  {
   "cell_type": "code",
   "execution_count": 4,
   "metadata": {},
   "outputs": [],
   "source": [
    "import pandas, uniprot, go\n",
    "import numpy as np\n",
    "from stat_utils import computeORA_BKG\n",
    "\n",
    "%load_ext autoreload\n",
    "%autoreload 2"
   ]
  },
  {
   "cell_type": "code",
   "execution_count": 5,
   "metadata": {},
   "outputs": [],
   "source": [
    "%matplotlib nbagg\n",
    "import matplotlib.pyplot as plt"
   ]
  },
  {
   "cell_type": "markdown",
   "metadata": {},
   "source": [
    "## Jeux de données\n",
    "* Experimental dataset as TSV\n",
    "* Go ontology as [owl](http://www.obofoundry.org/ontology/go.html)\n",
    "* Uniprot entries as XML files\n",
    "\n",
    "## Objectifs\n",
    "1. Lire et traiter des données d'entrée avec [PANDAS](https://pandas.pydata.org/)\n",
    "\n",
    "2. Représenter la distribution empirique des \"fold-change\" (**FC**)\n",
    "\n",
    "3. Evaluer un seuil de **FDR** 5%, with normal approximation\n",
    "    1. Proposer une function qui à un seuil de faux-positif retourne une valeur de **FDC**\n",
    "    2. Proposer une fonction qui appelle la précedente et retourne, en plus, une représentation graphique\n",
    "\n",
    "4. Analyse de l'enrichissement en pathway Gene Ontology\n",
    "    1. Arbre des termes d'ontologie.\n",
    "        * Visualisation de l'arbre complet\n",
    "    2. Modélisation hypergéometrique des fréquence attendues des termes GO\n",
    "        * Les protéines très abondantes présentent-elles des termes GO en quantité remarquable ?\n",
    "        * Les protéines peu abondantes présentent-elles des termes GO en quantité remarquable ?\n",
    "    3. Visualisation de l'arbre avec style des noeuds rendant compte des protéines qu'ils annotent\n",
    " \n",
    "5. Volcano plot\n",
    "    1. Scatter-Plot **FC** vs **LOG10 Adj.P-val**\n",
    "    2. Colorer les protéines très/peu abondantes\n",
    "    3. ipyWidget slider FDR permettant de changer les seuils \"d'abondance\" \n",
    "    \n",
    "6. Volcano Plot présentant les pathways\n",
    "    1. ipyWidget Slider\n",
    "    2. Coloration des points pour les protéines annotées par ce pathway \n",
    "\n",
    "## Conclusion\n",
    "* Compare wt/mutant conditions\n",
    "\n",
    "\n",
    "## Ressources\n",
    "https://www.bioconductor.org/help/course-materials/2015/SeattleApr2015/E_GeneSetEnrichment.html\n",
    "\n",
    "https://matplotlib.org/gallery.html#\n",
    "\n",
    "\n"
   ]
  },
  {
   "cell_type": "markdown",
   "metadata": {},
   "source": [
    "## Format des données expérimentales\n",
    "\n",
    "Le terme *SA*, désigne le ratio de (**S**ur) **A**bondance pour une protéines entre deux experiences.\n",
    "Les valeurs de **SA** sont stockées dans la colonne ```Log2 Corrected Abundance Ratio```. Un \"ratio\" négatif indique qu'une protéine est moins présente dans l'experience considéré par rapport à une experience de référence.\n",
    "\n",
    "* La condition experimentale de référence est un milieu de croissance bactérienne\n",
    "* La condition experimentale testée est un milieu riche en Tétracycline \n",
    "\n"
   ]
  },
  {
   "cell_type": "markdown",
   "metadata": {},
   "source": [
    "# Première exploration des données"
   ]
  },
  {
   "cell_type": "markdown",
   "metadata": {},
   "source": [
    "### Lecture des valeurs experimentales\n",
    "Charger ```TCL_wt1.tsv``` dans une [dataframe pandas](https://pandas.pydata.org/pandas-docs/stable/reference/api/pandas.read_csv.html).\n",
    "* Retirer les lignes présentant des aberrations numériques\n",
    "* Créer une DataFrame ne contenant que les lignes où **Log2 Corrected Abundance Ratio** > 0\n",
    "\n",
    "##### [Comment filtrer des lignes Pandas](https://cmdlinetips.com/2018/02/how-to-subset-pandas-dataframe-based-on-values-of-a-column/)"
   ]
  },
  {
   "cell_type": "code",
   "execution_count": 6,
   "metadata": {},
   "outputs": [
    {
     "data": {
      "text/html": [
       "<div>\n",
       "<style scoped>\n",
       "    .dataframe tbody tr th:only-of-type {\n",
       "        vertical-align: middle;\n",
       "    }\n",
       "\n",
       "    .dataframe tbody tr th {\n",
       "        vertical-align: top;\n",
       "    }\n",
       "\n",
       "    .dataframe thead th {\n",
       "        text-align: right;\n",
       "    }\n",
       "</style>\n",
       "<table border=\"1\" class=\"dataframe\">\n",
       "  <thead>\n",
       "    <tr style=\"text-align: right;\">\n",
       "      <th></th>\n",
       "      <th>Accession</th>\n",
       "      <th>Description</th>\n",
       "      <th>Gene Symbol</th>\n",
       "      <th>Corrected Abundance ratio (1.53)</th>\n",
       "      <th>Log2 Corrected Abundance Ratio</th>\n",
       "      <th>Abundance Ratio Adj. P-Value: (127. T3 Tc WT) / (126. T0 WT)</th>\n",
       "      <th>LOG10 Adj.P-val</th>\n",
       "    </tr>\n",
       "  </thead>\n",
       "  <tbody>\n",
       "    <tr>\n",
       "      <th>0</th>\n",
       "      <td>P75936</td>\n",
       "      <td>Basal-body rod modification protein FlgD OS=Es...</td>\n",
       "      <td>flgD</td>\n",
       "      <td>0.075816993</td>\n",
       "      <td>-3.721334942</td>\n",
       "      <td>0.000055</td>\n",
       "      <td>4.260067469</td>\n",
       "    </tr>\n",
       "    <tr>\n",
       "      <th>1</th>\n",
       "      <td>P76231</td>\n",
       "      <td>Uncharacterized protein YeaC OS=Escherichia co...</td>\n",
       "      <td>yeaC</td>\n",
       "      <td>0.092810458</td>\n",
       "      <td>-3.429568818</td>\n",
       "      <td>0.000351</td>\n",
       "      <td>3.45462743</td>\n",
       "    </tr>\n",
       "    <tr>\n",
       "      <th>2</th>\n",
       "      <td>P0A8S9</td>\n",
       "      <td>Flagellar transcriptional regulator FlhD OS=Es...</td>\n",
       "      <td>flhD</td>\n",
       "      <td>0.102614379</td>\n",
       "      <td>-3.284695189</td>\n",
       "      <td>0.000027</td>\n",
       "      <td>4.571899347</td>\n",
       "    </tr>\n",
       "    <tr>\n",
       "      <th>3</th>\n",
       "      <td>P0CE48</td>\n",
       "      <td>Elongation factor Tu 2 OS=Escherichia coli (st...</td>\n",
       "      <td>tufB</td>\n",
       "      <td>#VALEUR!</td>\n",
       "      <td>#VALEUR!</td>\n",
       "      <td>NaN</td>\n",
       "      <td>#VALEUR!</td>\n",
       "    </tr>\n",
       "    <tr>\n",
       "      <th>4</th>\n",
       "      <td>P05706</td>\n",
       "      <td>PTS system glucitol/sorbitol-specific EIIA com...</td>\n",
       "      <td>srlB</td>\n",
       "      <td>0.108496732</td>\n",
       "      <td>-3.204276506</td>\n",
       "      <td>0.019963</td>\n",
       "      <td>1.699767669</td>\n",
       "    </tr>\n",
       "  </tbody>\n",
       "</table>\n",
       "</div>"
      ],
      "text/plain": [
       "  Accession                                        Description Gene Symbol  \\\n",
       "0    P75936  Basal-body rod modification protein FlgD OS=Es...        flgD   \n",
       "1    P76231  Uncharacterized protein YeaC OS=Escherichia co...        yeaC   \n",
       "2    P0A8S9  Flagellar transcriptional regulator FlhD OS=Es...        flhD   \n",
       "3    P0CE48  Elongation factor Tu 2 OS=Escherichia coli (st...        tufB   \n",
       "4    P05706  PTS system glucitol/sorbitol-specific EIIA com...        srlB   \n",
       "\n",
       "  Corrected Abundance ratio (1.53) Log2 Corrected Abundance Ratio  \\\n",
       "0                      0.075816993                   -3.721334942   \n",
       "1                      0.092810458                   -3.429568818   \n",
       "2                      0.102614379                   -3.284695189   \n",
       "3                         #VALEUR!                       #VALEUR!   \n",
       "4                      0.108496732                   -3.204276506   \n",
       "\n",
       "   Abundance Ratio Adj. P-Value: (127. T3 Tc WT) / (126. T0 WT)  \\\n",
       "0                                           0.000055              \n",
       "1                                           0.000351              \n",
       "2                                           0.000027              \n",
       "3                                                NaN              \n",
       "4                                           0.019963              \n",
       "\n",
       "  LOG10 Adj.P-val  \n",
       "0     4.260067469  \n",
       "1      3.45462743  \n",
       "2     4.571899347  \n",
       "3        #VALEUR!  \n",
       "4     1.699767669  "
      ]
     },
     "execution_count": 6,
     "metadata": {},
     "output_type": "execute_result"
    }
   ],
   "source": [
    "import pandas\n",
    "df=pandas.read_csv(projectDir + \"/TCL_wt1.tsv\", delimiter =\"\\t\")\n",
    "df.head()"
   ]
  },
  {
   "cell_type": "code",
   "execution_count": 10,
   "metadata": {},
   "outputs": [
    {
     "data": {
      "text/html": [
       "<div>\n",
       "<style scoped>\n",
       "    .dataframe tbody tr th:only-of-type {\n",
       "        vertical-align: middle;\n",
       "    }\n",
       "\n",
       "    .dataframe tbody tr th {\n",
       "        vertical-align: top;\n",
       "    }\n",
       "\n",
       "    .dataframe thead th {\n",
       "        text-align: right;\n",
       "    }\n",
       "</style>\n",
       "<table border=\"1\" class=\"dataframe\">\n",
       "  <thead>\n",
       "    <tr style=\"text-align: right;\">\n",
       "      <th></th>\n",
       "      <th>Accession</th>\n",
       "      <th>Description</th>\n",
       "      <th>Gene Symbol</th>\n",
       "      <th>Corrected Abundance ratio (1.53)</th>\n",
       "      <th>Log2 Corrected Abundance Ratio</th>\n",
       "      <th>Abundance Ratio Adj. P-Value: (127. T3 Tc WT) / (126. T0 WT)</th>\n",
       "      <th>LOG10 Adj.P-val</th>\n",
       "    </tr>\n",
       "  </thead>\n",
       "  <tbody>\n",
       "    <tr>\n",
       "      <th>0</th>\n",
       "      <td>P75936</td>\n",
       "      <td>Basal-body rod modification protein FlgD OS=Es...</td>\n",
       "      <td>flgD</td>\n",
       "      <td>0.075816993</td>\n",
       "      <td>-3.721335</td>\n",
       "      <td>0.000055</td>\n",
       "      <td>4.260067469</td>\n",
       "    </tr>\n",
       "    <tr>\n",
       "      <th>1</th>\n",
       "      <td>P76231</td>\n",
       "      <td>Uncharacterized protein YeaC OS=Escherichia co...</td>\n",
       "      <td>yeaC</td>\n",
       "      <td>0.092810458</td>\n",
       "      <td>-3.429569</td>\n",
       "      <td>0.000351</td>\n",
       "      <td>3.45462743</td>\n",
       "    </tr>\n",
       "    <tr>\n",
       "      <th>2</th>\n",
       "      <td>P0A8S9</td>\n",
       "      <td>Flagellar transcriptional regulator FlhD OS=Es...</td>\n",
       "      <td>flhD</td>\n",
       "      <td>0.102614379</td>\n",
       "      <td>-3.284695</td>\n",
       "      <td>0.000027</td>\n",
       "      <td>4.571899347</td>\n",
       "    </tr>\n",
       "    <tr>\n",
       "      <th>4</th>\n",
       "      <td>P05706</td>\n",
       "      <td>PTS system glucitol/sorbitol-specific EIIA com...</td>\n",
       "      <td>srlB</td>\n",
       "      <td>0.108496732</td>\n",
       "      <td>-3.204277</td>\n",
       "      <td>0.019963</td>\n",
       "      <td>1.699767669</td>\n",
       "    </tr>\n",
       "    <tr>\n",
       "      <th>5</th>\n",
       "      <td>P29744</td>\n",
       "      <td>Flagellar hook-associated protein 3 OS=Escheri...</td>\n",
       "      <td>flgL</td>\n",
       "      <td>0.124183007</td>\n",
       "      <td>-3.009460</td>\n",
       "      <td>0.036746</td>\n",
       "      <td>1.434786589</td>\n",
       "    </tr>\n",
       "  </tbody>\n",
       "</table>\n",
       "</div>"
      ],
      "text/plain": [
       "  Accession                                        Description Gene Symbol  \\\n",
       "0    P75936  Basal-body rod modification protein FlgD OS=Es...        flgD   \n",
       "1    P76231  Uncharacterized protein YeaC OS=Escherichia co...        yeaC   \n",
       "2    P0A8S9  Flagellar transcriptional regulator FlhD OS=Es...        flhD   \n",
       "4    P05706  PTS system glucitol/sorbitol-specific EIIA com...        srlB   \n",
       "5    P29744  Flagellar hook-associated protein 3 OS=Escheri...        flgL   \n",
       "\n",
       "  Corrected Abundance ratio (1.53)  Log2 Corrected Abundance Ratio  \\\n",
       "0                      0.075816993                       -3.721335   \n",
       "1                      0.092810458                       -3.429569   \n",
       "2                      0.102614379                       -3.284695   \n",
       "4                      0.108496732                       -3.204277   \n",
       "5                      0.124183007                       -3.009460   \n",
       "\n",
       "   Abundance Ratio Adj. P-Value: (127. T3 Tc WT) / (126. T0 WT)  \\\n",
       "0                                           0.000055              \n",
       "1                                           0.000351              \n",
       "2                                           0.000027              \n",
       "4                                           0.019963              \n",
       "5                                           0.036746              \n",
       "\n",
       "  LOG10 Adj.P-val  \n",
       "0     4.260067469  \n",
       "1      3.45462743  \n",
       "2     4.571899347  \n",
       "4     1.699767669  \n",
       "5     1.434786589  "
      ]
     },
     "execution_count": 10,
     "metadata": {},
     "output_type": "execute_result"
    }
   ],
   "source": [
    "dfClean = df[ (df['Log2 Corrected Abundance Ratio'] != '#VALEUR!') & (df['LOG10 Adj.P-val'] != '#VALEUR!')]\n",
    "dfClean = dfClean.copy()\n",
    "dfClean.loc[:,'Log2 Corrected Abundance Ratio'] = dfClean.loc[:,'Log2 Corrected Abundance Ratio'].astype(float)\n",
    "\n",
    "saList = dfClean[ dfClean['Log2 Corrected Abundance Ratio'] > 0.0 ]['Accession'].tolist()\n",
    "\n",
    "dfClean.head()"
   ]
  },
  {
   "cell_type": "markdown",
   "metadata": {},
   "source": [
    "### Rappel\n",
    "Pour faciliter le développement nous considerereons comme **S**ur**A**bondante toute protéine à **Log2 Corrected Abundance Ratio** supérieur à 0."
   ]
  },
  {
   "cell_type": "markdown",
   "metadata": {},
   "source": [
    "# Definitions de pathway fonctionels: modèle statisitique"
   ]
  },
  {
   "cell_type": "markdown",
   "metadata": {},
   "source": [
    "Nous disposons d'un jeu de protéines caractérisées par\n",
    "\n",
    "* Un ratio de quantification entre deux experiences\n",
    "* Une fiche uniprot \n",
    "\n",
    "Par ailleurs, l'ontologie GO est disponible via\n",
    "* un fichier plat de définition\n",
    "* une librarie pour la manipuler\n",
    "\n",
    "Il nous est demandé de detecter si certains termes GO sont fortement représentés parmi les protéines SurAbondantes.\n",
    "Par la suite, on utilisera indifférement les termes **Pathway** et **annotation GO**."
   ]
  },
  {
   "cell_type": "markdown",
   "metadata": {},
   "source": [
    "### Evaluation théorique de l'abondance\n",
    "\n",
    "* $Q+$ : Proteines Sur-représentées\n",
    "* $\\overline{Q+}$ : Proteines non Sur-représentées\n",
    "\n",
    "* $PW^{a}$ : Nombre de protéines membres du Pathway$a$\n",
    "* $\\overline{PW^{a}}$ : Nombre de protéines non-membres du Pathway$a$\n",
    "\n",
    "\n",
    "\n",
    " Proteines | $Q+$  | $\\overline{Q+}$ | Total lignes\n",
    " :--- | --- |--- |---|\n",
    "membres de $PW^{a}$  | $PW^{a}_{Q+}$ | $PW^{a}_{\\overline{Q+}}$ | $nPW^{a}$\n",
    "non-membres de $PW_{a}$ | $\\overline{PW^{a}}_{Q+}$ | $\\overline{PW^{a}}_{\\overline{Q+}}$ | $n\\overline{PW^{a}}$\n",
    "  **Total colonnes** | n$Q+$ | n$\\overline{Q+}$ | **nTOT**\n",
    " \n",
    " \n",
    "**Question**:\"Le nombre de protéines sur-représentées dans le Pathway$a$ est-il grand comparé à ce qui serait attendu au hasard?\"\n",
    "\n",
    "\n",
    "<!--## Deprecated \n",
    " **Question**:\"Les protéines sur-représentées sont-elles plus fréquentes dans le Pathway$a$ que dans les protéines non-membre du Pathway$X$?\"\n",
    " \n",
    "L'hypothèse nulle est \"Les protéines membres du pathway et non-membres du pathway ont des quantifications similaires\".\n",
    " -->\n",
    "        "
   ]
  },
  {
   "cell_type": "markdown",
   "metadata": {},
   "source": [
    "### Modélisation du hasard par une loi hypergéométrique\n",
    "\n",
    "Pour un pathway donné ($PWa$), chaque protéine sur-abondante peut être vue comme un tirage dans le pool de protéines de l'expérience. La population de ce pool est consituée de deux groupes:\n",
    " * Le groupe des protéines appartenant à $PWa$\n",
    " * Les autres ($\\overline{PW^{a}}$)\n",
    "\n",
    "La probabilité d'observer $k$ protéines de $PWa$ parmi les $n$ sur-abondantes se modélise alors naturellement par la loi de probabilité hypergéométrique.\n",
    "\n",
    "Rappellez-vous,\n",
    "\n",
    "Si X est la variable aléatoire du nombre de succès parmi n observations, sans remise.\n",
    "Alors la probabilité d'oberver exactement $k$ succès, suit une loi hypergéométrique de paramètres $N, n$ et $k$\n",
    "\n",
    "$P(X=k) = \\frac{ {K\\choose k} {N-K\\choose n-k} } { {N\\choose K} }$\n",
    "\n",
    "où\n",
    "\n",
    "\n",
    "* $K$ est le nombre de succès dans la population totale\n",
    "* $n$ est le nombre d'observations\n",
    "* $N$ est la taille de la population totale\n",
    "* $k$ est le nombre de succès parmi les observations\n",
    "\n",
    "Si **pour chaque $Pathway^{a}$**, $X$ est la variable aléatoire du **nombre de protéines sur-représentée** dans l'experience.\n",
    "\n",
    "\n",
    "Cocher les relations correspondantes\n",
    "\n",
    "\n",
    "  x  | $nTOT$ | $nPW^{a}_{Q+}$ | $nPW^{a}$ | $nQ+$\n",
    " --- | ---   | ---     | ---  | --- |\n",
    " $K$ |       |         |      | \n",
    " $n$ |       |         |      | \n",
    " $N$ |       |         |      | \n",
    " $k$ |       |         |      | \n",
    " \n",
    " \n",
    " \n",
    " \n",
    "Rappel: $nPW^{a}_{Q+}$ est le nombre de protéines appartenant au $Pathway^{a}$ parmi les protéines surexprimées\n",
    "\n",
    "Que représentent alors les deux expressions suivantes:\n",
    "\n",
    "$ P(X=nPW^{a}_{Q+})= \\frac{ {nPW^{a}\\choose X} {n\\overline{PW^{a}}\\choose nQ^{+} - X} } { {nTOT\\choose nPW^{a}} }$\n",
    "\n",
    "\n",
    "$P(X >= PW^{a}_{Q+})  = \\sum_{x_{i}=PW^{a}_{Q+}}^{x_{i} \\le nQ+}\\frac{ {nPW^{a}\\choose x_{i}} {n\\overline{PW^{a}}\\choose nQ^{+} - x_{i}} } { {nTOT\\choose nPW^{a}} }$\n"
   ]
  },
  {
   "cell_type": "markdown",
   "metadata": {},
   "source": [
    "###### Créer la fonction qui retournera la probabilité, sous un [modèle hypergeométrique](https://docs.scipy.org/doc/scipy-0.14.0/reference/generated/scipy.stats.hypergeom.html), d'obtenir $k$ succès ou plus,\n",
    "\n",
    "```python\n",
    "def righEnd_pValue(N, n, K, k) => p\n",
    "```\n",
    "Aux arguments:\n",
    "* $N$, le nombre total d'objet\n",
    "* $n$, le nombre de tirages\n",
    "* $K$, le nombre total d'objet de *typeI*\n",
    "* $k$, le nombre de tirage d'objet de *typeI* (ie: nombre de succès parmi les tirages)\n",
    "\n",
    "##### Dessiner les lollipop charts de la densité de probabilité et de la densité cumulée de la loi\n",
    "\n",
    "L'enrichissement en terme GO parmi les protéines surabondantes sera estimé par cette fonction, avec\n",
    "* $N$, le nombre total de protéines annotées dans le protéome\n",
    "* $n$, le nombre de protéines surabondantes\n",
    "* $K$, le nombre de protéines annotées par ce terme GO dans le protéome\n",
    "* $k$, le nombre de protéines annotées par ce terme GO dans les protéines surabondantes\n"
   ]
  },
  {
   "cell_type": "code",
   "execution_count": 31,
   "metadata": {},
   "outputs": [
    {
     "data": {
      "text/plain": [
       "0.9999999833384777"
      ]
     },
     "execution_count": 31,
     "metadata": {},
     "output_type": "execute_result"
    },
    {
     "data": {
      "image/png": "[encoded data removed]",
      "text/plain": [
       "<Figure size 1008x360 with 2 Axes>"
      ]
     },
     "metadata": {
      "needs_background": "light"
     },
     "output_type": "display_data"
    }
   ],
   "source": [
    "from scipy.stats import hypergeom\n",
    "%matplotlib inline\n",
    "saList = dfClean[ dfClean['Log2 Corrected Abundance Ratio'] > 0.0 ]['Accession'].tolist()\n",
    "\n",
    "def righEnd_pValue(N, n, K, k):\n",
    "    \n",
    "    rv = hypergeom(N, K, n)\n",
    "    x = np.arange(0, n+1)\n",
    "    pmf_pathway_members = rv.pmf(x)\n",
    "    cmf_pathway_members = rv.cdf(x)\n",
    "    fig = plt.figure(figsize=(14, 5))\n",
    "    ax = fig.add_subplot(121)\n",
    "    ax.scatter(x, pmf_pathway_members, color = [ 'b' if _x < k else 'r' for _x in x ])\n",
    "    ax.vlines(x, 0, pmf_pathway_members, lw=2)\n",
    "    ax.set_xlabel('# proteins in pathway')\n",
    "    ax.set_ylabel('hypergeom PMF')\n",
    "    \n",
    "    ax = fig.add_subplot(122)\n",
    "    ax.plot(x, cmf_pathway_members, 'bo')\n",
    "    ax.vlines(x, 0, cmf_pathway_members, lw=2)\n",
    "    ax.set_xlabel('# proteins in pathway')\n",
    "    ax.set_ylabel('hypergeom CDF')\n",
    "    \n",
    "    fig.suptitle(f\"Protein number:{N}, pathway members: {K}, quantified proteins: {n}, quantified pathway members:{k} \")\n",
    "    \n",
    "    p_x = hypergeom(N, K, n).cdf([k - 1])\n",
    "    return 1.00 - p_x[0]\n",
    "\n",
    "righEnd_pValue(100, 60, 25, 4)"
   ]
  },
  {
   "cell_type": "markdown",
   "metadata": {},
   "source": [
    "# Definitions de pathway fonctionels: manipulation de l'ontologie\n"
   ]
  },
  {
   "cell_type": "markdown",
   "metadata": {},
   "source": [
    "##### Chargement des données uniprot et GO"
   ]
  },
  {
   "cell_type": "code",
   "execution_count": 13,
   "metadata": {},
   "outputs": [
    {
     "name": "stdout",
     "output_type": "stream",
     "text": [
      "Loading ontology\n",
      "Loaded\n"
     ]
    }
   ],
   "source": [
    "uniprotCollection = uniprot.UniprotCollection(dataDir +\"/dataset\")\n",
    "K12 = uniprot.UniprotCollection(dataDir + \"/K12_proteome/\")\n",
    "print(\"Loading ontology\")\n",
    "go.setOntology(dataDir + \"/go.owl\")"
   ]
  },
  {
   "cell_type": "code",
   "execution_count": 14,
   "metadata": {},
   "outputs": [
    {
     "name": "stdout",
     "output_type": "stream",
     "text": [
      "Extracting biological process ontology\n",
      "Applying true path collapsing\n",
      "2194 leaves, 3482 nodes, 1474 proteins\n",
      "Applying true path collapsing\n",
      "2728 leaves, 6650 nodes, 3128 proteins\n",
      "Extracting molecular function ontology\n",
      "Applying true path collapsing\n",
      "1694 leaves, 4328 nodes, 1517 proteins\n",
      "Applying true path collapsing\n",
      "2264 leaves, 7807 nodes, 3118 proteins\n",
      "Extracting cellular component ontology\n",
      "Applying true path collapsing\n",
      "209 leaves, 2324 nodes, 1426 proteins\n",
      "Applying true path collapsing\n",
      "239 leaves, 4698 nodes, 2805 proteins\n"
     ]
    }
   ],
   "source": [
    "xpProtList = dfClean['Accession'].tolist()\n",
    "\n",
    "print(\"Extracting biological process ontology\")\n",
    "xpGoTree_BP = go.AnnotationTree(\"biological process\", collapse=True)\n",
    "xpGoTree_BP.extract(xpProtList, uniprotCollection)\n",
    "\n",
    "fullEcoliGoTree_BP = go.AnnotationTree(\"biological process\", collapse=True)\n",
    "fullEcoliGoTree_BP.extract(K12.list, K12)\n",
    "# check that :: 2728 leaves, 6650 nodes, 3128 proteins\n",
    "print(\"Extracting molecular function ontology\")\n",
    "xpGoTree_MF = go.AnnotationTree(\"molecular function\", collapse=True)\n",
    "xpGoTree_MF.extract(xpProtList, uniprotCollection)\n",
    "\n",
    "fullEcoliGoTree_MF = go.AnnotationTree(\"molecular function\", collapse=True)\n",
    "fullEcoliGoTree_MF.extract(K12.list, K12)\n",
    "\n",
    "print(\"Extracting cellular component ontology\")\n",
    "xpGoTree_CC = go.AnnotationTree(\"cellular component\", collapse=True)\n",
    "xpGoTree_CC.extract(xpProtList, uniprotCollection)\n",
    "\n",
    "fullEcoliGoTree_CC = go.AnnotationTree(\"cellular component\", collapse=True)\n",
    "fullEcoliGoTree_CC.extract(K12.list, K12)"
   ]
  },
  {
   "cell_type": "markdown",
   "metadata": {},
   "source": [
    "## Manipulation de termes GO à l'aide de *go.py*\n",
    "\n",
    "Règle du vrai chemin: *Si une protéine est porteuse d'un terme GO, alors est elle aussi porteuse de tous les parents de ce terme.*\n",
    "\n",
    "### AnnotationTree est l'arbre des annotations GO portées par une collection de proteines \n",
    "\n",
    "#### Un arbre ne rend compte que d'un seul namespace GO\n",
    "On définit le namespaced des termes GO à extraire par un de ces trois termes : \n",
    "* \"biological process\", \"molecular function\", \"cellular component\"\n",
    " \n",
    "```python\n",
    "aTree = go.AnnotationTree(\"biological process\", collapse=True)\n",
    "```\n",
    "On ne garde dans cet arbre que les termes portés par les protéines données en dernier argument\n",
    "```python\n",
    "aTree.read_DAG(['P75936', 'P76231', 'P0A8S9'], uniprotCollection)\n",
    "```\n",
    "\n",
    "### API de l'arbre d'annotations\n",
    "\n",
    "\n",
    "#### Taille de l'abre\n",
    "```python\n",
    "aTree.dimensions\n",
    "```\n",
    "\n",
    "#### Extraire un sous arbre\n",
    "```python\n",
    "bTree = aTree.newRoot(\"transmembrane transport\")\n",
    "```\n",
    "\n",
    "#### Enumerer les protéines porteuses de termes GO\n",
    "\n",
    "##### Dans tout l'arbre\n",
    "```python\n",
    "proteinList = aTree.getMembers()\n",
    "```\n",
    "##### A partir d'un noeud\n",
    "```python\n",
    "proteinList = aTree.getMembersByName(\"transmembrane transport\")\n",
    "proteinList = aTree.getMembersByID(\"GO:0055085\")\n",
    "```\n",
    "\n",
    "#### Acceder directement à un noeud\n",
    "```python\n",
    "goTerm = aTree.getByName(\"transmembrane transport\")\n",
    "goTerm = aTree.getByID(\"GO:0055085\")\n",
    "```\n",
    "\n",
    "#### Elager un arbre\n",
    "Retirer tous les noeuds n'ayant aucun des éléments suivants parmi leurs protéines annotées\n",
    "\n",
    "```python\n",
    "def predicat(goTerm):\n",
    "    return set(goTerm.getMembers()) & set(['P75936', 'P76231', 'P0A8S9'])\n",
    "\n",
    "bTree = aTree.drop(predicat)\n",
    "```"
   ]
  },
  {
   "cell_type": "markdown",
   "metadata": {},
   "source": [
    "## Evaluer la pValue d'enrichissment en terme GO d'une liste de protéine donnée\n",
    "\n",
    "Avant d'appeler `righEnd_pValue`, on devra donc\n",
    "\n",
    "1. Lister les protéines surabondantes\n",
    "2. Lister toutes les protéines sous le terme GO de votre choix \n",
    "    1. dans l'experience\n",
    "    2. dans le protéome\n",
    "3. Calculer l'intersection entre *A* et *B*\n",
    "\n",
    "###### *Aide:*\n",
    "Vous vous aiderez \n",
    "- de l'API de `go.annotationTree` \n",
    "- des commandes [`set` de python](https://docs.python.org/3/library/stdtypes.html#set)\n",
    "- du [filtrage de colonne Pandas](https://cmdlinetips.com/2018/02/how-to-subset-pandas-dataframe-based-on-values-of-a-column/) pour évaluer la liste de protéines surabondantes\n",
    "- de la [fonction subplot de matplotlib](https://stackoverflow.com/questions/42818361/how-to-make-two-plots-side-by-side-using-python), pour dessiner les deux courbes cote-à-cote\n"
   ]
  },
  {
   "cell_type": "markdown",
   "metadata": {},
   "source": [
    "## Analyse de la surreprésentation\n",
    "\n",
    "Le package *stat_utils.py* permet d'appliquer L'analyse de surreprésentation récursivement, en profondeur, à partir d'un terme GO racine.\n",
    "\n",
    "#### Estimation récursive des enrichissements\n",
    "\n",
    "* Choix du terme GO général\n",
    "```python\n",
    "pathWayRoot = xpGoTree.getByName(\"transmembrane transport\")\n",
    "```\n",
    "\n",
    "* Définition du terme GO regroupant tout le protéome\n",
    "```python\n",
    "pathWayBKG = fullEcoliGoTree.getByName(\"biological process\")\n",
    "```\n",
    "\n",
    "* Calcul de l'enrichissement en termes GO successifs parmi les protéines surabondantes (ici, *saList*)\n",
    "```python\n",
    "oraFisher, oraCDF = computeORA_BKG(pathWayRoot, saList, pathWayBKG)\n",
    "```\n",
    "* Des arbres peuvent également être passés.\n",
    "```python\n",
    "tm_transport_GoTree = xpGoTree.newRoot(\"transmembrane transport\")\n",
    "oraFisher, oraCDF = computeORA_BKG(tm_transport_GoTree, saList, fullEcoliGoTree)\n",
    "```\n",
    "\n",
    "#### Affichage des enrichissements\n",
    "La fonction ci-dessous va vous permettre d'afficher les pathway par ordre croissant de p-value\n",
    "```python\n",
    "def printRankings(saList,_oraFisher, _oraCDF):\n",
    "    fisherRanking = [ ( d[0], d[1].name, len( set(d[1].getMembers()) & set(saList) ), len(saList) ) for d in sorted(oraFisher, key=lambda x:x[0]) ]\n",
    "    cdfRanking = [ ( d[0], d[1].name, len( set(d[1].getMembers()) & set(saList) ), len(saList) ) for d in sorted(oraCDF, key=lambda x:x[0]) ]\n",
    "    print(f\"FISHER test Rankings:\\n{fisherRanking}\")\n",
    "    print('\\n---\\n')\n",
    "    print(f\"CDF Rankings:\\n{cdfRanking}\")\n",
    "```\n",
    "\n",
    "##### Intégration des résultats à la visualisation du notebook \n",
    "\n",
    "En vous inspirant de la fonction ci-dessus, proposer une classe `Rankings` implémentant une méthode [`_repr_html_`](https://ipython.readthedocs.io/en/stable/config/integrating.html) qui permette un affichage plus lisible des résultats, comme par exemple:\n",
    "\n",
    "![caption](../figs/_repr_html_.png)\n",
    "\n",
    "#### Appliquer cette analyse à terme GO de votre choix (et tous ses fils)\n",
    " - Il serait souhaitable d'encapsuler les différentes étapes dans une fonction de ce type\n",
    "```python\n",
    "    def computePathway(goTermString, xpTreeTerm, bkgTreeTerm, uniprotIdList) -> oraFisher, oraCDF\n",
    "```\n",
    "#### Appliquer cette analyse à tous les termes GO des arbres \"biological process\", \"molecular function\", \"cellular component\"\n",
    "\n",
    "***\n"
   ]
  },
  {
   "cell_type": "markdown",
   "metadata": {},
   "source": [
    "##### STEP by STEP solution"
   ]
  },
  {
   "cell_type": "code",
   "execution_count": 78,
   "metadata": {},
   "outputs": [],
   "source": [
    "pathWaySetRoot    = xpGoTree_BP.getByName(\"transmembrane transport\")\n",
    "pathWaySetRootBKG = fullEcoliGoTree_BP.getByName(\"biological process\")"
   ]
  },
  {
   "cell_type": "code",
   "execution_count": 79,
   "metadata": {},
   "outputs": [],
   "source": [
    "class Rankings():\n",
    "    def __init__(self, oraResults, proteinList, title=\"Pathway ORA\"):\n",
    "        self.title = title\n",
    "        self.ranks = [ ( d[0], d[1].name, len( set(d[1].getMembers()) & set(proteinList) ), len(proteinList) ) for d in sorted(oraResults, key=lambda x:x[0]) ]\n",
    "    def _repr_html_(self):\n",
    "        t_head = f\"<h3>{self.title}</h3><table><thead><th>p-value</th><th>Pathway name</th><th>n</th></thead><tbody>\"\n",
    "        t_foot = '</tbody></table>'\n",
    "        t_body = '</tr><tr>'.join([ '<td>' + '</td><td>'.join([ str(v) for v in pathwayScore ][:-1]) + '</td>' for pathwayScore in self.ranks ])\n",
    "        t_body = '<tr>' + t_body + '</tr>'\n",
    "        return t_head + t_body + t_foot"
   ]
  },
  {
   "cell_type": "code",
   "execution_count": 80,
   "metadata": {},
   "outputs": [
    {
     "name": "stdout",
     "output_type": "stream",
     "text": [
      "Evaluated 9 / 97 Pathways, based on 44 proteins\n"
     ]
    },
    {
     "data": {
      "text/html": [
       "<h3>biological process</h3><table><thead><th>p-value</th><th>Pathway name</th><th>n</th></thead><tbody><tr><td>0.026319852884717568</td><td>ion transmembrane transport</td><td>5</td></tr><tr><td>0.04106508166120274</td><td>L-glutamate transmembrane transport</td><td>1</td></tr><tr><td>0.12358508050517482</td><td>drug transmembrane transport</td><td>2</td></tr><tr><td>0.22290599826510718</td><td>L-alpha-amino acid transmembrane transport</td><td>1</td></tr><tr><td>0.3619566723145079</td><td>amino acid transmembrane transport</td><td>1</td></tr><tr><td>0.3826117782409264</td><td>transmembrane transport</td><td>5</td></tr><tr><td>0.46911833019397486</td><td>carboxylic acid transmembrane transport</td><td>1</td></tr><tr><td>0.46911833019397486</td><td>organic acid transmembrane transport</td><td>1</td></tr><tr><td>0.571013396124047</td><td>anion transmembrane transport</td><td>1</td></tr></tbody></table>"
      ],
      "text/plain": [
       "<__main__.Rankings at 0x7f14af7bcb00>"
      ]
     },
     "execution_count": 80,
     "metadata": {},
     "output_type": "execute_result"
    }
   ],
   "source": [
    "saList = dfClean[ dfClean['Log2 Corrected Abundance Ratio'] > 0.0 ]['Accession'].tolist()\n",
    "oraFisher, oraCDF = computeORA_BKG(pathWaySetRoot, saList, pathWaySetRootBKG)\n",
    "Rankings(oraFisher,saList, title=\"biological process\")"
   ]
  },
  {
   "cell_type": "markdown",
   "metadata": {},
   "source": [
    "#### Single function solution"
   ]
  },
  {
   "cell_type": "code",
   "execution_count": 82,
   "metadata": {},
   "outputs": [],
   "source": [
    "def computePathway(goTermString, xpTreeTerm, bkgTreeTerm, bkgTermString, uniprotIdList) :\n",
    "    pathWaySetRoot    = xpTreeTerm.getByName(goTermString)\n",
    "    pathWaySetRootBKG = bkgTreeTerm.getByName(bkgTermString)\n",
    "    oraFisher, oraCDF = computeORA_BKG(pathWaySetRoot, uniprotIdList, pathWaySetRootBKG)\n",
    "    return oraFisher, oraCDF, Rankings(oraFisher,uniprotIdList, title=goTermString)"
   ]
  },
  {
   "cell_type": "code",
   "execution_count": 84,
   "metadata": {},
   "outputs": [
    {
     "name": "stdout",
     "output_type": "stream",
     "text": [
      "Evaluated 297 / 2193 Pathways, based on 44 proteins\n"
     ]
    },
    {
     "data": {
      "text/html": [
       "<h3>biological process</h3><table><thead><th>p-value</th><th>Pathway name</th><th>n</th></thead><tbody><tr><td>3.0740143676824805e-06</td><td>siderophore transport</td><td>5</td></tr><tr><td>1.4333376891745052e-05</td><td>iron coordination entity transport</td><td>5</td></tr><tr><td>2.9305999920744405e-05</td><td>protein insertion into membrane</td><td>4</td></tr><tr><td>3.1801614970675325e-05</td><td>membrane organization</td><td>5</td></tr><tr><td>5.221318723734416e-05</td><td>Gram-negative-bacterium-type cell outer membrane assembly</td><td>4</td></tr><tr><td>5.221318723734416e-05</td><td>membrane assembly</td><td>4</td></tr><tr><td>6.758963970377286e-05</td><td>establishment of protein localization to membrane</td><td>4</td></tr><tr><td>0.0001285368129330478</td><td>iron ion transport</td><td>5</td></tr><tr><td>0.00019634523788932085</td><td>ion transport</td><td>13</td></tr><tr><td>0.00023663274449265561</td><td>protein localization to membrane</td><td>4</td></tr><tr><td>0.0002536535809632806</td><td>macromolecule localization</td><td>8</td></tr><tr><td>0.0005995526685918255</td><td>cellular localization</td><td>5</td></tr><tr><td>0.0007087270424982915</td><td>establishment of localization</td><td>18</td></tr><tr><td>0.0007754226271030844</td><td>cellular protein localization</td><td>4</td></tr><tr><td>0.0007754226271030844</td><td>cellular macromolecule localization</td><td>4</td></tr><tr><td>0.0009259622672516521</td><td>transition metal ion transport</td><td>5</td></tr><tr><td>0.0018339322137013716</td><td>phospholipid transport</td><td>2</td></tr><tr><td>0.001869532899350111</td><td>iron ion homeostasis</td><td>4</td></tr><tr><td>0.0020463450880230717</td><td>localization</td><td>18</td></tr><tr><td>0.003456148488873852</td><td>transition metal ion homeostasis</td><td>4</td></tr><tr><td>0.003739752506417049</td><td>metal ion homeostasis</td><td>4</td></tr><tr><td>0.0046419459942697115</td><td>cofactor transport</td><td>3</td></tr><tr><td>0.006372727605889341</td><td>enterobactin transport</td><td>2</td></tr><tr><td>0.006831966932872127</td><td>metal ion transport</td><td>5</td></tr><tr><td>0.007033596136024767</td><td>cation homeostasis</td><td>4</td></tr><tr><td>0.007488722157717109</td><td>ion homeostasis</td><td>4</td></tr><tr><td>0.007488722157717109</td><td>inorganic ion homeostasis</td><td>4</td></tr><tr><td>0.008970048844961054</td><td>chemical homeostasis</td><td>4</td></tr><tr><td>0.009818785259132578</td><td>establishment of protein localization</td><td>5</td></tr><tr><td>0.010246691780117846</td><td>protein localization</td><td>5</td></tr><tr><td>0.01137844528959617</td><td>organophosphate ester transport</td><td>2</td></tr><tr><td>0.013824370338143686</td><td>drug transport</td><td>4</td></tr><tr><td>0.013875748975060472</td><td>co-translational protein modification</td><td>1</td></tr><tr><td>0.013875748975060472</td><td>detection of virus</td><td>1</td></tr><tr><td>0.015414946123576046</td><td>viral entry into host cell</td><td>2</td></tr><tr><td>0.026319852884717568</td><td>ion transmembrane transport</td><td>5</td></tr><tr><td>0.02684495263608603</td><td>homeostatic process</td><td>4</td></tr><tr><td>0.02704119476142971</td><td>transport</td><td>14</td></tr><tr><td>0.027563278011262043</td><td>intermembrane phospholipid transfer</td><td>1</td></tr><tr><td>0.027563278011262043</td><td>cellular response to zinc ion starvation</td><td>1</td></tr><tr><td>0.027563278011262043</td><td>cellular response to magnesium ion</td><td>1</td></tr><tr><td>0.027563278011262043</td><td>colicin transport</td><td>1</td></tr><tr><td>0.02772444630368983</td><td>organic hydroxy compound transport</td><td>2</td></tr><tr><td>0.02797967041824486</td><td>response to metal ion</td><td>3</td></tr><tr><td>0.03053685731604156</td><td>lipid transport</td><td>2</td></tr><tr><td>0.03163683817988629</td><td>cellular component biogenesis</td><td>9</td></tr><tr><td>0.033457817525614844</td><td>lipid localization</td><td>2</td></tr><tr><td>0.038390646362107435</td><td>organic anion transport</td><td>5</td></tr><tr><td>0.03961182497954813</td><td>interaction with host</td><td>2</td></tr><tr><td>0.04015332794957232</td><td>cellular component assembly</td><td>7</td></tr><tr><td>0.04106508166120274</td><td>L-proline biosynthetic process</td><td>1</td></tr><tr><td>0.04106508166120274</td><td>maturation of SSU-rRNA</td><td>1</td></tr><tr><td>0.04106508166120274</td><td>conjugation</td><td>1</td></tr><tr><td>0.04106508166120274</td><td>L-glutamate transmembrane transport</td><td>1</td></tr><tr><td>0.04106508166120274</td><td>response to organic cyclic compound</td><td>1</td></tr><tr><td>0.042579606761183345</td><td>organic substance transport</td><td>10</td></tr><tr><td>0.04495435637490354</td><td>translation</td><td>5</td></tr><tr><td>0.04616003935881028</td><td>viral life cycle</td><td>2</td></tr><tr><td>0.05438362219358398</td><td>intermembrane lipid transfer</td><td>1</td></tr><tr><td>0.05438362219358398</td><td>negative regulation of single-species biofilm formation on inanimate substrate</td><td>1</td></tr><tr><td>0.05438362219358398</td><td>proline biosynthetic process</td><td>1</td></tr><tr><td>0.05438362219358398</td><td>proline metabolic process</td><td>1</td></tr><tr><td>0.05438362219358398</td><td>drug export</td><td>1</td></tr><tr><td>0.05438362219358398</td><td>response to cadmium ion</td><td>1</td></tr><tr><td>0.054497109973590835</td><td>external encapsulating structure organization</td><td>4</td></tr><tr><td>0.05666633376041382</td><td>ribosomal large subunit assembly</td><td>2</td></tr><tr><td>0.05666633376041382</td><td>ribosomal large subunit biogenesis</td><td>2</td></tr><tr><td>0.0600197390844159</td><td>peptide biosynthetic process</td><td>5</td></tr><tr><td>0.061392792080843396</td><td>anion transport</td><td>5</td></tr><tr><td>0.06152643357645614</td><td>response to chemical</td><td>9</td></tr><tr><td>0.06409143413446285</td><td>viral process</td><td>2</td></tr><tr><td>0.06752133000041341</td><td>negative regulation of single-species biofilm formation</td><td>1</td></tr><tr><td>0.06752133000041341</td><td>N-terminal protein amino acid modification</td><td>1</td></tr><tr><td>0.06752133000041341</td><td>negative regulation of multi-organism process</td><td>1</td></tr><tr><td>0.06752133000041341</td><td>maltodextrin transport</td><td>1</td></tr><tr><td>0.06752133000041341</td><td>cobalamin transport</td><td>1</td></tr><tr><td>0.06792161040752515</td><td>symbiotic process</td><td>2</td></tr><tr><td>0.07162664313254408</td><td>response to drug</td><td>4</td></tr><tr><td>0.07927887655288436</td><td>peptide metabolic process</td><td>5</td></tr><tr><td>0.0804806039987754</td><td>ferric-enterobactin import into cell</td><td>1</td></tr><tr><td>0.0804806039987754</td><td>nucleoside transport</td><td>1</td></tr><tr><td>0.0804806039987754</td><td>neurotransmitter transport</td><td>1</td></tr><tr><td>0.0804806039987754</td><td>polysaccharide transport</td><td>1</td></tr><tr><td>0.08814004756737982</td><td>interspecies interaction between organisms</td><td>2</td></tr><tr><td>0.09326381203151818</td><td>protein homotrimerization</td><td>1</td></tr><tr><td>0.09326381203151818</td><td>regulation of single-species biofilm formation on inanimate substrate</td><td>1</td></tr><tr><td>0.09326381203151818</td><td>microcin transport</td><td>1</td></tr><tr><td>0.09438004244522974</td><td>cation transport</td><td>5</td></tr><tr><td>0.09676753784342432</td><td>cellular component organization or biogenesis</td><td>10</td></tr><tr><td>0.10380110422491372</td><td>response to inorganic substance</td><td>3</td></tr><tr><td>0.10587329125793077</td><td>protein trimerization</td><td>1</td></tr><tr><td>0.10587329125793077</td><td>bacteriocin transport</td><td>1</td></tr><tr><td>0.11345574450211407</td><td>nitrogen compound transport</td><td>6</td></tr><tr><td>0.1183113485398582</td><td>siderophore-dependent iron import into cell</td><td>1</td></tr><tr><td>0.11865354528308313</td><td>amide biosynthetic process</td><td>5</td></tr><tr><td>0.12358508050517482</td><td>drug transmembrane transport</td><td>2</td></tr><tr><td>0.1305802608307974</td><td>nucleobase-containing compound transport</td><td>1</td></tr><tr><td>0.13404512940734026</td><td>ribonucleoprotein complex biogenesis</td><td>3</td></tr><tr><td>0.13404512940734026</td><td>ribosome biogenesis</td><td>3</td></tr><tr><td>0.1472344566897827</td><td>ribosome assembly</td><td>2</td></tr><tr><td>0.1472344566897827</td><td>ribonucleoprotein complex assembly</td><td>2</td></tr><tr><td>0.15461961095242654</td><td>protein repair</td><td>1</td></tr><tr><td>0.15461961095242654</td><td>dicarboxylic acid transport</td><td>1</td></tr><tr><td>0.15461961095242654</td><td>vitamin transport</td><td>1</td></tr><tr><td>0.1568628261223276</td><td>peptide transport</td><td>3</td></tr><tr><td>0.1569461674199265</td><td>ribonucleoprotein complex subunit organization</td><td>2</td></tr><tr><td>0.16678000791308228</td><td>regulation of translation</td><td>2</td></tr><tr><td>0.16678000791308228</td><td>regulation of cellular amide metabolic process</td><td>2</td></tr><tr><td>0.17800897326601053</td><td>regulation of single-species biofilm formation</td><td>1</td></tr><tr><td>0.17800897326601053</td><td>regulation of multi-organism process</td><td>1</td></tr><tr><td>0.18155355382753097</td><td>protein metabolic process</td><td>7</td></tr><tr><td>0.18676007610208448</td><td>posttranscriptional regulation of gene expression</td><td>2</td></tr><tr><td>0.18946529419464755</td><td>iron import into cell</td><td>1</td></tr><tr><td>0.18946529419464755</td><td>cellular response to metal ion</td><td>1</td></tr><tr><td>0.18946529419464755</td><td>single-species biofilm formation on inanimate substrate</td><td>1</td></tr><tr><td>0.18946529419464755</td><td>response to copper ion</td><td>1</td></tr><tr><td>0.1944048424752983</td><td>cellular amide metabolic process</td><td>5</td></tr><tr><td>0.19745073019398768</td><td>cellular protein metabolic process</td><td>6</td></tr><tr><td>0.2070728072844184</td><td>regulation of cellular protein metabolic process</td><td>2</td></tr><tr><td>0.20997995050151258</td><td>cellular component organization</td><td>8</td></tr><tr><td>0.22290599826510718</td><td>cellular response to inorganic substance</td><td>1</td></tr><tr><td>0.22290599826510718</td><td>L-alpha-amino acid transmembrane transport</td><td>1</td></tr><tr><td>0.22290599826510718</td><td>response to cold</td><td>1</td></tr><tr><td>0.22290599826510718</td><td>response to virus</td><td>1</td></tr><tr><td>0.23796566407102665</td><td>regulation of protein metabolic process</td><td>2</td></tr><tr><td>0.2536801181829307</td><td>regulation of biological quality</td><td>4</td></tr><tr><td>0.2549971066482217</td><td>ribosomal small subunit biogenesis</td><td>1</td></tr><tr><td>0.25872409184986767</td><td>organelle assembly</td><td>2</td></tr><tr><td>0.2614976646919941</td><td>multi-organism process</td><td>3</td></tr><tr><td>0.26540349627082094</td><td>response to other organism</td><td>1</td></tr><tr><td>0.26540349627082094</td><td>response to external biotic stimulus</td><td>1</td></tr><tr><td>0.2756677853023295</td><td>cellular iron ion homeostasis</td><td>1</td></tr><tr><td>0.2847282220594647</td><td>cellular protein-containing complex assembly</td><td>2</td></tr><tr><td>0.28579186962686315</td><td>negative regulation of translation</td><td>1</td></tr><tr><td>0.28579186962686315</td><td>negative regulation of cellular amide metabolic process</td><td>1</td></tr><tr><td>0.2951213118972388</td><td>multi-organism cellular process</td><td>2</td></tr><tr><td>0.2957776204144781</td><td>glutamine family amino acid biosynthetic process</td><td>1</td></tr><tr><td>0.30562688446571207</td><td>single-species submerged biofilm formation</td><td>1</td></tr><tr><td>0.3153414844906229</td><td>negative regulation of cellular protein metabolic process</td><td>1</td></tr><tr><td>0.3249232194402144</td><td>protein secretion</td><td>1</td></tr><tr><td>0.3249232194402144</td><td>L-amino acid transport</td><td>1</td></tr><tr><td>0.3249232194402144</td><td>secretion</td><td>1</td></tr><tr><td>0.3249232194402144</td><td>peptide secretion</td><td>1</td></tr><tr><td>0.3249232194402144</td><td>secretion by cell</td><td>1</td></tr><tr><td>0.3249232194402144</td><td>establishment of protein localization to extracellular region</td><td>1</td></tr><tr><td>0.34369517286332674</td><td>cellular transition metal ion homeostasis</td><td>1</td></tr><tr><td>0.34369517286332674</td><td>cellular response to starvation</td><td>1</td></tr><tr><td>0.34369517286332674</td><td>negative regulation of protein metabolic process</td><td>1</td></tr><tr><td>0.3528888730849926</td><td>cellular metal ion homeostasis</td><td>1</td></tr><tr><td>0.3528888730849926</td><td>submerged biofilm formation</td><td>1</td></tr><tr><td>0.3528888730849926</td><td>establishment of localization in cell</td><td>1</td></tr><tr><td>0.35666770230144257</td><td>response to stimulus</td><td>14</td></tr><tr><td>0.3578655860234685</td><td>protein-containing complex assembly</td><td>3</td></tr><tr><td>0.3619566723145079</td><td>amino acid transmembrane transport</td><td>1</td></tr><tr><td>0.3619566723145079</td><td>carbohydrate derivative transport</td><td>1</td></tr><tr><td>0.3709002551130775</td><td>cellular response to nutrient levels</td><td>1</td></tr><tr><td>0.37972128404658456</td><td>import into cell</td><td>1</td></tr><tr><td>0.3826117782409264</td><td>transmembrane transport</td><td>5</td></tr><tr><td>0.388421399918685</td><td>export from cell</td><td>1</td></tr><tr><td>0.4054653488237648</td><td>response to starvation</td><td>1</td></tr><tr><td>0.4138123573245971</td><td>proteolysis</td><td>1</td></tr><tr><td>0.4220448042674714</td><td>cellular cation homeostasis</td><td>1</td></tr><tr><td>0.43016422592382214</td><td>cellular ion homeostasis</td><td>1</td></tr><tr><td>0.43817213843037167</td><td>rRNA processing</td><td>1</td></tr><tr><td>0.43817213843037167</td><td>response to nutrient levels</td><td>1</td></tr><tr><td>0.44607003808204865</td><td>rRNA metabolic process</td><td>1</td></tr><tr><td>0.4538594015573572</td><td>cellular chemical homeostasis</td><td>1</td></tr><tr><td>0.4538594015573572</td><td>response to organic substance</td><td>1</td></tr><tr><td>0.45682936804715546</td><td>protein-containing complex subunit organization</td><td>3</td></tr><tr><td>0.46911833019397486</td><td>peptidoglycan biosynthetic process</td><td>1</td></tr><tr><td>0.46911833019397486</td><td>glycosaminoglycan biosynthetic process</td><td>1</td></tr><tr><td>0.46911833019397486</td><td>aminoglycan biosynthetic process</td><td>1</td></tr><tr><td>0.46911833019397486</td><td>carboxylic acid transmembrane transport</td><td>1</td></tr><tr><td>0.46911833019397486</td><td>organic acid transmembrane transport</td><td>1</td></tr><tr><td>0.46943082824404164</td><td>organelle organization</td><td>2</td></tr><tr><td>0.47659075293380143</td><td>cell wall macromolecule biosynthetic process</td><td>1</td></tr><tr><td>0.47659075293380143</td><td>cellular component macromolecule biosynthetic process</td><td>1</td></tr><tr><td>0.4912285191425445</td><td>peptidoglycan-based cell wall biogenesis</td><td>1</td></tr><tr><td>0.49660529484132043</td><td>cellular response to DNA damage stimulus</td><td>4</td></tr><tr><td>0.49839660917111284</td><td>cell wall biogenesis</td><td>1</td></tr><tr><td>0.49839660917111284</td><td>cell adhesion</td><td>1</td></tr><tr><td>0.5099772935527684</td><td>cellular response to stress</td><td>5</td></tr><tr><td>0.5148174997801833</td><td>negative regulation of cellular macromolecule biosynthetic process</td><td>2</td></tr><tr><td>0.5148174997801833</td><td>negative regulation of macromolecule biosynthetic process</td><td>2</td></tr><tr><td>0.5148174997801833</td><td>response to antibiotic</td><td>2</td></tr><tr><td>0.5192205454577745</td><td>negative regulation of cellular biosynthetic process</td><td>2</td></tr><tr><td>0.5192205454577745</td><td>negative regulation of biosynthetic process</td><td>2</td></tr><tr><td>0.5192205454577745</td><td>response to external stimulus</td><td>2</td></tr><tr><td>0.5327824553185312</td><td>cell wall macromolecule metabolic process</td><td>1</td></tr><tr><td>0.5365771263812469</td><td>negative regulation of nitrogen compound metabolic process</td><td>2</td></tr><tr><td>0.5393777623359489</td><td>glutamine family amino acid metabolic process</td><td>1</td></tr><tr><td>0.5393777623359489</td><td>single-species biofilm formation</td><td>1</td></tr><tr><td>0.5493222896990964</td><td>negative regulation of cellular metabolic process</td><td>2</td></tr><tr><td>0.5576876413105811</td><td>negative regulation of gene expression</td><td>2</td></tr><tr><td>0.571013396124047</td><td>protein homooligomerization</td><td>1</td></tr><tr><td>0.571013396124047</td><td>biofilm formation</td><td>1</td></tr><tr><td>0.571013396124047</td><td>anion transmembrane transport</td><td>1</td></tr><tr><td>0.6005223300501827</td><td>response to toxic substance</td><td>1</td></tr><tr><td>0.6054366011375841</td><td>organonitrogen compound biosynthetic process</td><td>7</td></tr><tr><td>0.6061813826864264</td><td>cellular homeostasis</td><td>1</td></tr><tr><td>0.6132479482398289</td><td>negative regulation of macromolecule metabolic process</td><td>2</td></tr><tr><td>0.6172654379720408</td><td>cellular response to extracellular stimulus</td><td>1</td></tr><tr><td>0.6207530913164678</td><td>negative regulation of metabolic process</td><td>2</td></tr><tr><td>0.633322093173654</td><td>glycosaminoglycan metabolic process</td><td>1</td></tr><tr><td>0.633322093173654</td><td>peptidoglycan metabolic process</td><td>1</td></tr><tr><td>0.6419163379465749</td><td>cellular response to stimulus</td><td>6</td></tr><tr><td>0.6436588002008683</td><td>protein complex oligomerization</td><td>1</td></tr><tr><td>0.6436588002008683</td><td>aminoglycan metabolic process</td><td>1</td></tr><tr><td>0.6531887347863656</td><td>negative regulation of cellular process</td><td>2</td></tr><tr><td>0.6586319797804903</td><td>response to extracellular stimulus</td><td>1</td></tr><tr><td>0.6822318623844927</td><td>response to temperature stimulus</td><td>1</td></tr><tr><td>0.6999567671203897</td><td>protein transport</td><td>1</td></tr><tr><td>0.7084531348965992</td><td>amino acid transport</td><td>1</td></tr><tr><td>0.716714226117212</td><td>cell wall organization or biogenesis</td><td>1</td></tr><tr><td>0.7207585395691615</td><td>cellular response to chemical stimulus</td><td>1</td></tr><tr><td>0.7320687910263032</td><td>negative regulation of biological process</td><td>2</td></tr><tr><td>0.736378994309222</td><td>negative regulation of transcription, DNA-templated</td><td>1</td></tr><tr><td>0.736378994309222</td><td>negative regulation of nucleic acid-templated transcription</td><td>1</td></tr><tr><td>0.736378994309222</td><td>negative regulation of RNA biosynthetic process</td><td>1</td></tr><tr><td>0.7401486804483562</td><td>response to radiation</td><td>1</td></tr><tr><td>0.7438656694136581</td><td>ncRNA processing</td><td>1</td></tr><tr><td>0.7511444252938193</td><td>negative regulation of RNA metabolic process</td><td>1</td></tr><tr><td>0.7582209056239706</td><td>negative regulation of nucleobase-containing compound metabolic process</td><td>1</td></tr><tr><td>0.7750602952994429</td><td>gene expression</td><td>7</td></tr><tr><td>0.7846117883068564</td><td>RNA processing</td><td>1</td></tr><tr><td>0.7937641901904763</td><td>carboxylic acid transport</td><td>1</td></tr><tr><td>0.796729672425766</td><td>carbohydrate transport</td><td>1</td></tr><tr><td>0.796729672425766</td><td>organic acid transport</td><td>1</td></tr><tr><td>0.80253615312188</td><td>alpha-amino acid biosynthetic process</td><td>1</td></tr><tr><td>0.80253615312188</td><td>cellular protein modification process</td><td>1</td></tr><tr><td>0.80253615312188</td><td>protein modification process</td><td>1</td></tr><tr><td>0.8316884781357168</td><td>ncRNA metabolic process</td><td>1</td></tr><tr><td>0.8422263820000759</td><td>response to abiotic stimulus</td><td>2</td></tr><tr><td>0.843506294845071</td><td>cellular amino acid biosynthetic process</td><td>1</td></tr><tr><td>0.8476813220761308</td><td>regulation of cellular macromolecule biosynthetic process</td><td>3</td></tr><tr><td>0.8488143236991278</td><td>biological regulation</td><td>7</td></tr><tr><td>0.8492051597116976</td><td>regulation of macromolecule biosynthetic process</td><td>3</td></tr><tr><td>0.85370029346047</td><td>regulation of cellular biosynthetic process</td><td>3</td></tr><tr><td>0.8566341167065197</td><td>regulation of biosynthetic process</td><td>3</td></tr><tr><td>0.8613069663395836</td><td>cellular macromolecule biosynthetic process</td><td>7</td></tr><tr><td>0.8667167259273245</td><td>macromolecule biosynthetic process</td><td>7</td></tr><tr><td>0.8690987203794318</td><td>response to stress</td><td>5</td></tr><tr><td>0.8718977380884803</td><td>regulation of gene expression</td><td>3</td></tr><tr><td>0.8779307804795482</td><td>cell communication</td><td>1</td></tr><tr><td>0.8833359398600397</td><td>regulation of nitrogen compound metabolic process</td><td>3</td></tr><tr><td>0.8938857923357422</td><td>regulation of primary metabolic process</td><td>3</td></tr><tr><td>0.8950054473248201</td><td>regulation of cellular metabolic process</td><td>3</td></tr><tr><td>0.9048749767209641</td><td>regulation of RNA biosynthetic process</td><td>2</td></tr><tr><td>0.9048749767209641</td><td>regulation of nucleic acid-templated transcription</td><td>2</td></tr><tr><td>0.9048749767209641</td><td>regulation of transcription, DNA-templated</td><td>2</td></tr><tr><td>0.9086542145663563</td><td>regulation of macromolecule metabolic process</td><td>3</td></tr><tr><td>0.9136939672592416</td><td>organonitrogen compound metabolic process</td><td>9</td></tr><tr><td>0.9167719330960052</td><td>regulation of RNA metabolic process</td><td>2</td></tr><tr><td>0.9241445875702629</td><td>regulation of metabolic process</td><td>3</td></tr><tr><td>0.9254782059849364</td><td>regulation of nucleobase-containing compound metabolic process</td><td>2</td></tr><tr><td>0.933340028650202</td><td>alpha-amino acid metabolic process</td><td>1</td></tr><tr><td>0.9381164858623057</td><td>carboxylic acid biosynthetic process</td><td>1</td></tr><tr><td>0.9381164858623057</td><td>organic acid biosynthetic process</td><td>1</td></tr><tr><td>0.9434080552775485</td><td>drug metabolic process</td><td>1</td></tr><tr><td>0.9490241698431701</td><td>macromolecule modification</td><td>1</td></tr><tr><td>0.9502461249287099</td><td>cellular nitrogen compound biosynthetic process</td><td>6</td></tr><tr><td>0.95072928018652</td><td>nucleic acid-templated transcription</td><td>2</td></tr><tr><td>0.95072928018652</td><td>transcription, DNA-templated</td><td>2</td></tr><tr><td>0.9566463088749961</td><td>RNA biosynthetic process</td><td>2</td></tr><tr><td>0.9716546065991127</td><td>cellular amino acid metabolic process</td><td>1</td></tr><tr><td>0.9716546065991127</td><td>carbohydrate derivative biosynthetic process</td><td>1</td></tr><tr><td>0.9770626910565943</td><td>RNA metabolic process</td><td>3</td></tr><tr><td>0.9809703992044596</td><td>regulation of cellular process</td><td>3</td></tr><tr><td>0.9877776219527191</td><td>small molecule biosynthetic process</td><td>1</td></tr><tr><td>0.9885813574983651</td><td>regulation of biological process</td><td>3</td></tr><tr><td>0.9894626992980877</td><td>macromolecule metabolic process</td><td>10</td></tr><tr><td>0.9916996038413597</td><td>cellular macromolecule metabolic process</td><td>8</td></tr><tr><td>0.9935358984990896</td><td>heterocycle biosynthetic process</td><td>3</td></tr><tr><td>0.9938005394519334</td><td>nucleobase-containing compound biosynthetic process</td><td>2</td></tr><tr><td>0.9946522333322251</td><td>organic cyclic compound biosynthetic process</td><td>3</td></tr><tr><td>0.9958434533871948</td><td>carbohydrate derivative metabolic process</td><td>1</td></tr><tr><td>0.9961124732186195</td><td>organic substance biosynthetic process</td><td>8</td></tr><tr><td>0.9961606435122696</td><td>cellular biosynthetic process</td><td>8</td></tr><tr><td>0.9973412069498465</td><td>biosynthetic process</td><td>8</td></tr><tr><td>0.9983507931193133</td><td>aromatic compound biosynthetic process</td><td>2</td></tr><tr><td>0.998580551142842</td><td>nucleic acid metabolic process</td><td>3</td></tr><tr><td>0.9991705205242154</td><td>carboxylic acid metabolic process</td><td>1</td></tr><tr><td>0.9994416093483574</td><td>oxoacid metabolic process</td><td>1</td></tr><tr><td>0.9994988663935238</td><td>cellular nitrogen compound metabolic process</td><td>7</td></tr><tr><td>0.9995347933342575</td><td>organic acid metabolic process</td><td>1</td></tr><tr><td>0.9997774919813622</td><td>nitrogen compound metabolic process</td><td>11</td></tr><tr><td>0.9999453656390729</td><td>nucleobase-containing compound metabolic process</td><td>3</td></tr><tr><td>0.9999485832347764</td><td>heterocycle metabolic process</td><td>4</td></tr><tr><td>0.9999751024291116</td><td>organic cyclic compound metabolic process</td><td>4</td></tr><tr><td>0.9999840559526646</td><td>cellular process</td><td>23</td></tr><tr><td>0.9999941133210843</td><td>cellular aromatic compound metabolic process</td><td>3</td></tr><tr><td>0.9999970489580174</td><td>primary metabolic process</td><td>10</td></tr><tr><td>0.9999986768477187</td><td>small molecule metabolic process</td><td>1</td></tr><tr><td>0.9999999840639913</td><td>organic substance metabolic process</td><td>11</td></tr><tr><td>0.9999999907736663</td><td>cellular metabolic process</td><td>10</td></tr><tr><td>0.9999999996702391</td><td>metabolic process</td><td>11</td></tr><tr><td>1.0</td><td>biological_process</td><td>33</td></tr></tbody></table>"
      ],
      "text/plain": [
       "<__main__.Rankings at 0x7f14afba1ef0>"
      ]
     },
     "execution_count": 84,
     "metadata": {},
     "output_type": "execute_result"
    }
   ],
   "source": [
    "saList = dfClean[ dfClean['Log2 Corrected Abundance Ratio'] > 0.0 ]['Accession'].tolist()\n",
    "bp_analysis = computePathway(\"biological process\", xpGoTree_BP, fullEcoliGoTree_BP, \"biological process\", saList)\n",
    "bp_analysis[2]"
   ]
  },
  {
   "cell_type": "code",
   "execution_count": 85,
   "metadata": {
    "scrolled": true
   },
   "outputs": [
    {
     "name": "stdout",
     "output_type": "stream",
     "text": [
      "Evaluated 135 / 1693 Pathways, based on 44 proteins\n"
     ]
    },
    {
     "data": {
      "text/html": [
       "<h3>molecular function</h3><table><thead><th>p-value</th><th>Pathway name</th><th>n</th></thead><tbody><tr><td>4.079020213798363e-08</td><td>porin activity</td><td>8</td></tr><tr><td>5.4812535572080815e-08</td><td>channel activity</td><td>9</td></tr><tr><td>6.842147218688606e-05</td><td>protein domain specific binding</td><td>4</td></tr><tr><td>0.00013509993026375214</td><td>signaling receptor activity</td><td>4</td></tr><tr><td>0.0005635570539397125</td><td>protein N-terminus binding</td><td>2</td></tr><tr><td>0.0011171295071511346</td><td>5S rRNA binding</td><td>2</td></tr><tr><td>0.0011171295071511346</td><td>protein binding, bridging</td><td>2</td></tr><tr><td>0.0011171295071511346</td><td>colicin transmembrane transporter activity</td><td>2</td></tr><tr><td>0.0011171295071511346</td><td>bacteriocin transmembrane transporter activity</td><td>2</td></tr><tr><td>0.0012444576470391796</td><td>ion channel activity</td><td>3</td></tr><tr><td>0.0018912053184272182</td><td>molecular transducer activity</td><td>4</td></tr><tr><td>0.003807142687073018</td><td>ligand-gated channel activity</td><td>2</td></tr><tr><td>0.004866006857562407</td><td>iron ion binding</td><td>5</td></tr><tr><td>0.006046889124731828</td><td>protein binding</td><td>14</td></tr><tr><td>0.013409845102209886</td><td>gated channel activity</td><td>2</td></tr><tr><td>0.013919645681809879</td><td>virus receptor activity</td><td>1</td></tr><tr><td>0.013919645681809879</td><td>protein-L-isoaspartate (D-aspartate) O-methyltransferase activity</td><td>1</td></tr><tr><td>0.013919645681809879</td><td>peptide deformylase activity</td><td>1</td></tr><tr><td>0.013919645681809879</td><td>pyrroline-5-carboxylate reductase activity</td><td>1</td></tr><tr><td>0.013919645681809879</td><td>maltodextrin transmembrane transporter activity</td><td>1</td></tr><tr><td>0.013919645681809879</td><td>glutamate:sodium symporter activity</td><td>1</td></tr><tr><td>0.013919645681809879</td><td>long-chain fatty acid transporting porin activity</td><td>1</td></tr><tr><td>0.013919645681809879</td><td>sodium:dicarboxylate symporter activity</td><td>1</td></tr><tr><td>0.013919645681809879</td><td>nucleoside-specific channel forming porin activity</td><td>1</td></tr><tr><td>0.013919645681809879</td><td>fatty acid transmembrane transporter activity</td><td>1</td></tr><tr><td>0.01943567835615672</td><td>structural molecule activity</td><td>4</td></tr><tr><td>0.019833535282163924</td><td>ribonucleoprotein complex binding</td><td>3</td></tr><tr><td>0.022445185834147702</td><td>protein dimerization activity</td><td>3</td></tr><tr><td>0.026699641797181053</td><td>protein-containing complex binding</td><td>3</td></tr><tr><td>0.02764987846342463</td><td>cadmium ion binding</td><td>1</td></tr><tr><td>0.02764987846342463</td><td>virion binding</td><td>1</td></tr><tr><td>0.02764987846342463</td><td>protein carboxyl O-methyltransferase activity</td><td>1</td></tr><tr><td>0.02764987846342463</td><td>ADP-sugar diphosphatase activity</td><td>1</td></tr><tr><td>0.02764987846342463</td><td>maltose transporting porin activity</td><td>1</td></tr><tr><td>0.02764987846342463</td><td>ferric iron transmembrane transporter activity</td><td>1</td></tr><tr><td>0.04119321665546683</td><td>polysaccharide transmembrane transporter activity</td><td>1</td></tr><tr><td>0.046423152769068374</td><td>ribosome binding</td><td>2</td></tr><tr><td>0.046423152769068374</td><td>xenobiotic transmembrane transporter activity</td><td>2</td></tr><tr><td>0.047722593381854916</td><td>structural constituent of ribosome</td><td>3</td></tr><tr><td>0.049855237644997906</td><td>peptide transmembrane transporter activity</td><td>2</td></tr><tr><td>0.05430334307762181</td><td>inorganic molecular entity transmembrane transporter activity</td><td>6</td></tr><tr><td>0.05455214587207651</td><td>bent DNA binding</td><td>1</td></tr><tr><td>0.05455214587207651</td><td>disordered domain specific binding</td><td>1</td></tr><tr><td>0.05455214587207651</td><td>organic acid:sodium symporter activity</td><td>1</td></tr><tr><td>0.05455214587207651</td><td>amino acid:sodium symporter activity</td><td>1</td></tr><tr><td>0.05455214587207651</td><td>ATPase-coupled vitamin B12 transmembrane transporter activity</td><td>1</td></tr><tr><td>0.06386320167822555</td><td>transmembrane transporter activity</td><td>11</td></tr><tr><td>0.06708245872997792</td><td>transporter activity</td><td>11</td></tr><tr><td>0.0677291194487748</td><td>toxic substance binding</td><td>1</td></tr><tr><td>0.0677291194487748</td><td>maltose transmembrane transporter activity</td><td>1</td></tr><tr><td>0.0677291194487748</td><td>amino acid:cation symporter activity</td><td>1</td></tr><tr><td>0.0677291194487748</td><td>ferric-enterobactin transmembrane transporter activity</td><td>1</td></tr><tr><td>0.071130302327786</td><td>ion transmembrane transporter activity</td><td>6</td></tr><tr><td>0.08072655884805355</td><td>solute:sodium symporter activity</td><td>1</td></tr><tr><td>0.08072655884805355</td><td>iron ion transmembrane transporter activity</td><td>1</td></tr><tr><td>0.0935468540656314</td><td>protein methyltransferase activity</td><td>1</td></tr><tr><td>0.0935468540656314</td><td>aspartic-type endopeptidase activity</td><td>1</td></tr><tr><td>0.106192364028188</td><td>disaccharide transmembrane transporter activity</td><td>1</td></tr><tr><td>0.106192364028188</td><td>dicarboxylic acid transmembrane transporter activity</td><td>1</td></tr><tr><td>0.106192364028188</td><td>siderophore transmembrane transporter activity</td><td>1</td></tr><tr><td>0.106192364028188</td><td>vitamin transmembrane transporter activity</td><td>1</td></tr><tr><td>0.106192364028188</td><td>lipid transporter activity</td><td>1</td></tr><tr><td>0.10624492626571744</td><td>identical protein binding</td><td>9</td></tr><tr><td>0.11866541698773245</td><td>O-methyltransferase activity</td><td>1</td></tr><tr><td>0.11866541698773245</td><td>oligosaccharide transmembrane transporter activity</td><td>1</td></tr><tr><td>0.11866541698773245</td><td>nucleoside transmembrane transporter activity</td><td>1</td></tr><tr><td>0.14310331387018382</td><td>ribosomal small subunit binding</td><td>1</td></tr><tr><td>0.15507266440698053</td><td>oxidoreductase activity, acting on the CH-NH group of donors, NAD or NADP as acceptor</td><td>1</td></tr><tr><td>0.15507266440698053</td><td>sodium ion transmembrane transporter activity</td><td>1</td></tr><tr><td>0.15773292336990605</td><td>metal ion transmembrane transporter activity</td><td>2</td></tr><tr><td>0.17852321704274435</td><td>oxidoreductase activity, acting on the CH-NH group of donors</td><td>1</td></tr><tr><td>0.19000875197950368</td><td>serine-type endopeptidase activity</td><td>1</td></tr><tr><td>0.1927382545818398</td><td>rRNA binding</td><td>2</td></tr><tr><td>0.21251096028591832</td><td>macromolecule transmembrane transporter activity</td><td>1</td></tr><tr><td>0.23440185998142418</td><td>monocarboxylic acid transmembrane transporter activity</td><td>1</td></tr><tr><td>0.24512315793255302</td><td>ferrous iron binding</td><td>1</td></tr><tr><td>0.24620431075425653</td><td>RNA binding</td><td>4</td></tr><tr><td>0.26718688255917733</td><td>transition metal ion binding</td><td>6</td></tr><tr><td>0.27554454046528426</td><td>carboxylic acid transmembrane transporter activity</td><td>2</td></tr><tr><td>0.2807624556008942</td><td>organic acid transmembrane transporter activity</td><td>2</td></tr><tr><td>0.28656011819526656</td><td>protein homodimerization activity</td><td>1</td></tr><tr><td>0.28656011819526656</td><td>efflux transmembrane transporter activity</td><td>1</td></tr><tr><td>0.28656011819526656</td><td>DNA-binding transcription repressor activity</td><td>1</td></tr><tr><td>0.29656692558804065</td><td>transition metal ion transmembrane transporter activity</td><td>1</td></tr><tr><td>0.3064365222965743</td><td>carbohydrate derivative transmembrane transporter activity</td><td>1</td></tr><tr><td>0.3223756468279887</td><td>organic anion transmembrane transporter activity</td><td>2</td></tr><tr><td>0.40645510836965193</td><td>serine-type peptidase activity</td><td>1</td></tr><tr><td>0.40645510836965193</td><td>hydrolase activity, acting on carbon-nitrogen (but not peptide) bonds, in linear amides</td><td>1</td></tr><tr><td>0.42334064249952275</td><td>inorganic cation transmembrane transporter activity</td><td>2</td></tr><tr><td>0.43920980477520943</td><td>tRNA binding</td><td>1</td></tr><tr><td>0.4617238026859496</td><td>anion transmembrane transporter activity</td><td>2</td></tr><tr><td>0.4626099182859973</td><td>endopeptidase activity</td><td>1</td></tr><tr><td>0.4626099182859973</td><td>solute:cation symporter activity</td><td>1</td></tr><tr><td>0.49950647021207484</td><td>S-adenosylmethionine-dependent methyltransferase activity</td><td>1</td></tr><tr><td>0.49950647021207484</td><td>amino acid transmembrane transporter activity</td><td>1</td></tr><tr><td>0.5339234329845621</td><td>transcription regulatory region sequence-specific DNA binding</td><td>1</td></tr><tr><td>0.5534516674508028</td><td>sequence-specific double-stranded DNA binding</td><td>1</td></tr><tr><td>0.5534516674508028</td><td>transcription regulatory region DNA binding</td><td>1</td></tr><tr><td>0.584235979558442</td><td>methyltransferase activity</td><td>1</td></tr><tr><td>0.6112166604805707</td><td>cation transmembrane transporter activity</td><td>2</td></tr><tr><td>0.6184473962345932</td><td>symporter activity</td><td>1</td></tr><tr><td>0.6238752379959669</td><td>double-stranded DNA binding</td><td>1</td></tr><tr><td>0.6292275955370104</td><td>hydrolase activity, acting on carbon-nitrogen (but not peptide) bonds</td><td>1</td></tr><tr><td>0.6292275955370104</td><td>ATPase-coupled transmembrane transporter activity</td><td>1</td></tr><tr><td>0.6299074076593847</td><td>zinc ion binding</td><td>2</td></tr><tr><td>0.6548925457315591</td><td>monovalent inorganic cation transmembrane transporter activity</td><td>1</td></tr><tr><td>0.6694492901992073</td><td>primary active transmembrane transporter activity</td><td>1</td></tr><tr><td>0.6741668481688489</td><td>transferase activity, transferring one-carbon groups</td><td>1</td></tr><tr><td>0.6923878002276042</td><td>carbohydrate transmembrane transporter activity</td><td>1</td></tr><tr><td>0.7627891333585293</td><td>peptidase activity, acting on L-amino acid peptides</td><td>1</td></tr><tr><td>0.7783770582150796</td><td>catalytic activity, acting on a protein</td><td>2</td></tr><tr><td>0.7825482291203794</td><td>active ion transmembrane transporter activity</td><td>1</td></tr><tr><td>0.7918151615768391</td><td>peptidase activity</td><td>1</td></tr><tr><td>0.8035728692952626</td><td>secondary active transmembrane transporter activity</td><td>1</td></tr><tr><td>0.8119627729513215</td><td>sequence-specific DNA binding</td><td>1</td></tr><tr><td>0.8239827613383881</td><td>metal ion binding</td><td>9</td></tr><tr><td>0.834813980912344</td><td>cation binding</td><td>9</td></tr><tr><td>0.8380713009887383</td><td>active transmembrane transporter activity</td><td>2</td></tr><tr><td>0.9210164907078149</td><td>magnesium ion binding</td><td>1</td></tr><tr><td>0.9377577429978742</td><td>DNA-binding transcription factor activity</td><td>1</td></tr><tr><td>0.9517439916741973</td><td>transcription regulator activity</td><td>1</td></tr><tr><td>0.9584824709855386</td><td>pyrophosphatase activity</td><td>1</td></tr><tr><td>0.9603181502500173</td><td>hydrolase activity, acting on acid anhydrides</td><td>1</td></tr><tr><td>0.987432260260342</td><td>binding</td><td>24</td></tr><tr><td>0.994788175735174</td><td>nucleic acid binding</td><td>4</td></tr><tr><td>0.9970760237961048</td><td>DNA binding</td><td>2</td></tr><tr><td>0.9983145930055042</td><td>hydrolase activity</td><td>3</td></tr><tr><td>0.998417629786061</td><td>oxidoreductase activity</td><td>1</td></tr><tr><td>0.9988195988685937</td><td>cofactor binding</td><td>1</td></tr><tr><td>0.9993669737070461</td><td>ion binding</td><td>9</td></tr><tr><td>0.9999493416243019</td><td>transferase activity</td><td>1</td></tr><tr><td>0.9999999702135335</td><td>organic cyclic compound binding</td><td>4</td></tr><tr><td>0.9999999702135335</td><td>heterocyclic compound binding</td><td>4</td></tr><tr><td>1.0</td><td>molecular_function</td><td>29</td></tr><tr><td>1.0</td><td>catalytic activity</td><td>5</td></tr></tbody></table>"
      ],
      "text/plain": [
       "<__main__.Rankings at 0x7f14b9caa438>"
      ]
     },
     "execution_count": 85,
     "metadata": {},
     "output_type": "execute_result"
    }
   ],
   "source": [
    "saList = dfClean[ dfClean['Log2 Corrected Abundance Ratio'] > 0.0 ]['Accession'].tolist()\n",
    "mf_analysis = computePathway(\"molecular function\", xpGoTree_MF, fullEcoliGoTree_MF, \"molecular function\", saList)\n",
    "mf_analysis[2]"
   ]
  },
  {
   "cell_type": "code",
   "execution_count": 86,
   "metadata": {
    "scrolled": true
   },
   "outputs": [
    {
     "name": "stdout",
     "output_type": "stream",
     "text": [
      "Evaluated 55 / 208 Pathways, based on 44 proteins\n"
     ]
    },
    {
     "data": {
      "text/html": [
       "<h3>cellular component</h3><table><thead><th>p-value</th><th>Pathway name</th><th>n</th></thead><tbody><tr><td>1.0215714911346547e-23</td><td>external encapsulating structure part</td><td>26</td></tr><tr><td>1.0215714911346547e-23</td><td>cell outer membrane</td><td>26</td></tr><tr><td>7.850474882875648e-23</td><td>outer membrane</td><td>26</td></tr><tr><td>9.371662207134898e-23</td><td>external encapsulating structure</td><td>26</td></tr><tr><td>7.407416447732138e-19</td><td>cell envelope</td><td>29</td></tr><tr><td>8.156120114973369e-19</td><td>envelope</td><td>29</td></tr><tr><td>8.303624740016611e-11</td><td>intrinsic component of cell outer membrane</td><td>9</td></tr><tr><td>8.250388960599696e-07</td><td>integral component of cell outer membrane</td><td>5</td></tr><tr><td>1.0578539711794813e-06</td><td>pore complex</td><td>6</td></tr><tr><td>3.3340106553038095e-06</td><td>Bam protein complex</td><td>4</td></tr><tr><td>2.214563121907388e-05</td><td>membrane protein complex</td><td>11</td></tr><tr><td>3.2181420656797904e-05</td><td>intrinsic component of periplasmic side of cell outer membrane</td><td>4</td></tr><tr><td>7.91845132864773e-05</td><td>periplasmic side of cell outer membrane</td><td>4</td></tr><tr><td>0.0005506364343575508</td><td>protein-containing complex</td><td>16</td></tr><tr><td>0.0008969166682848051</td><td>cell periphery</td><td>31</td></tr><tr><td>0.001992452650895234</td><td>membrane</td><td>32</td></tr><tr><td>0.014775815225313842</td><td>cytosolic large ribosomal subunit</td><td>3</td></tr><tr><td>0.014775815225313842</td><td>large ribosomal subunit</td><td>3</td></tr><tr><td>0.015279892747400318</td><td>side of membrane</td><td>4</td></tr><tr><td>0.03053376754644125</td><td>nucleoid</td><td>2</td></tr><tr><td>0.030665533993759528</td><td>ion channel complex</td><td>1</td></tr><tr><td>0.030665533993759528</td><td>TAM protein secretion complex</td><td>1</td></tr><tr><td>0.037161997258963346</td><td>intrinsic component of membrane</td><td>23</td></tr><tr><td>0.04565173093860269</td><td>efflux pump complex</td><td>1</td></tr><tr><td>0.04565173093860269</td><td>MacAB-TolC complex</td><td>1</td></tr><tr><td>0.05632311412511287</td><td>membrane part</td><td>23</td></tr><tr><td>0.059020097338938475</td><td>cytosolic ribosome</td><td>3</td></tr><tr><td>0.059020097338938475</td><td>ribosomal subunit</td><td>3</td></tr><tr><td>0.060019605984164746</td><td>cell surface</td><td>2</td></tr><tr><td>0.07205538014950186</td><td>ribosome</td><td>3</td></tr><tr><td>0.07480734930619826</td><td>ribonucleoprotein complex</td><td>3</td></tr><tr><td>0.09534852011945784</td><td>intracellular organelle part</td><td>3</td></tr><tr><td>0.10252756874371113</td><td>integral component of membrane</td><td>21</td></tr><tr><td>0.11461152405971964</td><td>cytosolic part</td><td>3</td></tr><tr><td>0.17994508791265373</td><td>intracellular non-membrane-bounded organelle</td><td>3</td></tr><tr><td>0.18384681432907318</td><td>intracellular organelle</td><td>3</td></tr><tr><td>0.18777214732087874</td><td>organelle part</td><td>3</td></tr><tr><td>0.20874175060662384</td><td>extracellular region</td><td>1</td></tr><tr><td>0.3000621211766382</td><td>non-membrane-bounded organelle</td><td>3</td></tr><tr><td>0.3043631065344681</td><td>organelle</td><td>3</td></tr><tr><td>0.35794402394357216</td><td>transmembrane transporter complex</td><td>2</td></tr><tr><td>0.4245174110341289</td><td>outer membrane-bounded periplasmic space</td><td>3</td></tr><tr><td>0.46747603075694844</td><td>periplasmic space</td><td>4</td></tr><tr><td>0.498598170976557</td><td>protein-DNA complex</td><td>1</td></tr><tr><td>0.6758438894385428</td><td>cell part</td><td>43</td></tr><tr><td>0.6933832874648669</td><td>cell</td><td>43</td></tr><tr><td>0.9766361562410582</td><td>cytosol</td><td>9</td></tr><tr><td>0.9798771182435887</td><td>cytoplasmic part</td><td>9</td></tr><tr><td>0.9929485221704798</td><td>integral component of plasma membrane</td><td>1</td></tr><tr><td>0.994852531548578</td><td>intrinsic component of plasma membrane</td><td>1</td></tr><tr><td>0.9985789465830289</td><td>cytoplasm</td><td>11</td></tr><tr><td>0.9986950796453945</td><td>plasma membrane part</td><td>1</td></tr><tr><td>0.9993259970034492</td><td>intracellular part</td><td>11</td></tr><tr><td>0.9999980015962491</td><td>plasma membrane</td><td>5</td></tr><tr><td>1.0</td><td>cellular_component</td><td>43</td></tr></tbody></table>"
      ],
      "text/plain": [
       "<__main__.Rankings at 0x7f14b05bc320>"
      ]
     },
     "execution_count": 86,
     "metadata": {},
     "output_type": "execute_result"
    }
   ],
   "source": [
    "saList = dfClean[ dfClean['Log2 Corrected Abundance Ratio'] > 0.0 ]['Accession'].tolist()\n",
    "mf_analysis = computePathway(\"cellular component\", xpGoTree_CC, fullEcoliGoTree_CC, \"cellular component\", saList)\n",
    "mf_analysis[2]"
   ]
  }
 ],
 "metadata": {
  "kernelspec": {
   "display_name": "Python 3",
   "language": "python",
   "name": "python3"
  },
  "language_info": {
   "codemirror_mode": {
    "name": "ipython",
    "version": 3
   },
   "file_extension": ".py",
   "mimetype": "text/x-python",
   "name": "python",
   "nbconvert_exporter": "python",
   "pygments_lexer": "ipython3",
   "version": "3.7.3"
  }
 },
 "nbformat": 4,
 "nbformat_minor": 2
}
