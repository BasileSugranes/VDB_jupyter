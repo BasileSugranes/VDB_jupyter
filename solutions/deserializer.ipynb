{
 "cells": [
  {
   "cell_type": "markdown",
   "metadata": {},
   "source": [
    "# DESERIALIZER QUICK GO THROUGH\n",
    "\n",
    "##### IFB Virtual Machine Configuration\n",
    "\n",
    "* `rootDir` points to Jupyter Home Directory\n",
    "* `projectDir` points to the Git project, holds the *tsv* file\n",
    "* `libDir` points to Git project python library with files names `go.py  stat_utils.py  uniprot.py`\n",
    "* `dataDir` points to shared data folder with uniprot and GO files"
   ]
  },
  {
   "cell_type": "code",
   "execution_count": 1,
   "metadata": {},
   "outputs": [],
   "source": [
    "import sys\n",
    "\n",
    "rootDir = \"/Users/guillaumelaunay/work/communications/lectures/UCBL/M2_bioinfo/VDB/TP/VDB_jupyter\"\n",
    "libDir = rootDir + \"/lib\"\n",
    "dataDir= \"/Users/guillaumelaunay/work/communications/lectures/UCBL/M2_bioinfo/VDB/TP/data\" \n",
    "projectDir=rootDir\n",
    "\n",
    "sys.path.append(libDir)"
   ]
  },
  {
   "cell_type": "code",
   "execution_count": 3,
   "metadata": {},
   "outputs": [
    {
     "name": "stdout",
     "output_type": "stream",
     "text": [
      "Root found skipping::{'ID': '0000', 'name': 'root', 'eTag': [], 'leafCount': 0, 'features': {'Fisher': 1.0, 'Hpg': 1.0}, 'oNode': None, 'isDAGelem': False, 'children': ['biological_process']}\n",
      "\n"
     ]
    }
   ],
   "source": [
    "import pandas, uniprot, go\n",
    "fPickle=\"/Users/guillaumelaunay/work/communications/lectures/UCBL/M2_bioinfo/VDB/TP/VDB_jupyter/solutions/testGoTree.pkl\"\n",
    "fOwl=\"/Users/guillaumelaunay/work/communications/lectures/UCBL/M2_bioinfo/VDB/TP/data/go.owl\"\n",
    "goTreeObjClone=go.deserializeGoTree(fPickle, fOwl)\n"
   ]
  },
  {
   "cell_type": "code",
   "execution_count": 4,
   "metadata": {},
   "outputs": [
    {
     "data": {
      "text/plain": [
       "{'ID': 'GO:0003333', 'name': 'amino acid transmembrane transport', 'eTag': ['P23173'], 'leafCount': 0, 'features': {'Fisher': 0.3619566723145079, 'Hpg': 0.36593352068646445}, 'oNode': obo.GO_0003333, 'isDAGelem': True, 'children': ['proline import across plasma membrane', 'amino acid import across plasma membrane', 'L-alpha-amino acid transmembrane transport', 'L-arginine transmembrane transport', 'amino acid export across plasma membrane', 'cysteine transmembrane transport', 'regulation of amino acid transmembrane transport']}"
      ]
     },
     "execution_count": 4,
     "metadata": {},
     "output_type": "execute_result"
    }
   ],
   "source": [
    "goTreeObjClone.getByName('amino acid transmembrane transport')"
   ]
  }
 ],
 "metadata": {
  "kernelspec": {
   "display_name": "Python 3",
   "language": "python",
   "name": "python3"
  },
  "language_info": {
   "codemirror_mode": {
    "name": "ipython",
    "version": 3
   },
   "file_extension": ".py",
   "mimetype": "text/x-python",
   "name": "python",
   "nbconvert_exporter": "python",
   "pygments_lexer": "ipython3",
   "version": "3.7.3"
  }
 },
 "nbformat": 4,
 "nbformat_minor": 2
}
