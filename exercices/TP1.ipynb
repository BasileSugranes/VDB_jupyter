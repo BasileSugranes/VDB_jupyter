{
 "cells": [
  {
   "cell_type": "code",
   "execution_count": 2,
   "metadata": {},
   "outputs": [],
   "source": [
    "import pandas\n",
    "import numpy as np"
   ]
  },
  {
   "cell_type": "code",
   "execution_count": 3,
   "metadata": {},
   "outputs": [],
   "source": [
    "%matplotlib inline\n",
    "import matplotlib.pyplot as plt"
   ]
  },
  {
   "cell_type": "markdown",
   "metadata": {},
   "source": [
    "## Jeux de données\n",
    "Jeux de données de protéomique quantitative au format TSV, `TCL_wt1.tsv`\n",
    "\n",
    "## Objectifs\n",
    "##### 1 Lire et traiter des données d'entrée avec [PANDAS](https://pandas.pydata.org/)\n",
    "    * Specification du type des colonnes\n",
    "    * Nettoyage des valeurs incorrectes\n",
    "\n",
    "##### 2 Représenter la distribution empirique des \"fold-change\" (**FC**)\n",
    "    * Representation d'une grille d'histogrammes\n",
    "    * Explorer l'effet du paramètre: nombre de catégories (*bins*)\n",
    "    * Se familliariser avec les objets Axes et Figure\n",
    "    \n",
    "##### 3 Evaluer un seuil de **FDR** 5%, avec une approximation par noyau Gaussien de la distribution.\n",
    "    * Génération d'un jeu de données unimodal (génération par une loi normale)\n",
    "    * A partir de cet echantillon, estimation par noyau gaussien d'une densité de probabilité\n",
    "    * Determiner le seuil alpha des 5% de valeurs extrêmes de la densité de probabilité\n",
    "\n",
    "##### 4 Evaluer un seuil de **FDR** 5% sur les données d'abondance experimentales.\n",
    "    * Choisir un histogramme avec un nombre de catégores pertinent\n",
    "    * Y Superposer la courbe de la densité de probabilité obtenue en suivant la méthode[3]\n",
    "    * Annoter et légender la figure\n",
    "\n",
    "\n",
    "## Ressources\n",
    "https://www.bioconductor.org/help/course-materials/2015/SeattleApr2015/E_GeneSetEnrichment.html\n",
    "\n",
    "https://matplotlib.org/gallery.html#\n",
    "\n",
    "\n"
   ]
  },
  {
   "cell_type": "markdown",
   "metadata": {},
   "source": [
    "## Format des données expérimentales\n",
    "\n",
    "Le terme *RA*, désigne le **R**atio d'**A**bondance pour une protéines entre deux expériences.\n",
    "\n",
    "Les valeurs de **RA** sont stockées dans la colonne `Log2 Corrected Abundance Ratio`.\n",
    "\n",
    "Un \"ratio\" négatif indique qu'une protéine est moins présente dans l'experience considérée par rapport à une experience de référence.\n",
    "\n",
    "* La condition experimentale de référence est un milieu de croissance bactérienne\n",
    "* La condition experimentale testée est un milieu riche en Tétracycline \n",
    "\n"
   ]
  },
  {
   "cell_type": "markdown",
   "metadata": {},
   "source": [
    "# Première exploration des données"
   ]
  },
  {
   "cell_type": "markdown",
   "metadata": {},
   "source": [
    "### Lecture des valeurs experimentales\n",
    "Charger ```TCL_wt1.tsv``` dans une [dataframe pandas](https://pandas.pydata.org/pandas-docs/stable/reference/api/pandas.read_csv.html).\n",
    "##### [Comment filtrer des lignes Pandas](https://cmdlinetips.com/2018/02/how-to-subset-pandas-dataframe-based-on-values-of-a-column/)\n",
    "###### pandas.[read_csv](https://pandas.pydata.org/pandas-docs/stable/reference/api/pandas.read_csv.html) a de nombreuses options bien utiles notamment \n",
    "* dtype\n",
    "* na_values\n",
    "\n",
    "<span style=\"color:firebrick;font-weight:bold\"> $\\rhd$ \n",
    "Retirer les lignes présentant des aberrations numériques\n",
    "</span>\n",
    "\n",
    "Utile pour la suite: si nécessaire, une colonne pandas peut être [convertie](https://pandas.pydata.org/pandas-docs/stable/reference/api/pandas.Series.to_list.html?highlight=to_list#pandas.Series.to_list) en liste python."
   ]
  },
  {
   "cell_type": "code",
   "execution_count": 4,
   "metadata": {},
   "outputs": [
    {
     "data": {
      "text/plain": [
       "Index(['Accession', 'Description', 'Gene Symbol',\n",
       "       'Corrected Abundance ratio (1.53)', 'Log2 Corrected Abundance Ratio',\n",
       "       'Abundance Ratio Adj. P-Value: (127. T3 Tc WT) / (126. T0 WT)',\n",
       "       'LOG10 Adj.P-val'],\n",
       "      dtype='object')"
      ]
     },
     "execution_count": 4,
     "metadata": {},
     "output_type": "execute_result"
    }
   ],
   "source": [
    "data = pandas.read_csv('../TCL_wt1.tsv',sep='\\t', na_values='#VALEUR!',\n",
    "                dtype = {'Accession':str, 'Corrected Abundance ratio (1.53)':float})\n",
    "data.columns"
   ]
  },
  {
   "cell_type": "code",
   "execution_count": 5,
   "metadata": {},
   "outputs": [],
   "source": [
    "data_no_null=data.dropna()"
   ]
  },
  {
   "cell_type": "code",
   "execution_count": 6,
   "metadata": {},
   "outputs": [
    {
     "data": {
      "text/html": [
       "<div>\n",
       "<style scoped>\n",
       "    .dataframe tbody tr th:only-of-type {\n",
       "        vertical-align: middle;\n",
       "    }\n",
       "\n",
       "    .dataframe tbody tr th {\n",
       "        vertical-align: top;\n",
       "    }\n",
       "\n",
       "    .dataframe thead th {\n",
       "        text-align: right;\n",
       "    }\n",
       "</style>\n",
       "<table border=\"1\" class=\"dataframe\">\n",
       "  <thead>\n",
       "    <tr style=\"text-align: right;\">\n",
       "      <th></th>\n",
       "      <th>Accession</th>\n",
       "      <th>Description</th>\n",
       "      <th>Gene Symbol</th>\n",
       "      <th>Corrected Abundance ratio (1.53)</th>\n",
       "      <th>Log2 Corrected Abundance Ratio</th>\n",
       "      <th>Abundance Ratio Adj. P-Value: (127. T3 Tc WT) / (126. T0 WT)</th>\n",
       "      <th>LOG10 Adj.P-val</th>\n",
       "    </tr>\n",
       "  </thead>\n",
       "  <tbody>\n",
       "    <tr>\n",
       "      <th>0</th>\n",
       "      <td>P75936</td>\n",
       "      <td>Basal-body rod modification protein FlgD OS=Es...</td>\n",
       "      <td>flgD</td>\n",
       "      <td>0.075817</td>\n",
       "      <td>-3.721335</td>\n",
       "      <td>0.000055</td>\n",
       "      <td>4.260067</td>\n",
       "    </tr>\n",
       "    <tr>\n",
       "      <th>1</th>\n",
       "      <td>P76231</td>\n",
       "      <td>Uncharacterized protein YeaC OS=Escherichia co...</td>\n",
       "      <td>yeaC</td>\n",
       "      <td>0.092810</td>\n",
       "      <td>-3.429569</td>\n",
       "      <td>0.000351</td>\n",
       "      <td>3.454627</td>\n",
       "    </tr>\n",
       "    <tr>\n",
       "      <th>2</th>\n",
       "      <td>P0A8S9</td>\n",
       "      <td>Flagellar transcriptional regulator FlhD OS=Es...</td>\n",
       "      <td>flhD</td>\n",
       "      <td>0.102614</td>\n",
       "      <td>-3.284695</td>\n",
       "      <td>0.000027</td>\n",
       "      <td>4.571899</td>\n",
       "    </tr>\n",
       "    <tr>\n",
       "      <th>3</th>\n",
       "      <td>P0CE48</td>\n",
       "      <td>Elongation factor Tu 2 OS=Escherichia coli (st...</td>\n",
       "      <td>tufB</td>\n",
       "      <td>NaN</td>\n",
       "      <td>NaN</td>\n",
       "      <td>NaN</td>\n",
       "      <td>NaN</td>\n",
       "    </tr>\n",
       "    <tr>\n",
       "      <th>4</th>\n",
       "      <td>P05706</td>\n",
       "      <td>PTS system glucitol/sorbitol-specific EIIA com...</td>\n",
       "      <td>srlB</td>\n",
       "      <td>0.108497</td>\n",
       "      <td>-3.204277</td>\n",
       "      <td>0.019963</td>\n",
       "      <td>1.699768</td>\n",
       "    </tr>\n",
       "    <tr>\n",
       "      <th>...</th>\n",
       "      <td>...</td>\n",
       "      <td>...</td>\n",
       "      <td>...</td>\n",
       "      <td>...</td>\n",
       "      <td>...</td>\n",
       "      <td>...</td>\n",
       "      <td>...</td>\n",
       "    </tr>\n",
       "    <tr>\n",
       "      <th>2019</th>\n",
       "      <td>P24240</td>\n",
       "      <td>6-phospho-beta-glucosidase AscB OS=Escherichia...</td>\n",
       "      <td>ascB</td>\n",
       "      <td>NaN</td>\n",
       "      <td>NaN</td>\n",
       "      <td>NaN</td>\n",
       "      <td>NaN</td>\n",
       "    </tr>\n",
       "    <tr>\n",
       "      <th>2020</th>\n",
       "      <td>P0A917</td>\n",
       "      <td>Outer membrane protein X OS=Escherichia coli (...</td>\n",
       "      <td>ompX</td>\n",
       "      <td>1.579739</td>\n",
       "      <td>0.659686</td>\n",
       "      <td>0.002226</td>\n",
       "      <td>2.652391</td>\n",
       "    </tr>\n",
       "    <tr>\n",
       "      <th>2021</th>\n",
       "      <td>P02931</td>\n",
       "      <td>Outer membrane protein F OS=Escherichia coli (...</td>\n",
       "      <td>ompF</td>\n",
       "      <td>1.754902</td>\n",
       "      <td>0.811390</td>\n",
       "      <td>0.000068</td>\n",
       "      <td>4.164956</td>\n",
       "    </tr>\n",
       "    <tr>\n",
       "      <th>2022</th>\n",
       "      <td>P0AB40</td>\n",
       "      <td>Multiple stress resistance protein BhsA OS=Esc...</td>\n",
       "      <td>bhsA</td>\n",
       "      <td>1.798039</td>\n",
       "      <td>0.846424</td>\n",
       "      <td>0.035928</td>\n",
       "      <td>1.444561</td>\n",
       "    </tr>\n",
       "    <tr>\n",
       "      <th>2023</th>\n",
       "      <td>P76042</td>\n",
       "      <td>Putative ABC transporter periplasmic-binding p...</td>\n",
       "      <td>ycjN</td>\n",
       "      <td>NaN</td>\n",
       "      <td>NaN</td>\n",
       "      <td>NaN</td>\n",
       "      <td>NaN</td>\n",
       "    </tr>\n",
       "  </tbody>\n",
       "</table>\n",
       "<p>2024 rows × 7 columns</p>\n",
       "</div>"
      ],
      "text/plain": [
       "     Accession                                        Description Gene Symbol  \\\n",
       "0       P75936  Basal-body rod modification protein FlgD OS=Es...        flgD   \n",
       "1       P76231  Uncharacterized protein YeaC OS=Escherichia co...        yeaC   \n",
       "2       P0A8S9  Flagellar transcriptional regulator FlhD OS=Es...        flhD   \n",
       "3       P0CE48  Elongation factor Tu 2 OS=Escherichia coli (st...        tufB   \n",
       "4       P05706  PTS system glucitol/sorbitol-specific EIIA com...        srlB   \n",
       "...        ...                                                ...         ...   \n",
       "2019    P24240  6-phospho-beta-glucosidase AscB OS=Escherichia...        ascB   \n",
       "2020    P0A917  Outer membrane protein X OS=Escherichia coli (...        ompX   \n",
       "2021    P02931  Outer membrane protein F OS=Escherichia coli (...        ompF   \n",
       "2022    P0AB40  Multiple stress resistance protein BhsA OS=Esc...        bhsA   \n",
       "2023    P76042  Putative ABC transporter periplasmic-binding p...        ycjN   \n",
       "\n",
       "      Corrected Abundance ratio (1.53)  Log2 Corrected Abundance Ratio  \\\n",
       "0                             0.075817                       -3.721335   \n",
       "1                             0.092810                       -3.429569   \n",
       "2                             0.102614                       -3.284695   \n",
       "3                                  NaN                             NaN   \n",
       "4                             0.108497                       -3.204277   \n",
       "...                                ...                             ...   \n",
       "2019                               NaN                             NaN   \n",
       "2020                          1.579739                        0.659686   \n",
       "2021                          1.754902                        0.811390   \n",
       "2022                          1.798039                        0.846424   \n",
       "2023                               NaN                             NaN   \n",
       "\n",
       "      Abundance Ratio Adj. P-Value: (127. T3 Tc WT) / (126. T0 WT)  \\\n",
       "0                                              0.000055              \n",
       "1                                              0.000351              \n",
       "2                                              0.000027              \n",
       "3                                                   NaN              \n",
       "4                                              0.019963              \n",
       "...                                                 ...              \n",
       "2019                                                NaN              \n",
       "2020                                           0.002226              \n",
       "2021                                           0.000068              \n",
       "2022                                           0.035928              \n",
       "2023                                                NaN              \n",
       "\n",
       "      LOG10 Adj.P-val  \n",
       "0            4.260067  \n",
       "1            3.454627  \n",
       "2            4.571899  \n",
       "3                 NaN  \n",
       "4            1.699768  \n",
       "...               ...  \n",
       "2019              NaN  \n",
       "2020         2.652391  \n",
       "2021         4.164956  \n",
       "2022         1.444561  \n",
       "2023              NaN  \n",
       "\n",
       "[2024 rows x 7 columns]"
      ]
     },
     "execution_count": 6,
     "metadata": {},
     "output_type": "execute_result"
    }
   ],
   "source": [
    "data"
   ]
  },
  {
   "cell_type": "code",
   "execution_count": null,
   "metadata": {},
   "outputs": [],
   "source": []
  },
  {
   "cell_type": "markdown",
   "metadata": {},
   "source": [
    "###### Représenter la distribution des **RA** des protéines de l'experience [**Log2 Corrected Abundance Ratio**]\n",
    "La méthode [Axes.hist()](https://matplotlib.org/stable/api/_as_gen/matplotlib.axes.Axes.hist.html#matplotlib.axes.Axes.hist) permet de dessiner des histogrammes.\n",
    "\n",
    "Rappel: La taile de la grille est donnée par les paramètres *ncols, nrows*, comme dans lci dessous\n",
    "  \n",
    "`fig1, ( (ax1, ax2), (ax3, ax4) ) = plt.subplots(figsize=(10,6), ncols=2, nrows=2)`\n",
    "\n",
    "Les valeurs du paramètre *bin* peuvent fortement influencer la forme de l'histogramme.\n",
    "\n",
    "\n",
    "<span style=\"color:firebrick;font-weight:bold\"> $\\rhd$Réaliser une grille 2x2 avec 4 histogrammes, chacun étant paramétré avec une valeur différente de l'option *bins*. Choisissez, quatre valeurs illustrant l'effet du paramètre bin. Vous ajouterez un titre à chaque histogramme indiquant son nombre de bins/catégorie</span>"
   ]
  },
  {
   "cell_type": "code",
   "execution_count": 7,
   "metadata": {},
   "outputs": [
    {
     "data": {
      "image/png": "[encoded data removed]",
      "text/plain": [
       "<Figure size 1000x600 with 4 Axes>"
      ]
     },
     "metadata": {},
     "output_type": "display_data"
    }
   ],
   "source": [
    "fig1, ( (ax1, ax2), (ax3, ax4) ) = plt.subplots(figsize=(10,6), ncols=2, nrows=2)\n",
    "ax1.hist(data[data.columns[4]])\n",
    "ax2.hist(data[data.columns[4]],bins=50, color='red')\n",
    "ax3.hist(data[data.columns[4]],bins=100, color='orange')\n",
    "ax4.hist(data[data.columns[4]],bins=500, color='green')\n",
    "fig1.tight_layout()"
   ]
  },
  {
   "cell_type": "markdown",
   "metadata": {},
   "source": [
    "### Représenter et utiliser la densité de probabilité estimée à partir d'un échantillon\n",
    " A.Démonstration sur un jeu de données aléatoire simple\n",
    "   1. Génération de l'échantillon à partir d'une loi normale\n",
    "   2. Histogramme des valeurs de l'échantillon\n",
    "   3. Estimation de la densité de probabilité à partir de l'échantillon\n",
    "   4. Comparaison et superposition de l'histogramme et de la courbe de densité\n",
    "   5. Determiner et représenter un seuil de valeurs remarquables parmi l'échantillon\n",
    "   \n",
    "B. Application de cette technique au jeu de données expérimentales"
   ]
  },
  {
   "cell_type": "markdown",
   "metadata": {},
   "source": [
    "###### 1/ Générer 1000 valeurs normalement distribuées.\n",
    "```python\n",
    "mu, sigma = 0, 0.1 # mean and standard deviation\n",
    "s = np.random.normal(mu, sigma, 1000)\n",
    "print(f\"s est un tableau de {len(s)} valeurs normalement distribuées autour de {mu}\")\n",
    "print(f\"Les 10 premières valeurs de s sont \\n{s[:10]}\")\n",
    "```\n",
    "<span style=\"color:green;font-weight:bold\">$\\uparrow$ Reproduire cet exemple dans la cellule ci-dessous.$\\downarrow$ </span>"
   ]
  },
  {
   "cell_type": "code",
   "execution_count": 8,
   "metadata": {},
   "outputs": [
    {
     "name": "stdout",
     "output_type": "stream",
     "text": [
      "s est un tableau de 1000 valeurs normalement distribuées autour de 0\n",
      "Les 10 premières valeurs de s sont \n",
      "[-0.06316569  0.09248233  0.0740239  -0.01574749 -0.09752371  0.07427805\n",
      " -0.07953955  0.0714713   0.08502288  0.0048376 ]\n"
     ]
    }
   ],
   "source": [
    "mu, sigma = 0, 0.1 # mean and standard deviation\n",
    "s = np.random.normal(mu, sigma, 1000)\n",
    "print(f\"s est un tableau de {len(s)} valeurs normalement distribuées autour de {mu}\")\n",
    "print(f\"Les 10 premières valeurs de s sont \\n{s[:10]}\")"
   ]
  },
  {
   "cell_type": "markdown",
   "metadata": {},
   "source": [
    "###### 2/ Créer une figure dotée d'un seul \"axe\"\n",
    "Dessinons-y l'histogramme des valeurs précedemment générées\n",
    "```python\n",
    "fig2, f2_ax = plt.subplots(figsize=(5,3), ncols=1, nrows=1)\n",
    "count, bins, barObj = f2_ax.hist(s, 50, density=True) \n",
    "```\n",
    "\n",
    "<span style=\"color:green;font-weight:bold\">$\\uparrow$ Reproduire cet exemple dans la cellule ci-dessous $\\downarrow$ </span>\n",
    "\n",
    "<span style=\"color:firebrick;font-weight:bold\"> $\\rhd$ Inspecter les contenus des variables *count* et *bin* retournées par la méthode Axes.hist()</span>\n"
   ]
  },
  {
   "cell_type": "code",
   "execution_count": 9,
   "metadata": {},
   "outputs": [
    {
     "data": {
      "image/png": "[encoded data removed]",
      "text/plain": [
       "<Figure size 500x300 with 1 Axes>"
      ]
     },
     "metadata": {},
     "output_type": "display_data"
    }
   ],
   "source": [
    "fig2, f2_ax = plt.subplots(figsize=(5,3), ncols=1, nrows=1)\n",
    "count, bins, barObj = f2_ax.hist(s, 50, density=True) "
   ]
  },
  {
   "cell_type": "markdown",
   "metadata": {},
   "source": [
    "###### 3/ Estimer la densité de probabilité à partir de l'échantillon de 1000 valeurs par une technique de noyau gaussien\n",
    "Oui c'est bête :D, nous savons que la densité sous-jacente est celle d'une loi normale, mais l'exemple est ainsi assez simple.\n",
    "```python\n",
    "from scipy.stats.kde import gaussian_kde\n",
    "pdf_by_gaussian = gaussian_kde(s)\n",
    "```\n",
    "\n",
    "<span style=\"color:green;font-weight:bold\">$\\uparrow$ Reproduire cet exemple dans la cellule ci-dessous $\\downarrow$ </span>\n",
    "<br/><span style=\"color:firebrick;font-weight:bold\"> $\\rhd$ Expliquer les valeurs retournés par <br/><i>pdf_by_gaussian(-1)</i><br/><i>pdf_by_gaussian(0)</i><br/><i>pdf_by_gaussian(-1)</i></span>\n"
   ]
  },
  {
   "cell_type": "code",
   "execution_count": 10,
   "metadata": {},
   "outputs": [
    {
     "name": "stdout",
     "output_type": "stream",
     "text": [
      "[7.24331058e-171]\n",
      "[3.85939338]\n",
      "[1.70616452e-156]\n"
     ]
    }
   ],
   "source": [
    "from scipy.stats.kde import gaussian_kde\n",
    "pdf_by_gaussian = gaussian_kde(s)\n",
    "print(pdf_by_gaussian(-1))\n",
    "print(pdf_by_gaussian(0))\n",
    "print(pdf_by_gaussian(+1))"
   ]
  },
  {
   "cell_type": "markdown",
   "metadata": {},
   "source": [
    "###### 3(suite)/ Générer la courbe cette densité\n",
    "* Prenons 1000 points points également répartis entre le minimum et le maximum du jeu de données\n",
    "* Générons les valeurs correspondantes dans la densité\n",
    "```$python\n",
    "x_kde = np.linspace(min(s),max(s), 1000)\n",
    "y_kde = pdf_by_gaussian(x_kde)\n",
    "```\n",
    "\n",
    "<span style=\"color:green;font-weight:bold\">$\\uparrow$ Reproduire cet exemple dans la cellule ci-dessous $\\downarrow$ </span>\n",
    "\n",
    "<span style=\"color:firebrick;font-weight:bold\">$\\rhd$ Dessiner ces deux listes de valeurs dans un graphique [simple](https://matplotlib.org/stable/api/_as_gen/matplotlib.axes.Axes.plot.html) </span>"
   ]
  },
  {
   "cell_type": "code",
   "execution_count": 11,
   "metadata": {},
   "outputs": [
    {
     "data": {
      "text/plain": [
       "[<matplotlib.lines.Line2D at 0x7f59f0cb76a0>]"
      ]
     },
     "execution_count": 11,
     "metadata": {},
     "output_type": "execute_result"
    },
    {
     "data": {
      "image/png": "[encoded data removed]",
      "text/plain": [
       "<Figure size 500x300 with 1 Axes>"
      ]
     },
     "metadata": {},
     "output_type": "display_data"
    }
   ],
   "source": [
    "x_kde = np.linspace(min(s),max(s), 1000)\n",
    "y_kde = pdf_by_gaussian(x_kde)\n",
    "\n",
    "fig2, f2_ax = plt.subplots(figsize=(5,3), ncols=1, nrows=1)\n",
    "count, bins, barObj = f2_ax.hist(s, 50, density=True) \n",
    "f2_ax.plot(y_kde)"
   ]
  },
  {
   "cell_type": "markdown",
   "metadata": {},
   "source": [
    "#### 4/ Représentation graphique de la courbe de densité et de l'histogramme d'échantillon\n",
    "<span style=\"color:firebrick;font-weight:bold\">$\\rhd$Combiner en une figure l'histogramme obtenu en <span style=\"font-weight:bold\">[2]</span> et la courbe de la densité de probabilité obtenue en <span style=\"font-weight:bold\">[3]</span></span>"
   ]
  },
  {
   "cell_type": "code",
   "execution_count": 12,
   "metadata": {},
   "outputs": [
    {
     "data": {
      "text/plain": [
       "[<matplotlib.lines.Line2D at 0x7f59f0c495b0>]"
      ]
     },
     "execution_count": 12,
     "metadata": {},
     "output_type": "execute_result"
    },
    {
     "data": {
      "image/png": "[encoded data removed]",
      "text/plain": [
       "<Figure size 500x300 with 1 Axes>"
      ]
     },
     "metadata": {},
     "output_type": "display_data"
    }
   ],
   "source": [
    "x_kde = np.linspace(min(s),max(s), 1000)\n",
    "y_kde = pdf_by_gaussian(x_kde)\n",
    "fig2, f2_ax = plt.subplots(figsize=(5,3), ncols=1, nrows=1)\n",
    "count, bins, barObj = f2_ax.hist(s, 50, density=True) \n",
    "f2_ax.plot(x_kde,y_kde)\n"
   ]
  },
  {
   "cell_type": "markdown",
   "metadata": {},
   "source": [
    "<span style=\"color:green;font-weight:bold\">$\\uparrow$ En se basant sur la figure précédente$\\downarrow$ </span>\n",
    "\n",
    "Mettez le paramètre `density` à False sur `count, bins, barObj = f2_ax.hist(s, 50, density=True)`\n",
    "<br/><span style=\"color:firebrick;font-weight:bold\">$\\rhd$ Qu'observez-vous en ordonnées? Les unités ont-elles changées ? Pourquoi ?</span>\n",
    "<br/><span style=\"color:firebrick;font-weight:bold\">$\\rhd$  Pouvez-vous expliquer le changement de \"forme\" de la courbe de densité?</span>\n",
    "<br/><span style=\"color:firebrick;font-weight:bold\">$\\rhd$  L'aire sous la courbe et/ou sous l'histogramme change-t-elle avec la valeur du paramètre <span style=\"font-weight:normal\">`density`?</span></span>"
   ]
  },
  {
   "cell_type": "code",
   "execution_count": 13,
   "metadata": {},
   "outputs": [
    {
     "data": {
      "text/plain": [
       "[<matplotlib.lines.Line2D at 0x7f5a052d0b50>]"
      ]
     },
     "execution_count": 13,
     "metadata": {},
     "output_type": "execute_result"
    },
    {
     "data": {
      "image/png": "[encoded data removed]",
      "text/plain": [
       "<Figure size 500x300 with 1 Axes>"
      ]
     },
     "metadata": {},
     "output_type": "display_data"
    }
   ],
   "source": [
    "x_kde = np.linspace(min(s),max(s), 1000)\n",
    "y_kde = pdf_by_gaussian(x_kde)\n",
    "fig2, f2_ax = plt.subplots(figsize=(5,3), ncols=1, nrows=1)\n",
    "count, bins, barObj = f2_ax.hist(s, 50, density=False) \n",
    "f2_ax.plot(x_kde,y_kde)"
   ]
  },
  {
   "cell_type": "markdown",
   "metadata": {},
   "source": [
    "Peut-on imaginer une technique pour dessiner histogramme et courbe de densité avec les bonnes unités en ordonnée ?\n",
    "Les variables count et bins peuvent notamment vous aider à calculer l'aire totale sous l'histogramme.\n",
    "<br/><span style=\"color:firebrick;font-weight:bold\">$\\rhd$  Dessiner histogramme et courbe de densité avec les bonnes unités et les légendes et titres correspondants.</span>"
   ]
  },
  {
   "cell_type": "code",
   "execution_count": 14,
   "metadata": {},
   "outputs": [
    {
     "data": {
      "text/plain": [
       "[<matplotlib.lines.Line2D at 0x7f59f0afa970>]"
      ]
     },
     "execution_count": 14,
     "metadata": {},
     "output_type": "execute_result"
    },
    {
     "data": {
      "image/png": "[encoded data removed]",
      "text/plain": [
       "<Figure size 500x300 with 1 Axes>"
      ]
     },
     "metadata": {},
     "output_type": "display_data"
    }
   ],
   "source": [
    "x_kde = np.linspace(min(s),max(s), 1000)\n",
    "y_kde = pdf_by_gaussian(x_kde)\n",
    "fig3, f3_ax = plt.subplots(figsize=(5,3), ncols=1, nrows=1)\n",
    "hist_res = f3_ax.hist(s, density=False, bins=50)\n",
    "dx = hist_res[1][1]-hist_res[1][0]\n",
    "scale = dx*len(s)\n",
    "f3_ax.plot(x_kde,y_kde*scale)"
   ]
  },
  {
   "cell_type": "markdown",
   "metadata": {},
   "source": [
    "#### 4/ Recherche du seuil alpha\n",
    "\n",
    "Le package scipy.integrate permet de calculer l'intégrale exacte d'une fonction \n",
    "\n",
    "`integral_value, residu = scipy.integrate.quad(f, borne_inf, borne_sup)`\n",
    "\n",
    "A l'aide de l'exemple ci-dessus:\n",
    "<br/><span style=\"color:firebrick;font-weight:bold\">$\\rhd$Calculer la valeur de l'aire sous la courbe de densité estimée entre les valeurs minimale et maximale du jeux de données.</span>\n",
    "<br/><span style=\"color:firebrick;font-weight:bold\">$\\rhd$Chercher la borne d'intégration inférieure **alpha** correspondant \"à peu près\" à 5% de l'aire totale sous la courbe de la densité de probabilité estimée.</span>\n"
   ]
  },
  {
   "cell_type": "code",
   "execution_count": 15,
   "metadata": {},
   "outputs": [
    {
     "name": "stdout",
     "output_type": "stream",
     "text": [
      "0.049999999999999364\n",
      "0.1708830602210605\n"
     ]
    }
   ],
   "source": [
    "import scipy\n",
    "integral_value, residu = scipy.integrate.quad(pdf_by_gaussian, min(s),max(s))\n",
    "start = min(s)\n",
    "end = max(s)\n",
    "target = start\n",
    "while (integral_value>0.050000000000001 or integral_value<0.049999999999999):\n",
    "    if integral_value>0.050000000000001:\n",
    "        start = target\n",
    "        target = (target+end)/2\n",
    "    else:\n",
    "        end = target\n",
    "        target = (target+start)/2\n",
    "    integral_value, residu = scipy.integrate.quad(pdf_by_gaussian, target, max(s))\n",
    "print(integral_value)\n",
    "print(target)"
   ]
  },
  {
   "cell_type": "markdown",
   "metadata": {},
   "source": [
    "###### 5/ Représentation graphique du seuil alpha\n",
    "Redessinez le graphique *histogramme et courbe de densité* mais avec:\n",
    "<br/><span style=\"color:firebrick;font-weight:bold\">$\\rhd$une ligne verticale rouge matérialisant le seuil <i>alpha</i></span>\n",
    "<br/><span style=\"color:firebrick;font-weight:bold\">$\\rhd$Un [texte](https://matplotlib.org/stable/api/_as_gen/matplotlib.axes.Axes.text.html) `alpha(5%) = {valeur de alpha}`</span>\n",
    "<br/><span style=\"color:firebrick;font-weight:bold\">$\\rhd$(Bonus) coloriez en rouge [l'aire sous la courbe](https://matplotlib.org/stable/api/_as_gen/matplotlib.axes.Axes.fill_between.html) de densité correspondant à l'intégrale calculée.</span>"
   ]
  },
  {
   "cell_type": "code",
   "execution_count": 16,
   "metadata": {},
   "outputs": [
    {
     "data": {
      "text/plain": [
       "<matplotlib.lines.Line2D at 0x7f59f0aac910>"
      ]
     },
     "execution_count": 16,
     "metadata": {},
     "output_type": "execute_result"
    },
    {
     "data": {
      "image/png": "[encoded data removed]",
      "text/plain": [
       "<Figure size 500x300 with 1 Axes>"
      ]
     },
     "metadata": {},
     "output_type": "display_data"
    }
   ],
   "source": [
    "x_kde = np.linspace(min(s),max(s), 1000)\n",
    "y_kde = pdf_by_gaussian(x_kde)\n",
    "fig3, f3_ax = plt.subplots(figsize=(5,3), ncols=1, nrows=1)\n",
    "hist_res = f3_ax.hist(s, density=False, bins=50)\n",
    "dx = hist_res[1][1]-hist_res[1][0]\n",
    "scale = dx*len(s)\n",
    "f3_ax.plot(x_kde,y_kde*scale)\n",
    "f3_ax.axvline(target, color='red')"
   ]
  },
  {
   "cell_type": "markdown",
   "metadata": {},
   "source": [
    "## Appliquez cette méthode pour determiner un seuil alpha pour le Ratio d'Abondance\n",
    "$\\Rightarrow$ Echantillon de valeurs `Log2 Corrected Abundance Ratio`\n",
    "1. Estimation de la densité à partir de l'échantillon par noyau gaussien \n",
    "2. Calcul du seuil alpha\n",
    "3. Représentation graphique\n",
    "    * Histogramme\n",
    "    * Densité \n",
    "    * seuil alpha"
   ]
  },
  {
   "cell_type": "code",
   "execution_count": 17,
   "metadata": {},
   "outputs": [
    {
     "name": "stdout",
     "output_type": "stream",
     "text": [
      "-0.0977520223573736\n",
      "0.05\n",
      "-0.0977520223573736\n"
     ]
    },
    {
     "data": {
      "image/png": "[encoded data removed]",
      "text/plain": [
       "<Figure size 800x600 with 1 Axes>"
      ]
     },
     "metadata": {},
     "output_type": "display_data"
    }
   ],
   "source": [
    "d = data_no_null.iloc[:,4]\n",
    "gaussian = gaussian_kde(d)\n",
    "x_kde = np.linspace(min(d),max(d), 1000)\n",
    "y_kde = gaussian(x_kde)\n",
    "fig3, f3_ax = plt.subplots(figsize=(8,6), ncols=1, nrows=1)\n",
    "hist_res = f3_ax.hist(d, density=False, bins=50)\n",
    "dx = hist_res[1][1]-hist_res[1][0]\n",
    "scale = dx*len(d)\n",
    "f3_ax.plot(x_kde,y_kde*scale)\n",
    "\n",
    "integral_value, residu = scipy.integrate.quad(gaussian, min(d),max(d))\n",
    "start = min(d)\n",
    "end = max(d)\n",
    "target = start\n",
    "while (integral_value>0.05000000000000001 or integral_value<0.04999999999999999):\n",
    "    if integral_value>0.05000000000000001:\n",
    "        start = target\n",
    "        target = (target+end)/2\n",
    "    else:\n",
    "        end = target\n",
    "        target = (target+start)/2\n",
    "    integral_value, residu = scipy.integrate.quad(gaussian, target, max(d))\n",
    "print(target)\n",
    "print(integral_value)\n",
    "f3_ax.axvline(target, color='red')\n",
    "f3_ax.text(x=0, y=200, s='alpha = 5%', color ='red')\n",
    "plt.fill_between(x_kde,y_kde*scale, where=x_kde>=target, color='red', alpha=0.5)\n",
    "print(target)"
   ]
  },
  {
   "cell_type": "code",
   "execution_count": null,
   "metadata": {},
   "outputs": [],
   "source": []
  }
 ],
 "metadata": {
  "kernelspec": {
   "display_name": "Python 3 (ipykernel)",
   "language": "python",
   "name": "python3"
  },
  "language_info": {
   "codemirror_mode": {
    "name": "ipython",
    "version": 3
   },
   "file_extension": ".py",
   "mimetype": "text/x-python",
   "name": "python",
   "nbconvert_exporter": "python",
   "pygments_lexer": "ipython3",
   "version": "3.8.8"
  }
 },
 "nbformat": 4,
 "nbformat_minor": 2
}
