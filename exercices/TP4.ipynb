{
 "cells": [
  {
   "cell_type": "markdown",
   "metadata": {},
   "source": [
    "# Création d'un scatter plot (plus) interactif\n",
    "\n",
    "Nous allons maitenant explorer la librarie [ipywidget](https://ipywidgets.readthedocs.io/en/latest/index.html).\n",
    "Elle permet la construction d'un interface utilisateur dans les cellules du notebook. Elle peut prendre en charge:\n",
    "* [La création d'éléments](https://ipywidgets.readthedocs.io/en/latest/examples/Widget%20List.html)(les *widgets*) comme un bouton ou un slider\n",
    "* [L'organisation des éléments](https://ipywidgets.readthedocs.io/en/latest/examples/Layout%20Templates.html) dans la cellule d'affichage de Jupyter\n",
    "* L'expression de lien entres éléments et figure matplotlib pour permettre d'interagire avec ces images.\n",
    "\n",
    "L'objectif est de fournir ici une introduction à ce module. Nous nous limiterons donc à l'utilisation de la fonction [interact](https://ipywidgets.readthedocs.io/en/latest/examples/Using%20Interact.html#) pour interagir avec le scatter plot précedent.\n"
   ]
  },
  {
   "cell_type": "code",
   "execution_count": 4,
   "metadata": {},
   "outputs": [],
   "source": [
    "import sys\n",
    "\n",
    "rootDir = \"//ifb/data/mydatalocal\"\n",
    "projectDir = rootDir + \"/VDBscratch\"\n",
    "libDir = projectDir + \"/lib\"\n",
    "dataDir= \"/ifb/data/public/teachdata/m2binf_ucbl/data\" \n",
    "\n",
    "sys.path.append(libDir)"
   ]
  },
  {
   "cell_type": "code",
   "execution_count": 5,
   "metadata": {},
   "outputs": [],
   "source": [
    "import pandas, uniprot, go\n",
    "import numpy as np\n",
    "from stat_utils import computeORA_BKG\n",
    "%matplotlib widget\n",
    "\n",
    "import matplotlib.pyplot as plt"
   ]
  },
  {
   "cell_type": "markdown",
   "metadata": {},
   "source": [
    "#### Visualisation des abondances et Pathway pour chaque protéine\n",
    "Nous allons représenter la relation entre l'abondance des protéines (**Log2 Corrected Abundance Ratio**)  et la précision de la mesure (**LOG10 Adj.P-val**). \n",
    "###### Creation du scatter plot\n",
    "[matplotlib.axes.Axes.scatter()](https://matplotlib.org/3.1.1/api/_as_gen/matplotlib.axes.Axes.scatter.html) permet d'intialiser le graphique.\n",
    "###### Modification continue du scatter plot\n",
    "Mais cette fonction retourne aussi un objet [PathCollection](https://matplotlib.org/3.1.1/api/collections_api.html) qui permet de modifier à posteriori le rendu des points du scatter plot.\n",
    "###### Interactivité\n",
    "Elle sera ici prise en charge par la fonction interact dont le fonctionnement est illustré ci-dessous.\n",
    "\n"
   ]
  },
  {
   "cell_type": "markdown",
   "metadata": {},
   "source": [
    "### Exemple de widgets"
   ]
  },
  {
   "cell_type": "markdown",
   "metadata": {},
   "source": [
    "#### widget simple"
   ]
  },
  {
   "cell_type": "code",
   "execution_count": 6,
   "metadata": {},
   "outputs": [
    {
     "data": {
      "application/vnd.jupyter.widget-view+json": {
       "model_id": "4b1c2ec39f6548aeb406b4f9ce29e796",
       "version_major": 2,
       "version_minor": 0
      },
      "text/plain": [
       "IntSlider(value=0)"
      ]
     },
     "metadata": {},
     "output_type": "display_data"
    }
   ],
   "source": [
    "import ipywidgets as widgets\n",
    "from IPython.display import display\n",
    "w = widgets.IntSlider()\n",
    "display(w)"
   ]
  },
  {
   "cell_type": "markdown",
   "metadata": {},
   "source": [
    "#### widgets combinés"
   ]
  },
  {
   "cell_type": "code",
   "execution_count": 7,
   "metadata": {},
   "outputs": [
    {
     "data": {
      "application/vnd.jupyter.widget-view+json": {
       "model_id": "a8368f8d1d4e4d17a67f660718629fb8",
       "version_major": 2,
       "version_minor": 0
      },
      "text/plain": [
       "FloatText(value=0.0)"
      ]
     },
     "metadata": {},
     "output_type": "display_data"
    },
    {
     "data": {
      "application/vnd.jupyter.widget-view+json": {
       "model_id": "d79bb7477c044b8eb7350b9d39f4f308",
       "version_major": 2,
       "version_minor": 0
      },
      "text/plain": [
       "FloatSlider(value=0.0)"
      ]
     },
     "metadata": {},
     "output_type": "display_data"
    }
   ],
   "source": [
    "a = widgets.FloatText()\n",
    "b = widgets.FloatSlider()\n",
    "display(a,b)\n",
    "\n",
    "mylink = widgets.jslink((a, 'value'), (b, 'value'))"
   ]
  },
  {
   "cell_type": "markdown",
   "metadata": {},
   "source": [
    "#### Inférence du widget avec interact\n",
    "Jupyter construit le widget adapté au paramètre de la fonction interact. Ici un nombre *w* flottant. On va spécifier la modification à apporter à la figure dans le corps de la fonction *update*."
   ]
  },
  {
   "cell_type": "code",
   "execution_count": 8,
   "metadata": {},
   "outputs": [
    {
     "data": {
      "application/vnd.jupyter.widget-view+json": {
       "model_id": "fc20b300f5744ac4afa6acd86ae0c197",
       "version_major": 2,
       "version_minor": 0
      },
      "text/plain": [
       "Canvas(toolbar=Toolbar(toolitems=[('Home', 'Reset original view', 'home', 'home'), ('Back', 'Back to previous …"
      ]
     },
     "metadata": {},
     "output_type": "display_data"
    },
    {
     "data": {
      "application/vnd.jupyter.widget-view+json": {
       "model_id": "5692ad16dd9543e0bd8978bd4adbb78a",
       "version_major": 2,
       "version_minor": 0
      },
      "text/plain": [
       "interactive(children=(FloatSlider(value=1.0, description='w', max=3.0, min=-1.0), Output()), _dom_classes=('wi…"
      ]
     },
     "metadata": {},
     "output_type": "display_data"
    }
   ],
   "source": [
    "from ipywidgets import interact\n",
    "import numpy as np\n",
    "import matplotlib.pyplot as plt\n",
    "\n",
    "x = np.linspace(0, 2 * np.pi)\n",
    "fig = plt.figure()\n",
    "ax = fig.add_subplot(1, 1, 1)\n",
    "line, = ax.plot(x, np.sin(x))\n",
    "\n",
    "def update(w = 1.0):\n",
    "    line.set_ydata(np.sin(w * x))\n",
    "    fig.canvas.draw_idle()\n",
    "\n",
    "interact(update);"
   ]
  },
  {
   "cell_type": "markdown",
   "metadata": {},
   "source": [
    "Jupyter construit le widget adapté au paramètre de la fonction interact. **Ici une liste**."
   ]
  },
  {
   "cell_type": "code",
   "execution_count": 9,
   "metadata": {},
   "outputs": [
    {
     "data": {
      "application/vnd.jupyter.widget-view+json": {
       "model_id": "f0932e2bd7294033be8c16030f338f89",
       "version_major": 2,
       "version_minor": 0
      },
      "text/plain": [
       "Canvas(toolbar=Toolbar(toolitems=[('Home', 'Reset original view', 'home', 'home'), ('Back', 'Back to previous …"
      ]
     },
     "metadata": {},
     "output_type": "display_data"
    },
    {
     "data": {
      "application/vnd.jupyter.widget-view+json": {
       "model_id": "0603e41f80bd4e1989f723983877cda9",
       "version_major": 2,
       "version_minor": 0
      },
      "text/plain": [
       "interactive(children=(Dropdown(description='w', options=(1, 3, 6), value=1), Output()), _dom_classes=('widget-…"
      ]
     },
     "metadata": {},
     "output_type": "display_data"
    }
   ],
   "source": [
    "from ipywidgets import interact\n",
    "import numpy as np\n",
    "import matplotlib.pyplot as plt\n",
    "\n",
    "#%matplotlib notebook\n",
    "\n",
    "x = np.linspace(0, 2 * np.pi)\n",
    "fig = plt.figure()\n",
    "ax = fig.add_subplot(1, 1, 1)\n",
    "line, = ax.plot(x, np.sin(x))\n",
    "\n",
    "def update(w):\n",
    "    line.set_ydata(np.sin(w * x))\n",
    "    fig.canvas.draw_idle()\n",
    "\n",
    "interact(update, w=[1,3,6]);"
   ]
  },
  {
   "cell_type": "markdown",
   "metadata": {},
   "source": [
    "Pour plus de contrôle, un widget peut être créé explicitement et passé à la fonction interact, **ici un Dropdown**"
   ]
  },
  {
   "cell_type": "code",
   "execution_count": 8,
   "metadata": {},
   "outputs": [
    {
     "data": {
      "application/vnd.jupyter.widget-view+json": {
       "model_id": "06457ad01bd04d77998bd221bcc91795",
       "version_major": 2,
       "version_minor": 0
      },
      "text/plain": [
       "Canvas(toolbar=Toolbar(toolitems=[('Home', 'Reset original view', 'home', 'home'), ('Back', 'Back to previous …"
      ]
     },
     "metadata": {},
     "output_type": "display_data"
    },
    {
     "data": {
      "application/vnd.jupyter.widget-view+json": {
       "model_id": "3e2a1c753f44414fb68fae205c906bb1",
       "version_major": 2,
       "version_minor": 0
      },
      "text/plain": [
       "interactive(children=(Dropdown(description='Number:', index=1, options=(1, 2, 3), value=2), Output()), _dom_cl…"
      ]
     },
     "metadata": {},
     "output_type": "display_data"
    }
   ],
   "source": [
    "listDropW = widgets.Dropdown(\n",
    "    options=[1, 2, 3],\n",
    "    value=2,\n",
    "    description='Number:',\n",
    "    disabled=False,\n",
    ")\n",
    "\n",
    "x = np.linspace(0, 2 * np.pi)\n",
    "fig = plt.figure()\n",
    "ax = fig.add_subplot(1, 1, 1)\n",
    "line, = ax.plot(x, np.sin(x))\n",
    "\n",
    "def update(w):\n",
    "    line.set_ydata(np.sin(w * x))\n",
    "    fig.canvas.draw_idle()\n",
    "\n",
    "interact(update, w=listDropW);"
   ]
  },
  {
   "cell_type": "markdown",
   "metadata": {},
   "source": [
    "## Volcano plot interactif\n",
    "\n",
    "Nous pouvons desormais construire un volcano plot interactif dans lequel:\n",
    "* un widget contiendra la liste des pathway\n",
    "* une interaction avec la liste mettra en évidence les protéines de ce pathway"
   ]
  },
  {
   "cell_type": "markdown",
   "metadata": {},
   "source": [
    "#### Préparation des données\n",
    "\n",
    "Réutiliser le travail du **TP3**.\n",
    "\n",
    "* Lecture des données pandas.\n",
    "    1. Filtrage des protéines quantifiées\n",
    "    2. Assignation à chaque protéine des 'Log2 Corrected Abundance Ratio' et 'LOG10 Adj.P-val'\n",
    "    \n",
    "    \n",
    "* Lecture de l'ontologie GO.\n",
    "    1. Lecture des données protéome entier.\n",
    "    2. Analyse ORA sur l'arbre de termes de votre choix \n",
    "    3. Classement des termes GO par pValue croissante\n",
    "    4. Pour chacun des n termes GO ainsi classé, extraction des protéines de son sous-arbre.\n",
    "   \n",
    "   ###### OU\n",
    "    Deserialisation des données du TP2 `TP_ORA.json`\n",
    "\n",
    "##### Pour chaque proteine on travaillera donc\n",
    "* *Log2 Corrected Abundance Ratio*\n",
    "* *LOG10 Adj.P-val*\n",
    "* Une liste de pathway GO, avec leurs pvalues"
   ]
  },
  {
   "cell_type": "code",
   "execution_count": 10,
   "metadata": {},
   "outputs": [],
   "source": [
    "import pandas\n",
    "df=pandas.read_csv(projectDir + \"/TCL_wt1.tsv\", delimiter =\"\\t\")\n",
    "\n",
    "dfClean = df[ (df['Log2 Corrected Abundance Ratio'] != '#VALEUR!') & (df['LOG10 Adj.P-val'] != '#VALEUR!')]\n",
    "dfClean = dfClean.copy()\n",
    "dfClean.loc[:,'Log2 Corrected Abundance Ratio'] = dfClean.loc[:,'Log2 Corrected Abundance Ratio'].astype(float)\n",
    "dfClean.loc[:,'LOG10 Adj.P-val'] = dfClean.loc[:,'LOG10 Adj.P-val'].astype(float)\n",
    "\n",
    "\n",
    "saList = dfClean[ dfClean['Log2 Corrected Abundance Ratio'] > 0.0 ]['Accession'].tolist()\n",
    "allList = dfClean[ : ]['Accession'].tolist()\n",
    "pvalue = dfClean[ : ]['LOG10 Adj.P-val'].tolist()\n",
    "abundance = dfClean[ : ]['Log2 Corrected Abundance Ratio'].tolist()"
   ]
  },
  {
   "cell_type": "code",
   "execution_count": 11,
   "metadata": {},
   "outputs": [],
   "source": [
    "import json\n",
    "pathData = {}\n",
    "with open('/ifb/data/mydatalocal/VDB_jupyter/solutions/TP_ORA.json', 'r') as fp:\n",
    "    pathData = json.load(fp)\n",
    "\n",
    "x, y, label = (abundance, pvalue, allList)"
   ]
  },
  {
   "cell_type": "code",
   "execution_count": 12,
   "metadata": {},
   "outputs": [
    {
     "data": {
      "application/vnd.jupyter.widget-view+json": {
       "model_id": "18fc6881d414440aba356a00af8481a0",
       "version_major": 2,
       "version_minor": 0
      },
      "text/plain": [
       "Canvas(toolbar=Toolbar(toolitems=[('Home', 'Reset original view', 'home', 'home'), ('Back', 'Back to previous …"
      ]
     },
     "metadata": {},
     "output_type": "display_data"
    },
    {
     "data": {
      "application/vnd.jupyter.widget-view+json": {
       "model_id": "75dd268453ac44908e51a8ffb16a63c9",
       "version_major": 2,
       "version_minor": 0
      },
      "text/plain": [
       "interactive(children=(Dropdown(description='w', options=('amino acid transmembrane transport', 'L-alpha-amino …"
      ]
     },
     "metadata": {},
     "output_type": "display_data"
    },
    {
     "data": {
      "text/plain": [
       "<function __main__.update(w)>"
      ]
     },
     "execution_count": 12,
     "metadata": {},
     "output_type": "execute_result"
    }
   ],
   "source": [
    "fig = plt.figure()\n",
    "ax1 = fig.add_subplot(111)\n",
    "col = ax1.scatter(x, y)\n",
    "pathwayList = list(pathData.keys())\n",
    "\n",
    "def getColor(name, pathSel):\n",
    "    if name in pathData[pathSel]:\n",
    "        return 'tab:red'\n",
    "    return 'tab:gray'\n",
    "\n",
    "def update(w):\n",
    "   # Get selected pathway\n",
    "    pathSel = w\n",
    "   # Generate proper point color vector \n",
    "    newColors = [ getColor(name, pathSel) for name in label ]\n",
    "    col.set_color( newColors )\n",
    "\n",
    "   # Generate proper point sizes vector\n",
    "   #  col.set_sizes( )\n",
    "    pass\n",
    "\n",
    "interact(update, w=pathwayList)"
   ]
  },
  {
   "cell_type": "code",
   "execution_count": 16,
   "metadata": {
    "scrolled": false
   },
   "outputs": [
    {
     "data": {
      "application/vnd.jupyter.widget-view+json": {
       "model_id": "669a68e48d6a466aaa422058c08d3219",
       "version_major": 2,
       "version_minor": 0
      },
      "text/plain": [
       "Canvas(toolbar=Toolbar(toolitems=[('Home', 'Reset original view', 'home', 'home'), ('Back', 'Back to previous …"
      ]
     },
     "metadata": {},
     "output_type": "display_data"
    },
    {
     "data": {
      "application/vnd.jupyter.widget-view+json": {
       "model_id": "29ea821ee42746ef81d630597ae53446",
       "version_major": 2,
       "version_minor": 0
      },
      "text/plain": [
       "Button(description='Click Me!', style=ButtonStyle())"
      ]
     },
     "metadata": {},
     "output_type": "display_data"
    }
   ],
   "source": [
    "from IPython.display import display\n",
    "button = widgets.Button(description=\"Click Me!\")\n",
    "fig = plt.figure()\n",
    "ax1 = fig.add_subplot(111)\n",
    "col = ax1.scatter(x, y)\n",
    "\n",
    "display(button)\n",
    "def on_button_clicked(b):\n",
    "    col.set_color('tab:gray')\n",
    "\n",
    "button.on_click(on_button_clicked)"
   ]
  },
  {
   "cell_type": "code",
   "execution_count": 17,
   "metadata": {
    "scrolled": false
   },
   "outputs": [
    {
     "data": {
      "application/vnd.jupyter.widget-view+json": {
       "model_id": "6e76705b7e6f45b297774c31fa402e9f",
       "version_major": 2,
       "version_minor": 0
      },
      "text/plain": [
       "Canvas(toolbar=Toolbar(toolitems=[('Home', 'Reset original view', 'home', 'home'), ('Back', 'Back to previous …"
      ]
     },
     "metadata": {},
     "output_type": "display_data"
    },
    {
     "data": {
      "application/vnd.jupyter.widget-view+json": {
       "model_id": "fe72073503e54e128f690375156fa169",
       "version_major": 2,
       "version_minor": 0
      },
      "text/plain": [
       "interactive(children=(SelectMultiple(description='GO pathways', options=('ion transmembrane transport', 'L-glu…"
      ]
     },
     "metadata": {},
     "output_type": "display_data"
    },
    {
     "data": {
      "text/plain": [
       "<function __main__.update(w)>"
      ]
     },
     "execution_count": 17,
     "metadata": {},
     "output_type": "execute_result"
    }
   ],
   "source": [
    "fig = plt.figure()\n",
    "ax1 = fig.add_subplot(111)\n",
    "col = ax1.scatter(x, y)\n",
    "pathwayList = list(pathData.keys())\n",
    "\n",
    "wSel = widgets.SelectMultiple(\n",
    "    options=pathwayList,\n",
    "    description='GO pathways',\n",
    "    disabled=False\n",
    ")\n",
    "\n",
    "def getColorMult(name, pathSelList):\n",
    "    for pathSel in pathSelList:\n",
    "        if name in pathData[pathSel]:\n",
    "            return 'tab:red'\n",
    "    return 'tab:gray'\n",
    "\n",
    "def update(w):\n",
    "    pathSelList = w\n",
    "    # Get selected pathway\n",
    "   # Generate proper point color vector \n",
    "    newColors = [ getColorMult(name, pathSelList) for name in label ]\n",
    "    col.set_color( newColors )\n",
    "   # Generate proper point sizes vector\n",
    "   #  col.set_sizes( )\n",
    "    \n",
    "interact(update, w=wSel)"
   ]
  },
  {
   "cell_type": "code",
   "execution_count": 18,
   "metadata": {},
   "outputs": [
    {
     "data": {
      "application/vnd.jupyter.widget-view+json": {
       "model_id": "48cf70de8fc04b8fadd5148820ffc591",
       "version_major": 2,
       "version_minor": 0
      },
      "text/plain": [
       "Canvas(toolbar=Toolbar(toolitems=[('Home', 'Reset original view', 'home', 'home'), ('Back', 'Back to previous …"
      ]
     },
     "metadata": {},
     "output_type": "display_data"
    },
    {
     "data": {
      "application/vnd.jupyter.widget-view+json": {
       "model_id": "d86cd388d6ab47269d7adac1d9a62a88",
       "version_major": 2,
       "version_minor": 0
      },
      "text/plain": [
       "interactive(children=(Dropdown(description='Pathway:', options=('ion transmembrane transport', 'L-glutamate tr…"
      ]
     },
     "metadata": {},
     "output_type": "display_data"
    },
    {
     "data": {
      "application/vnd.jupyter.widget-view+json": {
       "model_id": "7d62dd1277b7485bb37f98c1b8f89690",
       "version_major": 2,
       "version_minor": 0
      },
      "text/plain": [
       "interactive(children=(ToggleButtons(description='Representation', options=('Color', 'Size', 'Both'), tooltips=…"
      ]
     },
     "metadata": {},
     "output_type": "display_data"
    },
    {
     "data": {
      "text/plain": [
       "<function __main__.updateToggle(w)>"
      ]
     },
     "execution_count": 18,
     "metadata": {},
     "output_type": "execute_result"
    }
   ],
   "source": [
    "x,y, labels = (abundance, pvalue, allList)\n",
    "fig = plt.figure()\n",
    "ax1 = fig.add_subplot(111)\n",
    "col = ax1.scatter(x, y)\n",
    "\n",
    "\n",
    "dType = None\n",
    "\n",
    "\n",
    "pathways = list(pathData.keys())\n",
    "\n",
    "def getColor(name, pathway_label):\n",
    "    #print(name)\n",
    "    #print(pathway_label)\n",
    "    if name in pathData[pathway_label]:\n",
    "        return 'tab:red'\n",
    "    else:\n",
    "        return 'tab:grey'\n",
    "\n",
    "def getSize(name, pathway_label, min_v = 10, max_v = 100):\n",
    "    if name in pathData[pathway_label]:\n",
    "        return max_v\n",
    "    else:\n",
    "        return min_v\n",
    "\n",
    "wid_button = widgets.ToggleButtons(\n",
    "    options=['Color', 'Size', 'Both'],\n",
    "    description='Representation',\n",
    "    disabled=False,\n",
    "    button_style='', # 'success', 'info', 'warning', 'danger' or ''\n",
    "    tooltips=['Description of slow', 'Description of regular', 'Description of fast'],\n",
    "#     icons=['check'] * 3\n",
    ")\n",
    "\n",
    "wid_dropdown = widgets.Dropdown(\n",
    "    options=pathways,\n",
    "    description='Pathway:',\n",
    "    disabled=False,\n",
    ")\n",
    "\n",
    "def updateDropdown(w):\n",
    "    pathway_label =  w\n",
    "    newcolors = [ getColor(name, pathway_label) for name in labels ]\n",
    "    newsize = [ getSize(name, pathway_label) for name in labels ]\n",
    "    col.set_color(newcolors)\n",
    "    col.set_sizes(newsize)\n",
    "\n",
    "def updateToggle(w):\n",
    "    dType = w\n",
    "    print(dType)\n",
    "    \n",
    "interact(updateDropdown,w=wid_dropdown)\n",
    "interact(updateToggle, w=wid_button)\n"
   ]
  },
  {
   "cell_type": "code",
   "execution_count": 21,
   "metadata": {},
   "outputs": [
    {
     "ename": "NameError",
     "evalue": "name 'create_expanded_button' is not defined",
     "output_type": "error",
     "traceback": [
      "\u001b[0;31m---------------------------------------------------------------------------\u001b[0m",
      "\u001b[0;31mNameError\u001b[0m                                 Traceback (most recent call last)",
      "\u001b[0;32m<ipython-input-21-731f9b7f8274>\u001b[0m in \u001b[0;36m<module>\u001b[0;34m\u001b[0m\n\u001b[1;32m      1\u001b[0m \u001b[0;32mfrom\u001b[0m \u001b[0mipywidgets\u001b[0m \u001b[0;32mimport\u001b[0m \u001b[0mAppLayout\u001b[0m\u001b[0;34m,\u001b[0m \u001b[0mButton\u001b[0m\u001b[0;34m,\u001b[0m \u001b[0mLayout\u001b[0m\u001b[0;34m\u001b[0m\u001b[0;34m\u001b[0m\u001b[0m\n\u001b[0;32m----> 2\u001b[0;31m \u001b[0mheader_button\u001b[0m \u001b[0;34m=\u001b[0m \u001b[0mcreate_expanded_button\u001b[0m\u001b[0;34m(\u001b[0m\u001b[0;34m'Header'\u001b[0m\u001b[0;34m,\u001b[0m \u001b[0;34m'success'\u001b[0m\u001b[0;34m)\u001b[0m\u001b[0;34m\u001b[0m\u001b[0;34m\u001b[0m\u001b[0m\n\u001b[0m\u001b[1;32m      3\u001b[0m \u001b[0mleft_button\u001b[0m \u001b[0;34m=\u001b[0m \u001b[0mcreate_expanded_button\u001b[0m\u001b[0;34m(\u001b[0m\u001b[0;34m'Left'\u001b[0m\u001b[0;34m,\u001b[0m \u001b[0;34m'info'\u001b[0m\u001b[0;34m)\u001b[0m\u001b[0;34m\u001b[0m\u001b[0;34m\u001b[0m\u001b[0m\n\u001b[1;32m      4\u001b[0m \u001b[0mcenter_button\u001b[0m \u001b[0;34m=\u001b[0m \u001b[0mcreate_expanded_button\u001b[0m\u001b[0;34m(\u001b[0m\u001b[0;34m'Center'\u001b[0m\u001b[0;34m,\u001b[0m \u001b[0;34m'warning'\u001b[0m\u001b[0;34m)\u001b[0m\u001b[0;34m\u001b[0m\u001b[0;34m\u001b[0m\u001b[0m\n\u001b[1;32m      5\u001b[0m \u001b[0mright_button\u001b[0m \u001b[0;34m=\u001b[0m \u001b[0mcreate_expanded_button\u001b[0m\u001b[0;34m(\u001b[0m\u001b[0;34m'Right'\u001b[0m\u001b[0;34m,\u001b[0m \u001b[0;34m'info'\u001b[0m\u001b[0;34m)\u001b[0m\u001b[0;34m\u001b[0m\u001b[0;34m\u001b[0m\u001b[0m\n",
      "\u001b[0;31mNameError\u001b[0m: name 'create_expanded_button' is not defined"
     ]
    }
   ],
   "source": [
    "dd"
   ]
  }
 ],
 "metadata": {
  "kernelspec": {
   "display_name": "Python 3",
   "language": "python",
   "name": "python3"
  },
  "language_info": {
   "codemirror_mode": {
    "name": "ipython",
    "version": 3
   },
   "file_extension": ".py",
   "mimetype": "text/x-python",
   "name": "python",
   "nbconvert_exporter": "python",
   "pygments_lexer": "ipython3",
   "version": "3.7.3"
  }
 },
 "nbformat": 4,
 "nbformat_minor": 2
}
