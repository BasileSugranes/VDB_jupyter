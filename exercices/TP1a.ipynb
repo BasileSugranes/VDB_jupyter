{
 "cells": [
  {
   "cell_type": "markdown",
   "metadata": {},
   "source": [
    "##### Please `pip install -r requirements.txt` first\n",
    "\n",
    "##### Directory Configuration\n",
    "\n",
    "* `workDir` points to the Git project, holds the *tsv* file\n",
    "* `libDir` points to Git project subdirectory hosting python library with files names `go.py  stat_utils.py  uniprot.py`\n",
    "* `dataDir` points to the data folder with uniprot and GO files"
   ]
  },
  {
   "cell_type": "code",
   "execution_count": 4,
   "metadata": {},
   "outputs": [],
   "source": [
    "import sys, os\n",
    "workDir = f\"{os.getcwd()}/..\"\n",
    "libDir = f\"{workDir}/lib\"\n",
    "dataDir= f\"{workDir}/../data\" \n",
    "\n",
    "sys.path.append(libDir)"
   ]
  },
  {
   "cell_type": "code",
   "execution_count": null,
   "metadata": {},
   "outputs": [],
   "source": [
    "import pandas, uniprot, go\n",
    "import numpy as np"
   ]
  },
  {
   "cell_type": "code",
   "execution_count": 6,
   "metadata": {},
   "outputs": [],
   "source": [
    "%matplotlib nbagg\n",
    "import matplotlib.pyplot as plt"
   ]
  },
  {
   "cell_type": "markdown",
   "metadata": {},
   "source": [
    "## Jeux de données\n",
    "* Experimental dataset as TSV\n",
    "* Go ontology as [owl](http://www.obofoundry.org/ontology/go.html)\n",
    "* Uniprot entries as XML files\n",
    "\n",
    "## Objectifs\n",
    "1. Lire et traiter des données d'entrée avec [PANDAS](https://pandas.pydata.org/)\n",
    "\n",
    "2. Représenter la distribution empirique des \"fold-change\" (**FC**)\n",
    "    * Representation d'une grille d'histogrammes\n",
    "    * Explorer l'effet du paramètre: nombre de catégories\n",
    "    * Se familliariser avec les objets Axes et Figure\n",
    "    \n",
    "3. Evaluer un seuil de **FDR** 5%, avec une approximation par noyau Gaussien de la distribution.\n",
    "    * Génération d'un jeu de données unimodal (génération par une loi normale)      \n",
    "    * \n",
    "    * Rapport d'intégrales et seuil alpha\n",
    "    \n",
    "2. Modélisation hypergéometrique des fréquence attendues des termes GO\n",
    "        * Les protéines très abondantes présentent-elles des termes GO en quantité remarquable ?\n",
    "        * Les protéines peu abondantes présentent-elles des termes GO en quantité remarquable ?\n",
    "    3. Visualisation de l'arbre avec style des noeuds rendant compte des protéines qu'ils annotent\n",
    "4. Analyse de l'enrichissement en pathway Gene Ontology\n",
    "     \n",
    "5. Volcano plot\n",
    "    1. Scatter-Plot **FC** vs **LOG10 Adj.P-val**\n",
    "    2. Colorer les protéines très/peu abondantes\n",
    "    3. ipyWidget slider FDR permettant de changer les seuils \"d'abondance\" \n",
    "    \n",
    "6. Volcano Plot présentant les pathways\n",
    "    1. ipyWidget Slider\n",
    "    2. Coloration des points pour les protéines annotées par ce pathway \n",
    "\n",
    "## Conclusion\n",
    "* Compare wt/mutant conditions\n",
    "\n",
    "\n",
    "## Ressources\n",
    "https://www.bioconductor.org/help/course-materials/2015/SeattleApr2015/E_GeneSetEnrichment.html\n",
    "\n",
    "https://matplotlib.org/gallery.html#\n",
    "\n",
    "\n"
   ]
  },
  {
   "cell_type": "markdown",
   "metadata": {},
   "source": [
    "## Format des données expérimentales\n",
    "\n",
    "Le terme *RA*, désigne le **R**atio d'**A**bondance pour une protéines entre deux experiences.\n",
    "\n",
    "Les valeurs de **SA** sont stockées dans la colonne ```Log2 Corrected Abundance Ratio```.\n",
    "\n",
    "Un \"ratio\" négatif indique qu'une protéine est moins présente dans l'experience considéré par rapport à une experience de référence.\n",
    "\n",
    "* La condition experimentale de référence est un milieu de croissance bactérienne\n",
    "* La condition experimentale testée est un milieu riche en Tétracycline \n",
    "\n"
   ]
  },
  {
   "cell_type": "markdown",
   "metadata": {},
   "source": [
    "# Première exploration des données"
   ]
  },
  {
   "cell_type": "markdown",
   "metadata": {},
   "source": [
    "### Lecture des valeurs experimentales\n",
    "Charger ```TCL_wt1.tsv``` dans une [dataframe pandas](https://pandas.pydata.org/pandas-docs/stable/reference/api/pandas.read_csv.html).\n",
    "* Retirer les lignes présentant des aberrations numériques\n",
    "\n",
    "##### [Comment filtrer des lignes Pandas](https://cmdlinetips.com/2018/02/how-to-subset-pandas-dataframe-based-on-values-of-a-column/)"
   ]
  },
  {
   "cell_type": "code",
   "execution_count": null,
   "metadata": {},
   "outputs": [],
   "source": [
    "#### A VOUS DE JOUER"
   ]
  },
  {
   "cell_type": "markdown",
   "metadata": {},
   "source": [
    "# Visualisation de la distribution empirique\n",
    "\n",
    "MATPLOTLIB repose sur deux objets principaux:\n",
    "* [Figure](https://matplotlib.org/stable/api/figure_api.html)\n",
    "* [AXE](https://matplotlib.org/stable/api/axes_api.html#basic)\n",
    "\n",
    "\n",
    "Représenter la distribution des **RA** des protéines de l'experience [**Log2 Corrected Abundance Ratio**].\n",
    "* Réaliser une grille 2x2 avec 4 histogrammes présentant chacun un nombre de catégories différent.\n",
    "    * Histogramme est une [méthode des objets AXE]\n",
    "(https://matplotlib.org/stable/api/_as_gen/matplotlib.axes.Axes.hist.html#matplotlib.axes.Axes.hist)\n",
    "    * La taile de la grille est donnée par les paramètres *ncols, nrows*, voir ci dessous\n",
    "  \n",
    "`fig1, ( (ax1, ax2), (ax3, ax4) ) = plt.subplots(figsize=(10,6), ncols=2, nrows=2)`"
   ]
  },
  {
   "cell_type": "code",
   "execution_count": 1,
   "metadata": {},
   "outputs": [],
   "source": [
    "#### A VOUS DE JOUER"
   ]
  },
  {
   "cell_type": "markdown",
   "metadata": {},
   "source": [
    "### Réaliser une Kernel Density Estimation sur un histogramme matplotlib à l'aide du package scipy.\n",
    "#### 1. En manipulant une représentation déjà produite sur un jeu de données aléatoires\n",
    "#### 2. En appliquant cette technique au jeu de données expérimentales"
   ]
  },
  {
   "cell_type": "markdown",
   "metadata": {},
   "source": [
    "###### 1/ Générer 1000 valeurs normalement distribuées.\n",
    "$\\Rightarrow$ Evaluez la cellule suivante"
   ]
  },
  {
   "cell_type": "code",
   "execution_count": null,
   "metadata": {},
   "outputs": [],
   "source": [
    "mu, sigma = 0, 0.1 # mean and standard deviation\n",
    "s = np.random.normal(mu, sigma, 1000)\n",
    "print(f\"s est un tableau de {len(s)} valeurs normalement distribuées autour de {mu}\")\n",
    "print(f\"Les 10 premières valeurs de s sont \\n{s[:10]}\")"
   ]
  },
  {
   "cell_type": "markdown",
   "metadata": {},
   "source": [
    "###### 2/ Créer une figure dotée d'un seul \"axe\"\n",
    "Dessinons-y l'histogramme des valeurs précedemment générées\n",
    "* La méthode ax.hist retourne des valeurs !\n",
    "* Observez les contenus de *count* et *bin*\n",
    "\n",
    "$\\Rightarrow$ Evaluez la cellule suivante"
   ]
  },
  {
   "cell_type": "code",
   "execution_count": null,
   "metadata": {},
   "outputs": [],
   "source": [
    "fig2, f2_ax = plt.subplots(figsize=(5,3), ncols=1, nrows=1)\n",
    "count, bins, barObj = f2_ax.hist(s, 50, density=True) "
   ]
  },
  {
   "cell_type": "markdown",
   "metadata": {},
   "source": [
    "###### 2/ Estimer la densité de probabilité des 1000 valeurs par noyau Gaussien\n",
    "Oui c'est bête :D, nous savons que la densité sous-jacente est celle d'une loi normale, mais l'exemple est ainsi assez simple.\n",
    "\n",
    "$\\Rightarrow$ Evaluez la cellule suivante"
   ]
  },
  {
   "cell_type": "code",
   "execution_count": 11,
   "metadata": {},
   "outputs": [],
   "source": [
    "from scipy.stats.kde import gaussian_kde\n",
    "pdf_by_gaussian = gaussian_kde(s)"
   ]
  },
  {
   "cell_type": "markdown",
   "metadata": {},
   "source": [
    "###### 2(suite)/ Générer la courbe cette densité\n",
    "* Prenons 1000 points points également répartis entre le minimum et le maximum du jeu de données\n",
    "* Générons les valeurs correspondantes dans la densité\n",
    "\n",
    "$\\Rightarrow$ Evaluez la cellule suivante\n",
    "\n",
    "Vous pouvez plotez ces deux listes de valeurs dans un graphique simple"
   ]
  },
  {
   "cell_type": "code",
   "execution_count": 12,
   "metadata": {},
   "outputs": [],
   "source": [
    "x_kde = np.linspace(min(s),max(s), 1000)\n",
    "y_kde = pdf_by_gaussian(x_kde)"
   ]
  },
  {
   "cell_type": "markdown",
   "metadata": {},
   "source": [
    "#### 3/ Estimation de densité et histogramme\n",
    "\n",
    "* Ajoutez sur le même graphique histogramme et courbe de densité\n",
    "\n",
    "* Mettez le paramètre `density` à False sur `count, bins, barObj = f2_ax.hist(s, 50, density=True)`\n",
    "    * Qu'observez-vous en ordonnées?\n",
    "    * Pouvez-vous expliquer le changement de \"forme\" de la courbe de densité?\n",
    "    * L'aire sous la courbe et/ou sous l'histogramme change-t-elle avec le booléen density?\n",
    "\n",
    "\n",
    "* Peut-on imaginer une technique pour dessiner histogramme et courbe de densité avec les bonnes unités en ordonnées ?\n",
    "    * Les variables count et bins peuvent notamment vous aider à calculer l'aire totale sous l'histogramme.\n",
    "    \n",
    "* Dessiner histogramme et courbe de densité avec les bonnes unités et les légendes et titres correspondants."
   ]
  },
  {
   "cell_type": "code",
   "execution_count": null,
   "metadata": {},
   "outputs": [],
   "source": [
    "#### A VOUS DE JOUER"
   ]
  },
  {
   "cell_type": "markdown",
   "metadata": {},
   "source": [
    "#### 4/ Recherche du seuil alpha\n",
    "\n",
    "Le package scipy.integrate permet de calculer l'intégrale exacte d'une fonction \n",
    "\n",
    "`integral_value, residu = scipy.integrate.quad(f, borne_inf, borne_sup)`\n",
    "\n",
    "* A l'aide de l'exemple ci-dessus:\n",
    "\n",
    "    * Calculer la valeur de l'aire sous la courbe de densité estimée entre les valeurs minimale et maximale du jeux de données\n",
    "    * Chercher la borne d'intégration inférieure **alpha** correspondant \"à peu près\" à 5% de l'aire totale sous la courbe de la  de densité de probabilité estimée.\n"
   ]
  },
  {
   "cell_type": "code",
   "execution_count": null,
   "metadata": {},
   "outputs": [],
   "source": [
    "#### A VOUS DE JOUER"
   ]
  },
  {
   "cell_type": "markdown",
   "metadata": {},
   "source": [
    "###### 5/ Représentation graphique du seuil alpha\n",
    "Redessinez le graphique *histogramme et courbe de densité* mais avec:\n",
    "* une ligne verticale rouge matérialisant le seuil **alpha**\n",
    "* Un [texte](https://matplotlib.org/stable/api/_as_gen/matplotlib.axes.Axes.text.html) `alpha(5%) = {valeur de alpha}`\n",
    "* (Bonus) coloriez en rouge [l'aire sous la courbe](https://matplotlib.org/stable/api/_as_gen/matplotlib.axes.Axes.fill_between.html) de densité correspondant à l'intégrale calculée."
   ]
  },
  {
   "cell_type": "code",
   "execution_count": null,
   "metadata": {},
   "outputs": [],
   "source": [
    "#### A VOUS DE JOUER"
   ]
  },
  {
   "cell_type": "markdown",
   "metadata": {},
   "source": [
    "## Appliquez cette méthode pour determiner un seuil alpha pour le ratio d'abondance\n",
    "* Liste de valeurs `Log2 Corrected Abundance Ratio`\n",
    "1. Estimation de la densité par noyau gaussien \n",
    "2. Calcul du seuil alpha\n",
    "3. Représentation graphique\n",
    "    * Histogramme\n",
    "    * Densité \n",
    "    * seuil alpha"
   ]
  },
  {
   "cell_type": "code",
   "execution_count": null,
   "metadata": {},
   "outputs": [],
   "source": [
    "### Cellule Exercice"
   ]
  }
 ],
 "metadata": {
  "kernelspec": {
   "display_name": "Python [conda env:VDB_2021]",
   "language": "python",
   "name": "conda-env-VDB_2021-py"
  },
  "language_info": {
   "codemirror_mode": {
    "name": "ipython",
    "version": 3
   },
   "file_extension": ".py",
   "mimetype": "text/x-python",
   "name": "python",
   "nbconvert_exporter": "python",
   "pygments_lexer": "ipython3",
   "version": "3.8.5"
  }
 },
 "nbformat": 4,
 "nbformat_minor": 2
}
